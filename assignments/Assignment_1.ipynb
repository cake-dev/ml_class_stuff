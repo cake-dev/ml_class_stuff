{
 "cells": [
  {
   "cell_type": "markdown",
   "metadata": {},
   "source": [
    "# Assignment 1 - Probability, Linear Algebra, & Computational Programming"
   ]
  },
  {
   "cell_type": "markdown",
   "metadata": {},
   "source": [
    "## *YOUR FULL NAME HERE*\n",
    "Netid: Your netid here\n",
    "\n",
    "*Names of students you worked with on this assignment*: LIST HERE IF APPLICABLE (delete if not)\n",
    "\n",
    "Note: this assignment falls under collaboration Mode 2: Individual Assignment – Collaboration Permitted. Please refer to the syllabus for additional information."
   ]
  },
  {
   "cell_type": "markdown",
   "metadata": {},
   "source": [
    "Instructions for all assignments can be found [here](https://github.com/kylebradbury/ids705/blob/master/assignments/_Assignment%20Instructions.ipynb), and is also linked to from the [course syllabus](https://kylebradbury.github.io/ids705/index.html).\n",
    "\n",
    "Total points in the assignment add up to 90; an additional 10 points are allocated to presentation quality."
   ]
  },
  {
   "attachments": {},
   "cell_type": "markdown",
   "metadata": {},
   "source": [
    "#  Learning Objectives\n",
    "The purpose of this assignment is to provide a refresher on fundamental concepts that we will use throughout this course and provide an opportunity to develop skills in any of the related skills that may be unfamiliar to you. Through the course of completing this assignment, you will... \n",
    "- Refresh you knowledge of probability theory including properties of random variables, probability density functions,  cumulative distribution functions, and key statistics such as mean and variance.\n",
    "- Revisit common linear algebra and matrix operations and concepts such as matrix multiplication, inner and outer products, inverses, the Hadamard (element-wise) product, eigenvalues and eigenvectors, orthogonality, and symmetry.\n",
    "- Practice numerical programming, core to machine learning, by loading and filtering data, plotting data, vectorizing operations, profiling code speed, and debugging and optimizing performance. You will also practice computing probabilities based on simulation.\n",
    "- Develop or refresh your knowledge of Git version control, which will be a core tool used in the final project of this course\n",
    "- Apply your skills altogether through an exploratory data analysis to practice data cleaning, data manipulation, interpretation, and communication \n",
    "\n",
    "We will build on these concepts throughout the course, so use this assignment as a catalyst to deepen your knowledge and seek help with anything unfamiliar.\n",
    "\n",
    "If some references would be helpful on these topics, I would recommend the following resources:\n",
    "- [Mathematics for Machine Learning](https://mml-book.github.io/book/mml-book.pdf) by Deisenroth, Faisal, and Ong\n",
    "- [Deep Learning](https://www.deeplearningbook.org/); Part I: Applied Math and Machine Learning Basics by Goodfellow, Bengio, and Courville\n",
    "- [The Matrix Calculus You Need For Deep Learning](https://arxiv.org/pdf/1802.01528.pdf) by Parr and Howard\n",
    "- [Dive Into Deep Learning](https://d2l.ai/chapter_appendix-mathematics-for-deep-learning/index.html); Appendix: Mathematics for Deep Learning by Weness, Hu, et al.\n",
    "\n",
    "*Note: don't worry if you don't understand everything in the references above - some of these books dive into significant minutia of each of these topics.*"
   ]
  },
  {
   "attachments": {},
   "cell_type": "markdown",
   "metadata": {},
   "source": [
    "---\n",
    "\n",
    "# Probability and Statistics Theory"
   ]
  },
  {
   "attachments": {},
   "cell_type": "markdown",
   "metadata": {},
   "source": [
    "*Note: for all assignments, write out equations and math using markdown and [LaTeX](https://tobi.oetiker.ch/lshort/lshort.pdf). For this assignment show ALL math work for questions 1-4, meaning that you should include any intermediate steps necessary to understand the logic of your solution*"
   ]
  },
  {
   "attachments": {},
   "cell_type": "markdown",
   "metadata": {},
   "source": [
    "## 1\n",
    "**[3 points]**  \n",
    "Let $f(x) = \\begin{cases}\n",
    "                0           & x < 0  \\\\\n",
    "                \\alpha x^2  & 0 \\leq x \\leq 2 \\\\\n",
    "                0           & 2 < x\n",
    "            \\end{cases}$\n",
    "            \n",
    "For what value of $\\alpha$ is $f(x)$ a valid probability density function?"
   ]
  },
  {
   "cell_type": "markdown",
   "metadata": {},
   "source": [
    "A probabilty density function must integrate to 1, so we can solve for $\\alpha$ by setting the integral of $f(x)$ equal to 1 and solving for $\\alpha$:\n",
    "\n",
    "$$\n",
    "\\begin{align}\n",
    "\\int_{-\\infty}^{\\infty} f(x) dx &= 1 \\\\\n",
    "\\int_{-\\infty}^{0} 0 dx + \\int_{0}^{2} \\alpha x^2 dx + \\int_{2}^{\\infty} 0 dx &= 1 \\\\\n",
    "\\frac{\\alpha}{3} x^3 \\Big|_{0}^{2} &= 1 \\\\\n",
    "\\frac{\\alpha}{3} (2^3 - 0^3) &= 1 \\\\\n",
    "\\frac{8}{3} \\alpha &= 1 \\\\\n",
    "\\alpha &= \\frac{3}{8}\n",
    "\\end{align}\n",
    "$$"
   ]
  },
  {
   "attachments": {},
   "cell_type": "markdown",
   "metadata": {},
   "source": [
    "---\n",
    "\n",
    "## 2\n",
    "**[3 points]** What is the cumulative distribution function (CDF) that corresponds to the following probability distribution function? Please state the value of the CDF for all possible values of $x$.\n",
    "\n",
    "$f(x) = \\begin{cases}\n",
    "    \\frac{1}{3} & 0 < x < 3 \\\\\n",
    "    0           & \\text{otherwise}\n",
    "    \\end{cases}$"
   ]
  },
  {
   "cell_type": "markdown",
   "metadata": {},
   "source": [
    "**ANSWER**\n",
    "\n",
    "The CDF is the integral of the PDF, so we can solve for the CDF by integrating $f(x)$:\n",
    "\n",
    "$$\n",
    "\\begin{align}\n",
    "F(x) &= \\int_{-\\infty}^{x} f(x) dx \\\\\n",
    "&= \\int_{-\\infty}^{0} 0 dx + \\int_{0}^{x} \\frac{1}{3} dx + \\int_{x}^{3} 0 dx \\\\\n",
    "&= \\frac{1}{3} x \\Big|_{0}^{x} \\\\\n",
    "&= \\frac{1}{3} x\n",
    "\\end{align}\n",
    "$$\n",
    "\n",
    "The CDF is:\n",
    "$f(x) = \\begin{cases}\n",
    "    \\frac{1}{3}x & 0 < x < 3 \\\\\n",
    "    0 & x \\leq 0 \\\\\n",
    "    1 & x \\geq 3\n",
    "    \\end{cases}$"
   ]
  },
  {
   "attachments": {},
   "cell_type": "markdown",
   "metadata": {},
   "source": [
    "---\n",
    "\n",
    "## 3\n",
    "**[6 points]** For the probability distribution function for the random variable $X$,\n",
    "\n",
    "$f(x) = \\begin{cases}\n",
    "    \\frac{1}{3} & 0 < x < 3 \\\\\n",
    "    0           & \\text{otherwise}\n",
    "    \\end{cases}$\n",
    "    \n",
    "what is the (a) expected value and (b) variance of $X$. *Show all work*."
   ]
  },
  {
   "cell_type": "markdown",
   "metadata": {},
   "source": [
    "**ANSWER**\n",
    "\n",
    "The expected value of $X$ is the mean of $f(x)$:\n",
    "\n",
    "$$\n",
    "\\begin{align}\n",
    "E[X] &= \\int_{-\\infty}^{\\infty} xf(x) dx \\\\\n",
    "&= \\int_{-\\infty}^{0} 0 dx + \\int_{0}^{3} \\frac{1}{3} x dx + \\int_{3}^{\\infty} 0 dx \\\\\n",
    "&= \\frac{1}{3} \\frac{x^2}{2} \\Big|_{0}^{3} \\\\\n",
    "&= \\frac{1}{3} \\frac{3^2}{2} \\\\\n",
    "&= \\frac{3}{2}\n",
    "\\end{align}\n",
    "$$\n",
    "\n",
    "The variance of $X$:\n",
    "\n",
    "$$\n",
    "\\begin{align}\n",
    "Var[X] &= E[X^2] - E[X]^2 \\\\\n",
    "&= \\int_{-\\infty}^{\\infty} x^2 f(x) dx - \\left( \\frac{3}{2} \\right)^2 \\\\\n",
    "&= \\int_{-\\infty}^{0} 0 dx + \\int_{0}^{3} \\frac{1}{3} x^2 dx + \\int_{3}^{\\infty} 0 dx - \\left( \\frac{3}{2} \\right)^2 \\\\\n",
    "&= \\frac{1}{3} \\frac{x^3}{3} \\Big|_{0}^{3} - \\left( \\frac{3}{2} \\right)^2 \\\\\n",
    "&= \\frac{1}{3} \\frac{3^3}{3} - \\left( \\frac{3}{2} \\right)^2 \\\\\n",
    "&= 3 - \\frac{9}{4} \\\\\n",
    "&= \\frac{3}{4}\n",
    "\\end{align}\n",
    "$$\n"
   ]
  },
  {
   "attachments": {},
   "cell_type": "markdown",
   "metadata": {},
   "source": [
    "---\n",
    "\n",
    "## 4\n",
    "**[6 points]** Consider the following table of data that provides the values of a discrete data vector $\\mathbf{x}$ of samples from the random variable $X$, where each entry in $\\mathbf{x}$ is given as $x_i$.\n",
    "\n",
    "*Table 1. Dataset N=5 observations*\n",
    "\n",
    "|        | $x_0$ | $x_1$ | $x_2$ | $x_3$ | $x_4$ |\n",
    "|------  |-------|-------|-------|-------|-------|\n",
    "|$\\textbf{x}$| 2     | 3     | 10    | -1    | -1    |\n",
    "\n",
    "What is the (a) mean and (b) variance of the data? \n",
    "\n",
    "*Show all work. Your answer should include the definition of mean and variance in the context of discrete data. In this case, use the sample variance since the sample size is quite small*"
   ]
  },
  {
   "cell_type": "markdown",
   "metadata": {},
   "source": [
    "**ANSWER**\n",
    "\n",
    "Mean:\n",
    "\n",
    "$$\n",
    "\\begin{align}\n",
    "\\bar{x} &= \\frac{1}{N} \\sum_{i=0}^{N-1} x_i \\\\\n",
    "&= \\frac{1}{5} (2 + 3 + 10 + -1 + -1) \\\\\n",
    "&= \\frac{1}{5} 13 \\\\\n",
    "&= 2.6\n",
    "\\end{align}\n",
    "$$\n",
    "\n",
    "Variance:\n",
    "\n",
    "$$\n",
    "\\begin{align}\n",
    "\\sigma^2 &= \\frac{1}{N-1} \\sum_{i=0}^{N} (x_i - \\bar{x})^2 \\\\\n",
    "&= \\frac{1}{4} ((2 - 2.6)^2 + (3 - 2.6)^2 + (10 - 2.6)^2 + (-1 - 2.6)^2 + (-1 - 2.6)^2) \\\\\n",
    "&= \\frac{1}{4} (0.36 + 0.16 + 54.76 + 12.96 + 12.96) \\\\\n",
    "&= \\frac{1}{4} 81.2 \\\\\n",
    "&= 20.3\n",
    "\\end{align}\n",
    "$$\n"
   ]
  },
  {
   "attachments": {},
   "cell_type": "markdown",
   "metadata": {},
   "source": [
    "---\n",
    "\n",
    "# Linear Algebra"
   ]
  },
  {
   "attachments": {},
   "cell_type": "markdown",
   "metadata": {},
   "source": [
    "# 5\n",
    "\n",
    "**[5 points]** A common task in machine learning is a change of basis: transforming the representation of our data from one space to another. A prime example of this is through the process of dimensionality reduction as in Principle Components Analysis where we often seek to transform our data from one space (of dimension $n$) to a new space (of dimension $m$) where $m<n$. Assume we have a sample of data of dimension $n=4$ (as shown below) and we want to transform it into a dimension of $m=2$.\n",
    "\n",
    "$\\mathbf{x} =  \\begin{bmatrix}\n",
    "x_1 \\\\\n",
    "x_2 \\\\\n",
    "x_3 \\\\\n",
    "x_4 \n",
    "\\end{bmatrix}$"
   ]
  },
  {
   "attachments": {},
   "cell_type": "markdown",
   "metadata": {},
   "source": [
    "(a) What are the dimensions of a matrix, $\\mathbf{A}$, that would linearly transform our sample of data, $\\mathbf{x}$, into a space of $m=2$ through the operation $\\mathbf{Ax}$?\n",
    "\n",
    "(b) Express this transformation in terms of the components of $\\mathbf{x}$: $x_1$, $x_2$, $x_3$, $x_4$ and the matrix $\\mathbf{A}$ where each entry in the matrix is denoted as $a_{i,j}$ (e.g. the entry in the first row and second column would be $a_{1,2}$). Your answer will be in the form of a matrix expressing result of the product $\\mathbf{Ax}$.\n",
    "\n",
    "*Note: please write your answers here in LaTeX*"
   ]
  },
  {
   "attachments": {},
   "cell_type": "markdown",
   "metadata": {},
   "source": [
    "**ANSWER**\n",
    "\n",
    "a) The dimensions of $\\mathbf{A}$ are $2 \\times 4$.\n",
    "This is because the number of rows in $\\mathbf{A}$ must equal the number of columns in $\\mathbf{x}$, and the number of columns in $\\mathbf{A}$ must equal the number of rows in the transformed $\\mathbf{x}$.\n",
    "\n",
    "b) The transformation is:\n",
    "\n",
    "$$\n",
    "\\begin{align}\n",
    "\\mathbf{Ax} &= \\begin{bmatrix}\n",
    "a_{1,1} & a_{1,2} & a_{1,3} & a_{1,4} \\\\\n",
    "a_{2,1} & a_{2,2} & a_{2,3} & a_{2,4}\n",
    "\\end{bmatrix} \\begin{bmatrix}\n",
    "x_1 \\\\\n",
    "x_2 \\\\\n",
    "x_3 \\\\\n",
    "x_4\n",
    "\\end{bmatrix} \\\\\n",
    "&= \\begin{bmatrix}\n",
    "a_{1,1} x_1 + a_{1,2} x_2 + a_{1,3} x_3 + a_{1,4} x_4 \\\\\n",
    "a_{2,1} x_1 + a_{2,2} x_2 + a_{2,3} x_3 + a_{2,4} x_4\n",
    "\\end{bmatrix}\n",
    "\\end{align}\n",
    "$$\n"
   ]
  },
  {
   "attachments": {},
   "cell_type": "markdown",
   "metadata": {},
   "source": [
    "---\n",
    "\n",
    "## 6\n",
    "**[14 points]** **Matrix manipulations and multiplication**. Machine learning involves working with many matrices, so this exercise will provide you with the opportunity to practice those skills.\n",
    "\n",
    "Let\n",
    "$\\mathbf{A} =  \\begin{bmatrix}\n",
    "1 & 2 & 3 \\\\\n",
    "2 & 4 & 5 \\\\\n",
    "3 & 5 & 6 \n",
    "\\end{bmatrix}$, $\\mathbf{b} =  \\begin{bmatrix}\n",
    "-1  \\\\\n",
    "3  \\\\\n",
    "8  \n",
    "\\end{bmatrix}$, $\\mathbf{c} =  \\begin{bmatrix}\n",
    "4  \\\\\n",
    "-3  \\\\\n",
    "6  \n",
    "\\end{bmatrix}$, and $\\mathbf{I} =  \\begin{bmatrix}\n",
    "1 & 0 & 0 \\\\\n",
    "0 & 1 & 0 \\\\\n",
    "0 & 0 & 1 \n",
    "\\end{bmatrix}$\n",
    "\n",
    "Compute the following **using Python** or indicate that it cannot be computed. Refer to NumPy's tools for handling matrices. While all answers should be computer using Python, your response to whether each item can be computed should refer to underlying linear algebra. There may be circumstances when Python will produce an output, but based on the dimensions of the matrices involved, the linear algebra operation is not possible. **For the case when an operation is invalid, explain why it is not.**\n",
    "\n",
    "When the quantity can be computed, please provide both the Python code AND the output of that code (this need not be in LaTex)\n",
    "\n",
    "1. $\\mathbf{A}\\mathbf{A}$\n",
    "2. $\\mathbf{A}\\mathbf{A}^T$\n",
    "3. $\\mathbf{A}\\mathbf{b}$\n",
    "4. $\\mathbf{A}\\mathbf{b}^T$\n",
    "5. $\\mathbf{b}\\mathbf{A}$\n",
    "6. $\\mathbf{b}^T\\mathbf{A}$\n",
    "7. $\\mathbf{b}\\mathbf{b}$\n",
    "8. $\\mathbf{b}^T\\mathbf{b}$\n",
    "9. $\\mathbf{b}\\mathbf{b}^T$\n",
    "10. $\\mathbf{b} + \\mathbf{c}^T$\n",
    "11. $\\mathbf{b}^T\\mathbf{b}^T$\n",
    "12. $\\mathbf{A}^{-1}\\mathbf{b}$\n",
    "13. $\\mathbf{A}\\circ\\mathbf{A}$\n",
    "14. $\\mathbf{b}\\circ\\mathbf{c}$\n",
    "\n",
    "*Note: The element-wise (or Hadamard) product is the product of each element in one matrix with the corresponding element in another matrix, and is represented by the symbol \"$\\circ$\".*"
   ]
  },
  {
   "cell_type": "markdown",
   "metadata": {},
   "source": [
    "**ANSWER**"
   ]
  },
  {
   "cell_type": "markdown",
   "metadata": {},
   "source": [
    "to be a valid matrix multiplication, the number of columns in the first matrix must equal the number of rows in the second matrix.\n",
    "i.e. 3x3 times 3x1, if the 'inner' numbers are the same, they are valid for matrix multiplication, and the size of the resulting matrix is the 'outer' numbers."
   ]
  },
  {
   "cell_type": "code",
   "execution_count": 2,
   "metadata": {},
   "outputs": [
    {
     "name": "stdout",
     "output_type": "stream",
     "text": [
      "1. AA\n",
      "[[14 25 31]\n",
      " [25 45 56]\n",
      " [31 56 70]]\n",
      "2. AA^T\n",
      "[[14 25 31]\n",
      " [25 45 56]\n",
      " [31 56 70]]\n",
      "3. Ab\n",
      "[[29]\n",
      " [50]\n",
      " [60]]\n",
      "4. Ab^T\n",
      "invalid because the inner dimensions do not match 3x3 and 1x3\n",
      "5. bA\n",
      "invalid because the inner dimensions do not match 3x3 and 1x3\n",
      "6. b^TA\n",
      "[[29 50 60]]\n",
      "7. bb\n",
      "invalid because the inner dimensions do not match 1x3 and 1x3\n",
      "8. b^Tb\n",
      "[[74]]\n",
      "9. bb^T\n",
      "[[ 1 -3 -8]\n",
      " [-3  9 24]\n",
      " [-8 24 64]]\n",
      "10. b + c^T\n",
      "invalid because the inner dimensions do not match 1x3 and 1x3\n",
      "11. b^T*b^T\n",
      "invalid because the inner dimensions do not match 1x3 and 1x3\n",
      "12. A^-1b\n",
      "[[ 6.]\n",
      " [ 4.]\n",
      " [-5.]]\n",
      "13. A o A\n",
      "[[ 1  4  9]\n",
      " [ 4 16 25]\n",
      " [ 9 25 36]]\n",
      "14. b o c\n",
      "[[-4]\n",
      " [-9]\n",
      " [48]]\n"
     ]
    }
   ],
   "source": [
    "import numpy as np\n",
    "\n",
    "A = np.array([[1, 2, 3], [2, 4, 5], [3, 5, 6]])\n",
    "b = np.array([[-1], [3], [8]])\n",
    "c = np.array([[4], [-3], [6]])\n",
    "I = np.identity(3)\n",
    "bt = np.matrix.transpose(b)\n",
    "\n",
    "# 1 AA\n",
    "print(\"1. AA\")\n",
    "print(A @ A)  # valid since inner dimensions match 3x3 and 3x3\n",
    "\n",
    "# 2 AA^T\n",
    "print(\"2. AA^T\")\n",
    "print(A @ A.T)  # valid since inner dimensions match 3x3 and 3x3\n",
    "\n",
    "# 3 Ab\n",
    "print(\"3. Ab\")\n",
    "print(A @ b)  # valid since inner dimensions match 3x3 and 3x1\n",
    "\n",
    "# 4 Ab^T\n",
    "print(\"4. Ab^T\")\n",
    "print(\"invalid because the inner dimensions do not match 3x3 and 1x3\")\n",
    "\n",
    "# 5 bA\n",
    "print(\"5. bA\")\n",
    "print(\"invalid because the inner dimensions do not match 3x3 and 1x3\")\n",
    "\n",
    "# 6 b^TA\n",
    "print(\"6. b^TA\")\n",
    "print(b.T @ A)  # valid since inner dimensions match 1x3 and 3x3\n",
    "\n",
    "# 7 bb\n",
    "print(\"7. bb\")\n",
    "print(\"invalid because the inner dimensions do not match 1x3 and 1x3\")\n",
    "\n",
    "# 8 b^Tb\n",
    "print(\"8. b^Tb\")\n",
    "print(b.T @ b)  # valid since inner dimensions match 1x3 and 3x1\n",
    "\n",
    "# 9 bb^T\n",
    "print(\"9. bb^T\")\n",
    "print(b @ bt)  # valid since inner dimensions match 3x1 and 1x3\n",
    "\n",
    "# 10 b + c^T\n",
    "print(\"10. b + c^T\")\n",
    "print(\"invalid because the inner dimensions do not match 1x3 and 1x3\")\n",
    "\n",
    "# 11 b^T*b^T\n",
    "print(\"11. b^T*b^T\")\n",
    "print(\"invalid because the inner dimensions do not match 1x3 and 1x3\")\n",
    "\n",
    "# 12 A^-1b\n",
    "print(\"12. A^-1b\")\n",
    "print(np.linalg.inv(A) @ b)  # valid since inner dimensions match 3x3 and 3x1\n",
    "\n",
    "# 13 A o A\n",
    "print(\"13. A o A\")\n",
    "print(A * A)  # element wise multiplication valid since dimensions match 3x3 and 3x3\n",
    "\n",
    "# 14 b o c\n",
    "print(\"14. b o c\")\n",
    "print(b * c)  # element wise multiplication valid since dimensions match 1x3 and 1x3"
   ]
  },
  {
   "attachments": {},
   "cell_type": "markdown",
   "metadata": {},
   "source": [
    "---\n",
    "\n",
    "## 7\n",
    "**[8 points]** **Eigenvectors and eigenvalues**. Eigenvectors and eigenvalues are useful for some machine learning algorithms, but the concepts take time to solidly grasp. They are used extensively in machine learning and in this course we will encounter them in relation to Principal Components Analysis (PCA), clustering algorithms, For an intuitive review of these concepts, explore this [interactive website at Setosa.io](http://setosa.io/ev/eigenvectors-and-eigenvalues/). Also, the series of linear algebra videos by Grant Sanderson of 3Brown1Blue are excellent and can be viewed on youtube [here](https://www.youtube.com/playlist?list=PLZHQObOWTQDPD3MizzM2xVFitgF8hE_ab). For these questions, numpy may once again be helpful.\n",
    "\n",
    "1. Calculate the eigenvalues and corresponding eigenvectors of matrix $\\mathbf{A}$ above, from the last question.\n",
    "Let\n",
    "$\\mathbf{A} =  \\begin{bmatrix}\n",
    "1 & 2 & 3 \\\\\n",
    "2 & 4 & 5 \\\\\n",
    "3 & 5 & 6 \n",
    "\\end{bmatrix}$\n",
    "2. Choose one of the eigenvector/eigenvalue pairs, $\\mathbf{v}$ and $\\lambda$, and show that $\\mathbf{A} \\mathbf{v} = \\lambda \\mathbf{v}$. This relationship extends to higher orders: $\\mathbf{A} \\mathbf{A} \\mathbf{v} = \\lambda^2 \\mathbf{v}$\n",
    "3. Show that the eigenvectors are orthogonal to one another (e.g. their inner product is zero). This is true for eigenvectors from real, symmetric matrices. In three dimensions or less, this means that the eigenvectors are perpendicular to each other. Typically we use the orthogonal basis of our standard x, y, and z, Cartesian coordinates, which allows us, if we combine them linearly, to represent any point in a 3D space. But any three orthogonal vectors can do the same. We will see this property is used in PCA to identify the dimensions of greatest variation in our data when we discuss dimensionality reduction.\n"
   ]
  },
  {
   "cell_type": "markdown",
   "metadata": {},
   "source": [
    "**ANSWER**"
   ]
  },
  {
   "cell_type": "code",
   "execution_count": 4,
   "metadata": {},
   "outputs": [
    {
     "name": "stdout",
     "output_type": "stream",
     "text": [
      "1. Eigenvalues of A\n",
      "[11.34481428 -0.51572947  0.17091519]\n",
      "1. Eigenvectors of A\n",
      "[[-0.32798528 -0.73697623  0.59100905]\n",
      " [-0.59100905 -0.32798528 -0.73697623]\n",
      " [-0.73697623  0.59100905  0.32798528]]\n",
      "2. show that Av = lambda*v\n",
      "[-3.72093206 -6.70488789 -8.36085845]\n",
      "[-3.72093206 -6.70488789 -8.36085845]\n",
      "3. show that the eigenvectors are orthogonal\n",
      "-1.6653345369377348e-16\n",
      "-3.608224830031759e-16\n",
      "-5.828670879282072e-16\n",
      "The eigenvectors are orthogonal since the dot product of each eigenvector is 0 (or very close to 0, python moment)\n"
     ]
    }
   ],
   "source": [
    "eigenvalues, eigenvectors = np.linalg.eig(A)\n",
    "print(\"1. Eigenvalues of A\")\n",
    "print(eigenvalues)\n",
    "print(\"1. Eigenvectors of A\")\n",
    "print(eigenvectors)\n",
    "\n",
    "# 2. show that Av = lambda*v\n",
    "print(\"2. show that Av = lambda*v\")\n",
    "print(A@eigenvectors[:,0])\n",
    "print(eigenvalues[0]*eigenvectors[:,0])\n",
    "\n",
    "# 3 show that the eigenvectors are orthogonal\n",
    "print(\"3. show that the eigenvectors are orthogonal\")\n",
    "print(eigenvectors[:,0]@eigenvectors[:,1]) # slice the first column of the eigenvector matrix, then dot product with the second column\n",
    "print(eigenvectors[:,0]@eigenvectors[:,2])\n",
    "print(eigenvectors[:,1]@eigenvectors[:,2])\n",
    "print(\"The eigenvectors are orthogonal since the dot product of each eigenvector is 0 (or very close to 0, python moment)\")"
   ]
  },
  {
   "attachments": {},
   "cell_type": "markdown",
   "metadata": {},
   "source": [
    "---\n",
    "\n",
    "# Numerical Programming"
   ]
  },
  {
   "attachments": {},
   "cell_type": "markdown",
   "metadata": {},
   "source": [
    "## 8\n",
    "**[10 points]** Loading data and gathering insights from a real dataset\n",
    "\n",
    "In data science, we often need to have a sense of the idiosyncrasies of the data, how they relate to the questions we are trying to answer, and to use that information to help us to determine what approach, such as machine learning, we may need to apply to achieve our goal. This exercise provides practice in exploring a dataset and answering question that might arise from applications related to the data.\n",
    "\n",
    "**Data**. The data for this problem can be found in the `data` subfolder in the `assignments` folder on [github](https://github.com/kylebradbury/ids705). The filename is `a1_egrid2016.xlsx`. This dataset is the Environmental Protection Agency's (EPA) [Emissions & Generation Resource Integrated Database (eGRID)](https://www.epa.gov/energy/emissions-generation-resource-integrated-database-egrid) containing information about all power plants in the United States, the amount of generation they produce, what fuel they use, the location of the plant, and many more quantities. We'll be using a subset of those data.\n",
    "\n",
    "The fields we'll be using include:\t\t\t\t\t\n",
    "    \n",
    "|field    |description|\n",
    "|:-----   |:-----|\n",
    "|SEQPLT16 |eGRID2016 Plant file sequence number (the index)| \n",
    "|PSTATABB |Plant state abbreviation|\n",
    "|PNAME    |Plant name |\n",
    "|LAT      |Plant latitude |\n",
    "|LON      |Plant longitude|\n",
    "|PLPRMFL  |Plant primary fuel |\n",
    "|CAPFAC   |Plant capacity factor |\n",
    "|NAMEPCAP |Plant nameplate capacity (Megawatts MW)|\n",
    "|PLNGENAN |Plant annual net generation (Megawatt-hours MWh)|\n",
    "|PLCO2EQA |Plant annual CO2 equivalent emissions (tons)|\n",
    "\n",
    "For more details on the data, you can refer to the [eGrid technical documents](https://www.epa.gov/sites/default/files/2021-02/documents/egrid2019_technical_guide.pdf). For example, you may want to review page 45 and the section \"Plant Primary Fuel (PLPRMFL)\", which gives the full names of the fuel types including WND for wind, NG for natural gas, BIT for Bituminous coal, etc.\n",
    "\n",
    "There also are a couple of \"gotchas\" to watch out for with this dataset:\n",
    "- The headers are on the second row and you'll want to ignore the first row (they're more detailed descriptions of the headers).\n",
    "- NaN values represent blanks in the data. These will appear regularly in real-world data, so getting experience working with these sorts of missing values will be important.\n",
    "\n",
    "**Your objective**. For this dataset, your goal is to answer the following questions about electricity generation in the United States:\n",
    "\n",
    "**(a)** Which plant has generated the most energy (measured in MWh)?\n",
    "\n",
    "**(b)** What is the name of the northern-most power plant in the United States?\n",
    "\n",
    "**(c)** What is the state where the northern-most power plant in the United States is located?\n",
    "\n",
    "**(d)** Plot a bar plot showing the amount of energy produced by each fuel type across all plants. \n",
    "\n",
    "**(e)** From the plot in (d), which fuel for generation produces the most energy (MWh) in the United States?"
   ]
  },
  {
   "cell_type": "markdown",
   "metadata": {},
   "source": [
    "**ANSWER**"
   ]
  },
  {
   "cell_type": "code",
   "execution_count": 5,
   "metadata": {},
   "outputs": [],
   "source": [
    "import pandas as pd\n",
    "\n",
    "# get the file at data/a1_egrid2016.xlsx\n",
    "plants_df = pd.read_excel('data/a1_egrid2016.xlsx', sheet_name='PLNT16')"
   ]
  },
  {
   "cell_type": "code",
   "execution_count": 3,
   "metadata": {},
   "outputs": [
    {
     "data": {
      "text/plain": [
       "SEQPLT16      int64\n",
       "PSTATABB     object\n",
       "PNAME        object\n",
       "LAT         float64\n",
       "LON         float64\n",
       "PLPRMFL      object\n",
       "CAPFAC      float64\n",
       "NAMEPCAP    float64\n",
       "PLNGENAN    float64\n",
       "PLCO2EQA    float64\n",
       "dtype: object"
      ]
     },
     "execution_count": 3,
     "metadata": {},
     "output_type": "execute_result"
    }
   ],
   "source": [
    "plants_df.dtypes"
   ]
  },
  {
   "cell_type": "code",
   "execution_count": 6,
   "metadata": {},
   "outputs": [
    {
     "data": {
      "text/plain": [
       "'Palo Verde'"
      ]
     },
     "execution_count": 6,
     "metadata": {},
     "output_type": "execute_result"
    }
   ],
   "source": [
    "# **(a)** Which plant has generated the most energy (measured in MWh)?\n",
    "plants_df.loc[plants_df['PLNGENAN'].idxmax()].PNAME"
   ]
  },
  {
   "cell_type": "code",
   "execution_count": 24,
   "metadata": {},
   "outputs": [
    {
     "data": {
      "text/plain": [
       "'Barrow'"
      ]
     },
     "execution_count": 24,
     "metadata": {},
     "output_type": "execute_result"
    }
   ],
   "source": [
    "# **(b)** What is the name of the northern-most power plant in the United States?\n",
    "plants_df.loc[plants_df['LAT'].idxmax()].PNAME"
   ]
  },
  {
   "cell_type": "code",
   "execution_count": 25,
   "metadata": {},
   "outputs": [
    {
     "data": {
      "text/plain": [
       "'AK'"
      ]
     },
     "execution_count": 25,
     "metadata": {},
     "output_type": "execute_result"
    }
   ],
   "source": [
    "# **(c)** What is the state where the northern-most power plant in the United States is located?\n",
    "plants_df.loc[plants_df['LAT'].idxmax()].PSTATABB"
   ]
  },
  {
   "cell_type": "code",
   "execution_count": 11,
   "metadata": {},
   "outputs": [
    {
     "data": {
      "image/png": "[encoded data removed]",
      "text/plain": [
       "<Figure size 2000x1000 with 1 Axes>"
      ]
     },
     "metadata": {},
     "output_type": "display_data"
    }
   ],
   "source": [
    "# **(d)** Plot a bar plot showing the amount of energy produced by each fuel type across all plants. \n",
    "import matplotlib.pyplot as plt\n",
    "\n",
    "energyprod_by_fuel = plants_df.groupby('PLPRMFL')['PLNGENAN'].sum()\n",
    "energyprod_by_fuel.sort_values(ascending=False, inplace=True)\n",
    "plt.bar(energyprod_by_fuel.index, energyprod_by_fuel.values)\n",
    "plt.title('Energy produced by each fuel type across all plants')\n",
    "plt.xlabel('Fuel Type')\n",
    "plt.ylabel('Energy Produced (MWh)')\n",
    "# change width of plot\n",
    "plt.rcParams['figure.figsize'] = [10, 5]\n",
    "plt.show()"
   ]
  },
  {
   "cell_type": "code",
   "execution_count": 34,
   "metadata": {},
   "outputs": [
    {
     "name": "stdout",
     "output_type": "stream",
     "text": [
      "Appears to be NG (natural gas)\n"
     ]
    }
   ],
   "source": [
    "# **(e)** From the plot in (d), which fuel for generation produces the most energy (MWh) in the United States?\n",
    "print('Appears to be NG (natural gas)')"
   ]
  },
  {
   "attachments": {},
   "cell_type": "markdown",
   "metadata": {},
   "source": [
    "---\n",
    "\n",
    "## 9\n",
    "**[6 points]** *Vectorization*. When we first learn to code and think about iterating over an array, we often use loops. If implemented correctly, that does the trick. In machine learning, we iterate over so much data that those loops can lead to significant slow downs if they are not computationally efficient. In Python, vectorizing code and relying on matrix operations with efficient tools like numpy is typically the faster approach. Of course, numpy relies on loops to complete the computation, but this is at a lower level of programming (typically in C), and therefore is much more efficient. This exercise will explore the benefits of vectorization. Since many machine learning techniques rely on matrix operations, it's helpful to begin thinking about implementing algorithms using vector forms.\n",
    "\n",
    "Begin by creating an array of 10 million random numbers using the numpy `random.randn` module. Compute the sum of the squares of those random numbers first in a for loop, then using Numpy's `dot` module to perform an inner (dot) product. Time how long it takes to compute each and report the results and report the output. How many times faster is the vectorized code than the for loop approach? (Note - your results may vary from run to run).\n",
    "\n",
    "Your output should use the `print()` function as follows (where the # symbols represent your answers, to a reasonable precision of 4-5 significant figures):\n",
    "\n",
    "`Time [sec] (non-vectorized): ######`\n",
    "\n",
    "`Time [sec] (vectorized):     ######`\n",
    "\n",
    "`The vectorized code is ##### times faster than the nonvectorized code`"
   ]
  },
  {
   "cell_type": "markdown",
   "metadata": {},
   "source": [
    "**ANSWER**"
   ]
  },
  {
   "cell_type": "code",
   "execution_count": 39,
   "metadata": {},
   "outputs": [
    {
     "name": "stdout",
     "output_type": "stream",
     "text": [
      "4.808232100607948e-05\n"
     ]
    },
    {
     "ename": "KeyboardInterrupt",
     "evalue": "",
     "output_type": "error",
     "traceback": [
      "\u001b[0;31m---------------------------------------------------------------------------\u001b[0m",
      "\u001b[0;31mKeyboardInterrupt\u001b[0m                         Traceback (most recent call last)",
      "\u001b[1;32m/home/jake/School/Fall2023/ML/Code/ml_class_stuff/assignments/Assignment_1.ipynb Cell 38\u001b[0m in \u001b[0;36m<cell line: 11>\u001b[0;34m()\u001b[0m\n\u001b[1;32m     <a href='vscode-notebook-cell:/home/jake/School/Fall2023/ML/Code/ml_class_stuff/assignments/Assignment_1.ipynb#X51sZmlsZQ%3D%3D?line=9'>10</a>\u001b[0m sum_of_squares \u001b[39m=\u001b[39m \u001b[39m0\u001b[39m\n\u001b[1;32m     <a href='vscode-notebook-cell:/home/jake/School/Fall2023/ML/Code/ml_class_stuff/assignments/Assignment_1.ipynb#X51sZmlsZQ%3D%3D?line=10'>11</a>\u001b[0m \u001b[39mfor\u001b[39;00m i \u001b[39min\u001b[39;00m rand_nums:\n\u001b[0;32m---> <a href='vscode-notebook-cell:/home/jake/School/Fall2023/ML/Code/ml_class_stuff/assignments/Assignment_1.ipynb#X51sZmlsZQ%3D%3D?line=11'>12</a>\u001b[0m     sum_of_squares \u001b[39m+\u001b[39m\u001b[39m=\u001b[39m \u001b[39mpow\u001b[39;49m(i \u001b[39m-\u001b[39;49m mean,\u001b[39m2\u001b[39;49m)\n\u001b[1;32m     <a href='vscode-notebook-cell:/home/jake/School/Fall2023/ML/Code/ml_class_stuff/assignments/Assignment_1.ipynb#X51sZmlsZQ%3D%3D?line=12'>13</a>\u001b[0m end_for_loop \u001b[39m=\u001b[39m time\u001b[39m.\u001b[39mtime()\n\u001b[1;32m     <a href='vscode-notebook-cell:/home/jake/School/Fall2023/ML/Code/ml_class_stuff/assignments/Assignment_1.ipynb#X51sZmlsZQ%3D%3D?line=14'>15</a>\u001b[0m \u001b[39m# inner dot\u001b[39;00m\n",
      "\u001b[0;31mKeyboardInterrupt\u001b[0m: "
     ]
    }
   ],
   "source": [
    "import numpy as np\n",
    "import time\n",
    "\n",
    "rand_nums = np.random.randn(10000000)\n",
    "\n",
    "# sum of squares in for loop\n",
    "mean = np.mean(rand_nums)\n",
    "start_for_loop = time.time()\n",
    "sum_of_squares = 0\n",
    "for i in rand_nums:\n",
    "    sum_of_squares += pow(i - mean,2)\n",
    "end_for_loop = time.time()\n",
    "\n",
    "# inner dot\n",
    "start_vectorized = time.time()\n",
    "sum_sqaures_dot = np.dot(rand_nums, rand_nums)\n",
    "end_vectorized = time.time()\n",
    "\n",
    "forloop_runtime = round(end_for_loop - start_for_loop, 5)\n",
    "vectorized_runtime = round(end_vectorized - start_vectorized, 5)\n",
    "\n",
    "print('Time [sec] (non-vectorized): {}'.format(forloop_runtime))\n",
    "print('Time [sec] (vectorized): {}'.format(vectorized_runtime))\n",
    "\n",
    "runtime_diff_x_times_faster = round(forloop_runtime / vectorized_runtime, 5)\n",
    "\n",
    "print('The vectorzied code is {} times faster than the non-vectorized code'.format(runtime_diff_x_times_faster))\n",
    "\n",
    "\n",
    "print('{} ...... {}'.format(sum_of_squares, sum_sqaures_dot))"
   ]
  },
  {
   "attachments": {},
   "cell_type": "markdown",
   "metadata": {},
   "source": [
    "---\n",
    "\n",
    "## 10\n",
    "**[10 points]** This exercise will walk through some basic numerical programming and probabilistic thinking exercises, two skills which are frequently use in machine learning for answering questions from our data.\n",
    "1. Synthesize $n=10^4$ normally distributed data points with mean $\\mu=2$ and a standard deviation of $\\sigma=1$. Call these observations from a random variable $X$, and call the vector of observations that you generate, $\\textbf{x}$.\n",
    "2. Calculate the mean and standard deviation of $\\textbf{x}$ to validate (1) and provide the result to a precision of four significant figures.\n",
    "3. Plot a histogram of the data in $\\textbf{x}$ with 30 bins\n",
    "4. What is the 90th percentile of $\\textbf{x}$? The 90th percentile is the value below which 90% of observations can be found.\n",
    "5. What is the 99th percentile of $\\textbf{x}$?\n",
    "6. Now synthesize $n=10^4$ normally distributed data points with mean $\\mu=0$ and a standard deviation of $\\sigma=3$. Call these observations from a random variable $Y$, and call the vector of observations that you generate, $\\textbf{y}$.\n",
    "7. Create a new figure and plot the histogram of the data in $\\textbf{y}$ on the same axes with the histogram of $\\textbf{x}$, so that both histograms can be seen and compared.\n",
    "8. Using the observations from $\\textbf{x}$ and $\\textbf{y}$, estimate $E[XY]$"
   ]
  },
  {
   "cell_type": "markdown",
   "metadata": {},
   "source": [
    "**ANSWER**"
   ]
  },
  {
   "cell_type": "code",
   "execution_count": 63,
   "metadata": {},
   "outputs": [
    {
     "name": "stdout",
     "output_type": "stream",
     "text": [
      "mean: 1.9961, sd: 0.9964\n"
     ]
    }
   ],
   "source": [
    "# 1\n",
    "import matplotlib.pyplot as plt\n",
    "x = np.random.normal(2, 1, 10000)\n",
    "\n",
    "# 2\n",
    "mean = round(np.mean(x), 4)\n",
    "sd = round(np.std(x), 4)\n",
    "print('mean: {}, sd: {}'.format(mean, sd))"
   ]
  },
  {
   "cell_type": "code",
   "execution_count": 45,
   "metadata": {},
   "outputs": [
    {
     "name": "stdout",
     "output_type": "stream",
     "text": [
      "90th percentile of x: 3.270910998735618\n",
      "99th percentile of x: 4.298753500269296\n"
     ]
    }
   ],
   "source": [
    "# 4\n",
    "print('90th percentile of x: {}'.format(np.percentile(x, 90)))\n",
    "# 5\n",
    "print('99th percentile of x: {}'.format(np.percentile(x, 99)))"
   ]
  },
  {
   "cell_type": "code",
   "execution_count": 46,
   "metadata": {},
   "outputs": [
    {
     "data": {
      "image/png": "[encoded data removed]",
      "text/plain": [
       "<Figure size 1000x500 with 1 Axes>"
      ]
     },
     "metadata": {},
     "output_type": "display_data"
    }
   ],
   "source": [
    "# 6\n",
    "y = np.random.normal(0, 3, 10000)\n",
    "# 3,7\n",
    "# histogram of x and y \n",
    "plt.hist(x, bins=30, alpha=0.5, label='x')\n",
    "plt.hist(y, bins=30, alpha=0.5, label='y')\n",
    "plt.title('Histogram of x and y')\n",
    "plt.xlabel('x and y')\n",
    "plt.ylabel('Frequency')\n",
    "plt.legend(loc='upper right')\n",
    "plt.rcParams['figure.figsize'] = [10, 5]\n",
    "# change axes\n",
    "axes = plt.gca()\n",
    "axes.set_xlim([-10,10])\n",
    "axes.set_ylim([0,1100])\n",
    "plt.show()"
   ]
  },
  {
   "cell_type": "code",
   "execution_count": 48,
   "metadata": {},
   "outputs": [
    {
     "name": "stdout",
     "output_type": "stream",
     "text": [
      "E[XY] = 0.007567326553118761\n"
     ]
    }
   ],
   "source": [
    "# 8 \n",
    "print('E[XY] = {}'.format(np.mean(x*y))) # normal dist can be multiplied together"
   ]
  },
  {
   "attachments": {},
   "cell_type": "markdown",
   "metadata": {},
   "source": [
    "---\n",
    "\n",
    "# Version Control via Git"
   ]
  },
  {
   "attachments": {},
   "cell_type": "markdown",
   "metadata": {},
   "source": [
    "## 11\n",
    "**[4 points]** Git is efficient for collaboration, and expectation in industry, and one of the best ways to share results in academia. You can even use some Git repositories (e.g. Github) as hosts for website, such as with the [course website](https://kylebradbury.github.io/ids705/index.html). As a data scientist with experience in machine learning, Git is expected. We will interact with Git repositories (a.k.a. repos) throughout this course, and your project will require the use of git repos for collaboration.\n",
    "\n",
    "Complete the [Atlassian Git tutorial](https://www.atlassian.com/git/tutorials/what-is-version-control), specifically the following listed sections. Try each concept that's presented. For this tutorial, instead of using BitBucket as your remote repository host, you may use your preferred platform such as [Github](https://github.com/) or [Duke's Gitlab](https://gitlab.oit.duke.edu/users/sign_in).\n",
    "1. [What is version control](https://www.atlassian.com/git/tutorials/what-is-version-control)\n",
    "2. [What is Git](https://www.atlassian.com/git/tutorials/what-is-git)\n",
    "3. [Install Git](https://www.atlassian.com/git/tutorials/install-git)\n",
    "4. [Setting up a repository](https://www.atlassian.com/git/tutorials/install-git)\n",
    "5. [Saving changes](https://www.atlassian.com/git/tutorials/saving-changes)\n",
    "6. [Inspecting a repository](https://www.atlassian.com/git/tutorials/inspecting-a-repository)\n",
    "7. [Undoing changes](https://www.atlassian.com/git/tutorials/undoing-changes)\n",
    "8. [Rewriting history](https://www.atlassian.com/git/tutorials/rewriting-history)\n",
    "9. [Syncing](https://www.atlassian.com/git/tutorials/syncing)\n",
    "10. [Making a pull request](https://www.atlassian.com/git/tutorials/making-a-pull-request)\n",
    "11. [Using branches](https://www.atlassian.com/git/tutorials/using-branches)\n",
    "12. [Comparing workflows](https://www.atlassian.com/git/tutorials/comparing-workflows)\n",
    "\n",
    "I also have created two videos on the topic to help you understand some of these concepts: [Git basics](https://www.youtube.com/watch?v=fBCwfoBr2ng) and a [step-by-step tutorial](https://www.youtube.com/watch?v=nH7qJHx-h5s).\n",
    "\n",
    "For your answer, affirm that you *either* completed the tutorials above OR have previous experience with ALL of the concepts above. Confirm this by typing your name below and selecting the situation that applies from the two options in brackets."
   ]
  },
  {
   "cell_type": "markdown",
   "metadata": {},
   "source": [
    "**ANSWER**\n",
    "\n",
    "*I, [**your name here**], affirm that I have [**completed the above tutorial / I have previous experience that covers all the content in this tutorial**]*"
   ]
  },
  {
   "cell_type": "markdown",
   "metadata": {},
   "source": [
    "I Jake Bova, affirm that I have completed the above tutorial / have previous experience that covers all the content in this tutorial"
   ]
  },
  {
   "attachments": {},
   "cell_type": "markdown",
   "metadata": {},
   "source": [
    "---\n",
    "\n",
    "# Exploratory Data Analysis\n",
    "## 12\n",
    "**[15 points]** Here you'll bring together some of the individual skills that you demonstrated above and create a Jupyter notebook based blog post on your exploratory data analysis. Your goal is to identify a question or problem and to work towards solving it or providing additional information or evidence (data) related to it through your data analysis. Below, we walk through a process to follow for your analysis. Additionally, you can find an [example of a well-done exploratory data analysis here from past years](https://github.com/kylebradbury/ids705/blob/master/assignments/Assignment_1_Q12_Example.ipynb).\n",
    "\n",
    "1. Find a dataset that interests you and relates to a question or problem that you find intriguing.\n",
    "2. Describe the dataset, the source of the data, and the reason the dataset was of interest. Include a description of the features, data size, data creator and year of creation (if available), etc. What question are you hoping to answer through exploring the dataset?\n",
    "3. Check the data and see if they need to be cleaned: are there missing values? Are there clearly erroneous values? Do two tables need to be merged together? Clean the data so it can be visualized. If the data are clean, state how you know they are clean (what did you check?).\n",
    "3. Plot the data, demonstrating interesting features that you discover. Are there any relationships between variables that were surprising or patterns that emerged? Please exercise creativity and curiosity in your plots. You should have at least a ~3 plots exploring the data in different ways.\n",
    "4. What insights are you able to take away from exploring the data? Is there a reason why analyzing the dataset you chose is particularly interesting or important? Summarize this for a general audience (imagine your publishing a blog post online) - boil down your findings in a way that is accessible, but still accurate.\n",
    "\n",
    "Here your analysis will evaluated based on:\n",
    "1. Motivation: was the purpose of the choice of data clearly articulated? Why was the dataset chosen and what was the goal of the analysis?\n",
    "2. Data cleaning: were any issues with the data investigated and, if found, were they resolved?\n",
    "3. Quality of data exploration: were at least 4 unique plots (minimum) included and did those plots demonstrate interesting aspects of the data? Was there a clear purpose and takeaway from EACH plot? \n",
    "4. Interpretation: Were the insights revealed through the analysis and their potential implications clearly explained? Was there an overall conclusion to the analysis?"
   ]
  },
  {
   "cell_type": "markdown",
   "metadata": {},
   "source": [
    "**ANSWER**"
   ]
  }
 ],
 "metadata": {
  "kernelspec": {
   "display_name": "base",
   "language": "python",
   "name": "python3"
  },
  "language_info": {
   "codemirror_mode": {
    "name": "ipython",
    "version": 3
   },
   "file_extension": ".py",
   "mimetype": "text/x-python",
   "name": "python",
   "nbconvert_exporter": "python",
   "pygments_lexer": "ipython3",
   "version": "3.10.6"
  },
  "nteract": {
   "version": "0.28.0"
  },
  "varInspector": {
   "cols": {
    "lenName": 16,
    "lenType": 16,
    "lenVar": 40
   },
   "kernels_config": {
    "python": {
     "delete_cmd_postfix": "",
     "delete_cmd_prefix": "del ",
     "library": "var_list.py",
     "varRefreshCmd": "print(var_dic_list())"
    },
    "r": {
     "delete_cmd_postfix": ") ",
     "delete_cmd_prefix": "rm(",
     "library": "var_list.r",
     "varRefreshCmd": "cat(var_dic_list()) "
    }
   },
   "position": {
    "height": "643px",
    "left": "1548px",
    "right": "20px",
    "top": "121px",
    "width": "350px"
   },
   "types_to_exclude": [
    "module",
    "function",
    "builtin_function_or_method",
    "instance",
    "_Feature"
   ],
   "window_display": true
  },
  "vscode": {
   "interpreter": {
    "hash": "f54e0b9f92ceb50229b3b7ea26b5d02f05ce8845dd8d997c014a0efede4c9c20"
   }
  }
 },
 "nbformat": 4,
 "nbformat_minor": 2
}

{
 "cells": [
  {
   "cell_type": "markdown",
   "metadata": {},
   "source": [
    "# An analysis of the individual voters in the 2016 USA Presidential Election"
   ]
  },
  {
   "cell_type": "markdown",
   "metadata": {},
   "source": [
    "Here your analysis will evaluated based on:\n",
    "1. Motivation: was the purpose of the choice of data clearly articulated? Why was the dataset chosen and what was the goal of the analysis?\n",
    "2. Data cleaning: were any issues with the data investigated and, if found, were they resolved?\n",
    "3. Quality of data exploration: were at least 4 unique plots (minimum) included and did those plots demonstrate interesting aspects of the data? Was there a clear purpose and takeaway from EACH plot? \n",
    "4. Interpretation: Were the insights revealed through the analysis and their potential implications clearly explained? Was there an overall conclusion to the analysis?\n",
    "-----------"
   ]
  },
  {
   "cell_type": "markdown",
   "metadata": {},
   "source": [
    "1. The motivation of this analysis is to understand the demographics of individual voters in the 2016 USA Presidential Election. This dataset was chosen because it has several interesting features that can be analyzed.\n",
    "<br>source: https://vincentarelbundock.github.io/Rdatasets/doc/stevedata/TV16.html\n",
    "\n",
    "\n",
    "2. The data is mostly clean.  There are some missing values for who was voted for, so I decided to drop those rows.  I left other nulls as they do not grossly affect the analysis.\n",
    "\n",
    "3. I have included more than 4 plots.  Each plot has a clear purpose and takeaway.  The plots demonstrate interesting aspects of the data.\n",
    "\n",
    "4. See insights throughout the analysis."
   ]
  },
  {
   "cell_type": "markdown",
   "metadata": {},
   "source": [
    "## Data Import and Cleanup"
   ]
  },
  {
   "cell_type": "code",
   "execution_count": 1,
   "metadata": {},
   "outputs": [
    {
     "ename": "FileNotFoundError",
     "evalue": "[Errno 2] No such file or directory: '../data/trum.csv'",
     "output_type": "error",
     "traceback": [
      "\u001b[0;31m---------------------------------------------------------------------------\u001b[0m",
      "\u001b[0;31mFileNotFoundError\u001b[0m                         Traceback (most recent call last)",
      "\u001b[1;32m/home/jake/School/Fall2023/ML/Code/ml_class_stuff/assignments/q12.ipynb Cell 5\u001b[0m in \u001b[0;36m<cell line: 8>\u001b[0;34m()\u001b[0m\n\u001b[1;32m      <a href='vscode-notebook-cell:/home/jake/School/Fall2023/ML/Code/ml_class_stuff/assignments/q12.ipynb#W4sZmlsZQ%3D%3D?line=4'>5</a>\u001b[0m \u001b[39mfrom\u001b[39;00m \u001b[39mIPython\u001b[39;00m\u001b[39m.\u001b[39;00m\u001b[39mdisplay\u001b[39;00m \u001b[39mimport\u001b[39;00m Image\n\u001b[1;32m      <a href='vscode-notebook-cell:/home/jake/School/Fall2023/ML/Code/ml_class_stuff/assignments/q12.ipynb#W4sZmlsZQ%3D%3D?line=6'>7</a>\u001b[0m \u001b[39m# Read the data\u001b[39;00m\n\u001b[0;32m----> <a href='vscode-notebook-cell:/home/jake/School/Fall2023/ML/Code/ml_class_stuff/assignments/q12.ipynb#W4sZmlsZQ%3D%3D?line=7'>8</a>\u001b[0m voter_data \u001b[39m=\u001b[39m pd\u001b[39m.\u001b[39;49mread_csv(\u001b[39m'\u001b[39;49m\u001b[39m../data/trum.csv\u001b[39;49m\u001b[39m'\u001b[39;49m)\n",
      "File \u001b[0;32m~/.local/lib/python3.10/site-packages/pandas/util/_decorators.py:311\u001b[0m, in \u001b[0;36mdeprecate_nonkeyword_arguments.<locals>.decorate.<locals>.wrapper\u001b[0;34m(*args, **kwargs)\u001b[0m\n\u001b[1;32m    305\u001b[0m \u001b[39mif\u001b[39;00m \u001b[39mlen\u001b[39m(args) \u001b[39m>\u001b[39m num_allow_args:\n\u001b[1;32m    306\u001b[0m     warnings\u001b[39m.\u001b[39mwarn(\n\u001b[1;32m    307\u001b[0m         msg\u001b[39m.\u001b[39mformat(arguments\u001b[39m=\u001b[39marguments),\n\u001b[1;32m    308\u001b[0m         \u001b[39mFutureWarning\u001b[39;00m,\n\u001b[1;32m    309\u001b[0m         stacklevel\u001b[39m=\u001b[39mstacklevel,\n\u001b[1;32m    310\u001b[0m     )\n\u001b[0;32m--> 311\u001b[0m \u001b[39mreturn\u001b[39;00m func(\u001b[39m*\u001b[39;49margs, \u001b[39m*\u001b[39;49m\u001b[39m*\u001b[39;49mkwargs)\n",
      "File \u001b[0;32m~/.local/lib/python3.10/site-packages/pandas/io/parsers/readers.py:680\u001b[0m, in \u001b[0;36mread_csv\u001b[0;34m(filepath_or_buffer, sep, delimiter, header, names, index_col, usecols, squeeze, prefix, mangle_dupe_cols, dtype, engine, converters, true_values, false_values, skipinitialspace, skiprows, skipfooter, nrows, na_values, keep_default_na, na_filter, verbose, skip_blank_lines, parse_dates, infer_datetime_format, keep_date_col, date_parser, dayfirst, cache_dates, iterator, chunksize, compression, thousands, decimal, lineterminator, quotechar, quoting, doublequote, escapechar, comment, encoding, encoding_errors, dialect, error_bad_lines, warn_bad_lines, on_bad_lines, delim_whitespace, low_memory, memory_map, float_precision, storage_options)\u001b[0m\n\u001b[1;32m    665\u001b[0m kwds_defaults \u001b[39m=\u001b[39m _refine_defaults_read(\n\u001b[1;32m    666\u001b[0m     dialect,\n\u001b[1;32m    667\u001b[0m     delimiter,\n\u001b[0;32m   (...)\u001b[0m\n\u001b[1;32m    676\u001b[0m     defaults\u001b[39m=\u001b[39m{\u001b[39m\"\u001b[39m\u001b[39mdelimiter\u001b[39m\u001b[39m\"\u001b[39m: \u001b[39m\"\u001b[39m\u001b[39m,\u001b[39m\u001b[39m\"\u001b[39m},\n\u001b[1;32m    677\u001b[0m )\n\u001b[1;32m    678\u001b[0m kwds\u001b[39m.\u001b[39mupdate(kwds_defaults)\n\u001b[0;32m--> 680\u001b[0m \u001b[39mreturn\u001b[39;00m _read(filepath_or_buffer, kwds)\n",
      "File \u001b[0;32m~/.local/lib/python3.10/site-packages/pandas/io/parsers/readers.py:575\u001b[0m, in \u001b[0;36m_read\u001b[0;34m(filepath_or_buffer, kwds)\u001b[0m\n\u001b[1;32m    572\u001b[0m _validate_names(kwds\u001b[39m.\u001b[39mget(\u001b[39m\"\u001b[39m\u001b[39mnames\u001b[39m\u001b[39m\"\u001b[39m, \u001b[39mNone\u001b[39;00m))\n\u001b[1;32m    574\u001b[0m \u001b[39m# Create the parser.\u001b[39;00m\n\u001b[0;32m--> 575\u001b[0m parser \u001b[39m=\u001b[39m TextFileReader(filepath_or_buffer, \u001b[39m*\u001b[39;49m\u001b[39m*\u001b[39;49mkwds)\n\u001b[1;32m    577\u001b[0m \u001b[39mif\u001b[39;00m chunksize \u001b[39mor\u001b[39;00m iterator:\n\u001b[1;32m    578\u001b[0m     \u001b[39mreturn\u001b[39;00m parser\n",
      "File \u001b[0;32m~/.local/lib/python3.10/site-packages/pandas/io/parsers/readers.py:933\u001b[0m, in \u001b[0;36mTextFileReader.__init__\u001b[0;34m(self, f, engine, **kwds)\u001b[0m\n\u001b[1;32m    930\u001b[0m     \u001b[39mself\u001b[39m\u001b[39m.\u001b[39moptions[\u001b[39m\"\u001b[39m\u001b[39mhas_index_names\u001b[39m\u001b[39m\"\u001b[39m] \u001b[39m=\u001b[39m kwds[\u001b[39m\"\u001b[39m\u001b[39mhas_index_names\u001b[39m\u001b[39m\"\u001b[39m]\n\u001b[1;32m    932\u001b[0m \u001b[39mself\u001b[39m\u001b[39m.\u001b[39mhandles: IOHandles \u001b[39m|\u001b[39m \u001b[39mNone\u001b[39;00m \u001b[39m=\u001b[39m \u001b[39mNone\u001b[39;00m\n\u001b[0;32m--> 933\u001b[0m \u001b[39mself\u001b[39m\u001b[39m.\u001b[39m_engine \u001b[39m=\u001b[39m \u001b[39mself\u001b[39;49m\u001b[39m.\u001b[39;49m_make_engine(f, \u001b[39mself\u001b[39;49m\u001b[39m.\u001b[39;49mengine)\n",
      "File \u001b[0;32m~/.local/lib/python3.10/site-packages/pandas/io/parsers/readers.py:1217\u001b[0m, in \u001b[0;36mTextFileReader._make_engine\u001b[0;34m(self, f, engine)\u001b[0m\n\u001b[1;32m   1213\u001b[0m     mode \u001b[39m=\u001b[39m \u001b[39m\"\u001b[39m\u001b[39mrb\u001b[39m\u001b[39m\"\u001b[39m\n\u001b[1;32m   1214\u001b[0m \u001b[39m# error: No overload variant of \"get_handle\" matches argument types\u001b[39;00m\n\u001b[1;32m   1215\u001b[0m \u001b[39m# \"Union[str, PathLike[str], ReadCsvBuffer[bytes], ReadCsvBuffer[str]]\"\u001b[39;00m\n\u001b[1;32m   1216\u001b[0m \u001b[39m# , \"str\", \"bool\", \"Any\", \"Any\", \"Any\", \"Any\", \"Any\"\u001b[39;00m\n\u001b[0;32m-> 1217\u001b[0m \u001b[39mself\u001b[39m\u001b[39m.\u001b[39mhandles \u001b[39m=\u001b[39m get_handle(  \u001b[39m# type: ignore[call-overload]\u001b[39;49;00m\n\u001b[1;32m   1218\u001b[0m     f,\n\u001b[1;32m   1219\u001b[0m     mode,\n\u001b[1;32m   1220\u001b[0m     encoding\u001b[39m=\u001b[39;49m\u001b[39mself\u001b[39;49m\u001b[39m.\u001b[39;49moptions\u001b[39m.\u001b[39;49mget(\u001b[39m\"\u001b[39;49m\u001b[39mencoding\u001b[39;49m\u001b[39m\"\u001b[39;49m, \u001b[39mNone\u001b[39;49;00m),\n\u001b[1;32m   1221\u001b[0m     compression\u001b[39m=\u001b[39;49m\u001b[39mself\u001b[39;49m\u001b[39m.\u001b[39;49moptions\u001b[39m.\u001b[39;49mget(\u001b[39m\"\u001b[39;49m\u001b[39mcompression\u001b[39;49m\u001b[39m\"\u001b[39;49m, \u001b[39mNone\u001b[39;49;00m),\n\u001b[1;32m   1222\u001b[0m     memory_map\u001b[39m=\u001b[39;49m\u001b[39mself\u001b[39;49m\u001b[39m.\u001b[39;49moptions\u001b[39m.\u001b[39;49mget(\u001b[39m\"\u001b[39;49m\u001b[39mmemory_map\u001b[39;49m\u001b[39m\"\u001b[39;49m, \u001b[39mFalse\u001b[39;49;00m),\n\u001b[1;32m   1223\u001b[0m     is_text\u001b[39m=\u001b[39;49mis_text,\n\u001b[1;32m   1224\u001b[0m     errors\u001b[39m=\u001b[39;49m\u001b[39mself\u001b[39;49m\u001b[39m.\u001b[39;49moptions\u001b[39m.\u001b[39;49mget(\u001b[39m\"\u001b[39;49m\u001b[39mencoding_errors\u001b[39;49m\u001b[39m\"\u001b[39;49m, \u001b[39m\"\u001b[39;49m\u001b[39mstrict\u001b[39;49m\u001b[39m\"\u001b[39;49m),\n\u001b[1;32m   1225\u001b[0m     storage_options\u001b[39m=\u001b[39;49m\u001b[39mself\u001b[39;49m\u001b[39m.\u001b[39;49moptions\u001b[39m.\u001b[39;49mget(\u001b[39m\"\u001b[39;49m\u001b[39mstorage_options\u001b[39;49m\u001b[39m\"\u001b[39;49m, \u001b[39mNone\u001b[39;49;00m),\n\u001b[1;32m   1226\u001b[0m )\n\u001b[1;32m   1227\u001b[0m \u001b[39massert\u001b[39;00m \u001b[39mself\u001b[39m\u001b[39m.\u001b[39mhandles \u001b[39mis\u001b[39;00m \u001b[39mnot\u001b[39;00m \u001b[39mNone\u001b[39;00m\n\u001b[1;32m   1228\u001b[0m f \u001b[39m=\u001b[39m \u001b[39mself\u001b[39m\u001b[39m.\u001b[39mhandles\u001b[39m.\u001b[39mhandle\n",
      "File \u001b[0;32m~/.local/lib/python3.10/site-packages/pandas/io/common.py:789\u001b[0m, in \u001b[0;36mget_handle\u001b[0;34m(path_or_buf, mode, encoding, compression, memory_map, is_text, errors, storage_options)\u001b[0m\n\u001b[1;32m    784\u001b[0m \u001b[39melif\u001b[39;00m \u001b[39misinstance\u001b[39m(handle, \u001b[39mstr\u001b[39m):\n\u001b[1;32m    785\u001b[0m     \u001b[39m# Check whether the filename is to be opened in binary mode.\u001b[39;00m\n\u001b[1;32m    786\u001b[0m     \u001b[39m# Binary mode does not support 'encoding' and 'newline'.\u001b[39;00m\n\u001b[1;32m    787\u001b[0m     \u001b[39mif\u001b[39;00m ioargs\u001b[39m.\u001b[39mencoding \u001b[39mand\u001b[39;00m \u001b[39m\"\u001b[39m\u001b[39mb\u001b[39m\u001b[39m\"\u001b[39m \u001b[39mnot\u001b[39;00m \u001b[39min\u001b[39;00m ioargs\u001b[39m.\u001b[39mmode:\n\u001b[1;32m    788\u001b[0m         \u001b[39m# Encoding\u001b[39;00m\n\u001b[0;32m--> 789\u001b[0m         handle \u001b[39m=\u001b[39m \u001b[39mopen\u001b[39;49m(\n\u001b[1;32m    790\u001b[0m             handle,\n\u001b[1;32m    791\u001b[0m             ioargs\u001b[39m.\u001b[39;49mmode,\n\u001b[1;32m    792\u001b[0m             encoding\u001b[39m=\u001b[39;49mioargs\u001b[39m.\u001b[39;49mencoding,\n\u001b[1;32m    793\u001b[0m             errors\u001b[39m=\u001b[39;49merrors,\n\u001b[1;32m    794\u001b[0m             newline\u001b[39m=\u001b[39;49m\u001b[39m\"\u001b[39;49m\u001b[39m\"\u001b[39;49m,\n\u001b[1;32m    795\u001b[0m         )\n\u001b[1;32m    796\u001b[0m     \u001b[39melse\u001b[39;00m:\n\u001b[1;32m    797\u001b[0m         \u001b[39m# Binary mode\u001b[39;00m\n\u001b[1;32m    798\u001b[0m         handle \u001b[39m=\u001b[39m \u001b[39mopen\u001b[39m(handle, ioargs\u001b[39m.\u001b[39mmode)\n",
      "\u001b[0;31mFileNotFoundError\u001b[0m: [Errno 2] No such file or directory: '../data/trum.csv'"
     ]
    }
   ],
   "source": [
    "import pandas as pd\n",
    "import numpy as np\n",
    "import plotly.express as px\n",
    "import matplotlib.pyplot as plt\n",
    "from IPython.display import Image\n",
    "\n",
    "# Read the data\n",
    "voter_data = pd.read_csv('data/trum.csv')"
   ]
  },
  {
   "cell_type": "code",
   "execution_count": null,
   "metadata": {},
   "outputs": [],
   "source": [
    "# drop rows where votetrump is null\n",
    "voter_data = voter_data.dropna(subset=['votetrump'])\n",
    "# drop NaNs\n",
    "# voter_data = voter_data.dropna().reset_index(drop=True)"
   ]
  },
  {
   "cell_type": "code",
   "execution_count": null,
   "metadata": {},
   "outputs": [],
   "source": [
    "# reset the index (also dropping uid column which is not needed)\n",
    "voter_data = voter_data.drop(['uid'], axis=1)\n",
    "voter_data = voter_data.reset_index(drop=True)"
   ]
  },
  {
   "cell_type": "code",
   "execution_count": null,
   "metadata": {},
   "outputs": [],
   "source": [
    "voters_trump = voter_data[voter_data['votetrump'] == 1]\n",
    "voters_clinton = voter_data[voter_data['votetrump'] == 0]\n",
    "# ratio\n",
    "len(voters_clinton) / len(voters_trump)"
   ]
  },
  {
   "cell_type": "code",
   "execution_count": null,
   "metadata": {},
   "outputs": [],
   "source": [
    "voter_data.shape"
   ]
  },
  {
   "cell_type": "code",
   "execution_count": null,
   "metadata": {},
   "outputs": [],
   "source": [
    "voter_data.head()"
   ]
  },
  {
   "cell_type": "code",
   "execution_count": null,
   "metadata": {},
   "outputs": [],
   "source": [
    "voter_data.describe()"
   ]
  },
  {
   "cell_type": "code",
   "execution_count": null,
   "metadata": {},
   "outputs": [],
   "source": [
    "voter_data.isnull().sum()"
   ]
  },
  {
   "cell_type": "markdown",
   "metadata": {},
   "source": [
    "The features are as follows:\n",
    "\n",
    "| Column Name  | Description                                                                                     |\n",
    "|--------------|-------------------------------------------------------------------------------------------------|\n",
    "| `state`      | A character vector for the state in which the respondent resides                                 |\n",
    "| `votetrump`  | A numeric that equals 1 if the respondent says s/he voted for Trump in 2016                      |\n",
    "| `age`        | A numeric vector for age, roughly calculated as 2016 - birthyr                                   |\n",
    "| `female`     | A numeric that equals 1 if the respondent is a woman                                             |\n",
    "| `collegeed`  | A numeric vector that equals 1 if the respondent says s/he has a college degree                  |\n",
    "| `racef`      | A character vector for the race of the respondent                                                |\n",
    "| `famincr`    | A numeric vector for the respondent's household income, ranging from 1 to 12                     |\n",
    "| `ideo`       | A numeric vector for the respondent's ideology, ranging from 1 (very liberal) to 5 (very conservative) |\n",
    "| `pid7na`     | A numeric vector for the respondent's partisanship, ranging from 1 to 7                          |\n",
    "| `bornagain`  | A numeric vector for whether the respondent self-identifies as a born-again Christian            |\n",
    "| `religimp`   | A numeric vector for the importance of religion to the respondent, ranging from 1 to 4           |\n",
    "| `churchatd`  | A numeric vector for the extent of church attendance, ranging from 1 to 6                        |\n",
    "| `prayerfreq` | A numeric vector for the frequency of prayer, ranging from 1 to 7                                |\n",
    "| `angryracism`| A numeric vector for how angry the respondent is that racism exists, ranging from 1 to 5          |\n",
    "| `whiteadv`   | A numeric vector for agreement with the statement that white people have advantages, ranging from 1 to 5  |\n",
    "| `fearraces`  | A numeric vector for agreement with the statement that the respondent fears other races, ranging from 1 to 5 |\n",
    "| `racerare`   | A numeric vector for agreement with the statement that racism is rare in the U.S., ranging from 1 to 5   |\n",
    "| `lrelig`     | A numeric vector that serves as a latent estimate for religiosity                                |\n",
    "| `lcograc`    | A numeric vector that serves as a latent estimate for cognitive racism                           |\n",
    "| `lemprac`    | A numeric vector that serves as a latent estimate for empathetic racism                          |"
   ]
  },
  {
   "cell_type": "markdown",
   "metadata": {},
   "source": [
    "We can now explore the relation between the features and the voting results."
   ]
  },
  {
   "cell_type": "code",
   "execution_count": null,
   "metadata": {},
   "outputs": [],
   "source": [
    "# correlation matrix\n",
    "corr = voter_data.corr()\n",
    "corr.style.background_gradient(cmap='coolwarm')"
   ]
  },
  {
   "cell_type": "code",
   "execution_count": null,
   "metadata": {},
   "outputs": [],
   "source": [
    "voter_data['racef'].value_counts()"
   ]
  },
  {
   "cell_type": "code",
   "execution_count": null,
   "metadata": {},
   "outputs": [],
   "source": [
    "voter_data.groupby('votetrump').mean()"
   ]
  },
  {
   "cell_type": "code",
   "execution_count": null,
   "metadata": {},
   "outputs": [],
   "source": [
    "feature_desc_dict = {\n",
    "    'state': 'State of Residence',\n",
    "    'votetrump': 'Voted for Trump',\n",
    "    'age': 'Age at time of vote',\n",
    "    'female': 'Is a Woman',\n",
    "    'collegeed': 'Has a College Education',\n",
    "    'racef': 'Race of Voter',\n",
    "    'famincr': 'Household Income (1 to 12)',\n",
    "    'ideo': 'Ideology (1 lib to 5 con)',\n",
    "    'pid7na': 'Partisanship (1 to 7)',\n",
    "    'bornagain': 'Born Again Christian',\n",
    "    'religimp': 'Importance of Religion (1 to 4)',\n",
    "    'churchatd': 'Church Attendance (1 to 6)',\n",
    "    'prayerfreq': 'Frequency of Prayer (1 to 7)',\n",
    "    'angryracism': 'Angry that Racism exists (1 to 5)',\n",
    "    'whiteadv': 'Agree Whites have advantages (1 to 5)',\n",
    "    'fearraces': 'Fear of other Races (1 to 5)',\n",
    "    'racerace': 'Agree that racism is rare in the US (1 to 5)',\n",
    "    'lrelig': 'Latent Estimate of Religiosity',\n",
    "    'lcograc': 'Latent Estimate of Cognitive Racism',\n",
    "    'lemprac': 'Latent Estimate of Empathetic Racism',\n",
    "    'avg_racism': 'Average of Cognitive and Empathetic Racism',\n",
    "}\n",
    "\n",
    "# Dictionary to map full state names to two-letter abbreviations\n",
    "state_abbrev = {\n",
    "    'Alabama': 'AL', 'Alaska': 'AK', 'Arizona': 'AZ', 'Arkansas': 'AR', 'California': 'CA',\n",
    "    'Colorado': 'CO', 'Connecticut': 'CT', 'Delaware': 'DE', 'District of Columbia': 'DC',\n",
    "    'Florida': 'FL', 'Georgia': 'GA', 'Hawaii': 'HI', 'Idaho': 'ID', 'Illinois': 'IL',\n",
    "    'Indiana': 'IN', 'Iowa': 'IA', 'Kansas': 'KS', 'Kentucky': 'KY', 'Louisiana': 'LA',\n",
    "    'Maine': 'ME', 'Maryland': 'MD', 'Massachusetts': 'MA', 'Michigan': 'MI', 'Minnesota': 'MN',\n",
    "    'Mississippi': 'MS', 'Missouri': 'MO', 'Montana': 'MT', 'Nebraska': 'NE', 'Nevada': 'NV',\n",
    "    'New Hampshire': 'NH', 'New Jersey': 'NJ', 'New Mexico': 'NM', 'New York': 'NY',\n",
    "    'North Carolina': 'NC', 'North Dakota': 'ND', 'Ohio': 'OH', 'Oklahoma': 'OK', 'Oregon': 'OR',\n",
    "    'Pennsylvania': 'PA', 'Rhode Island': 'RI', 'South Carolina': 'SC', 'South Dakota': 'SD',\n",
    "    'Tennessee': 'TN', 'Texas': 'TX', 'Utah': 'UT', 'Vermont': 'VT', 'Virginia': 'VA',\n",
    "    'Washington': 'WA', 'West Virginia': 'WV', 'Wisconsin': 'WI', 'Wyoming': 'WY'\n",
    "}\n",
    "\n",
    "voter_data['state_abbrev'] = voter_data['state'].map(state_abbrev)\n",
    "voter_data['avg_racism'] = (voter_data['lcograc'] + voter_data['lemprac']) / 2"
   ]
  },
  {
   "cell_type": "markdown",
   "metadata": {},
   "source": [
    "The below functions are for data visualization."
   ]
  },
  {
   "cell_type": "code",
   "execution_count": null,
   "metadata": {},
   "outputs": [],
   "source": [
    "# histogram comparison function\n",
    "def histo_compare(t_df, c_df, stat, title, nbins=20):\n",
    "    t_df[stat].hist(bins=nbins, alpha=0.5, label='Trump', color='red')\n",
    "    c_df[stat].hist(bins=nbins, alpha=0.5, label='Clinton', color='blue')\n",
    "    plt.legend(loc='upper right')\n",
    "    plt.title(title)\n",
    "    plt.xlabel(feature_desc_dict[stat])\n",
    "    plt.ylabel('Frequency')\n",
    "    # show the average\n",
    "    plt.axvline(t_df[stat].mean(), color='red', linestyle='dashed', linewidth=1)\n",
    "    plt.axvline(c_df[stat].mean(), color='blue', linestyle='dashed', linewidth=1)\n",
    "\n",
    "\n",
    "# function for trump_v_clinton pie charts\n",
    "def piechart_compare(t_df, c_df, stat, title):\n",
    "    labels = 'Trump', 'Clinton'\n",
    "    sizes = [t_df[stat].mean(), c_df[stat].mean()]\n",
    "    colors = ['red', 'blue']\n",
    "    explode = (0, 0.1) # explode 1st slice\n",
    "    plt.pie(sizes, explode=explode, labels=labels, colors=colors, autopct='%1.1f%%', shadow=True, startangle=140)\n",
    "    plt.axis('equal')\n",
    "    plt.title(title)\n",
    "    plt.show()\n",
    "\n",
    "\n",
    "def pie_percentage(percent_yes, percent_no, labels, colors, title):\n",
    "    sizes = [percent_yes, percent_no]\n",
    "    explode = (0, 0.1) # explode 1st slice\n",
    "    plt.pie(sizes, explode=explode, labels=labels, colors=colors, autopct='%1.1f%%', shadow=True, startangle=140)\n",
    "    plt.axis('equal')\n",
    "    plt.title(title)\n",
    "    plt.show()\n",
    "\n",
    "def choropleth_vote_data(df, feature, color_scale='tropic'):\n",
    "    state_avg_data = df.groupby('state_abbrev')[feature].mean().reset_index()\n",
    "    fig = px.choropleth(state_avg_data, \n",
    "                    locations='state_abbrev', \n",
    "                    locationmode=\"USA-states\", \n",
    "                    color=feature,\n",
    "                    color_continuous_scale=color_scale,\n",
    "                    scope=\"usa\",\n",
    "                    labels={feature: feature_desc_dict[feature]},\n",
    "                    title='Average {} by U.S. State'.format(feature_desc_dict[feature]))\n",
    "\n",
    "    fig.update_layout(width=1000, height=600, dragmode=False)\n",
    "\n",
    "    # show average on legend\n",
    "    fig.add_annotation(text='Average: {:.2f}'.format(state_avg_data[feature].mean()), x=0.5, y=-0.1, showarrow=False, yshift=10)\n",
    "\n",
    "    # save as png\n",
    "    fig.write_image('../img/choropleth_{}.png'.format(feature))\n",
    "\n",
    "    # fig.show()"
   ]
  },
  {
   "cell_type": "code",
   "execution_count": null,
   "metadata": {},
   "outputs": [],
   "source": [
    "histo_compare(voters_trump, voters_clinton, 'age', 'Age by Vote', nbins=1 + voters_trump['age'].max() - voters_clinton['age'].min())"
   ]
  },
  {
   "cell_type": "markdown",
   "metadata": {},
   "source": [
    "The age distribution above highlights the overall age difference of Trump voters vs Clinton voters.  It illustrates that, on average, voters for Trump were older than their Clinton voting counterparts."
   ]
  },
  {
   "cell_type": "code",
   "execution_count": null,
   "metadata": {},
   "outputs": [],
   "source": [
    "# percentages of non white voters\n",
    "non_white_trump = voters_trump[voters_trump['racef'] != 'White']\n",
    "non_white_clinton = voters_clinton[voters_clinton['racef'] != 'White']\n",
    "trump_nonwhite_vote_percent = len(non_white_trump) / len(voters_trump)\n",
    "clinton_nonwhite_vote_percent = len(non_white_clinton) / len(voters_clinton)\n",
    "trump_white_vote_percent = 1 - trump_nonwhite_vote_percent\n",
    "clinton_white_vote_percent = 1 - clinton_nonwhite_vote_percent\n",
    "\n",
    "# percentage religious more than average\n",
    "religious_trump = voters_trump[voters_trump['lrelig'] > 0]\n",
    "religious_clinton = voters_clinton[voters_clinton['lrelig'] > 0]\n",
    "trump_religious_vote_percent = len(religious_trump) / len(voters_trump)\n",
    "clinton_religious_vote_percent = len(religious_clinton) / len(voters_clinton)\n",
    "trump_nonreligious_vote_percent = 1 - trump_religious_vote_percent\n",
    "clinton_nonreligious_vote_percent = 1 - clinton_religious_vote_percent\n",
    "\n",
    "# percentage college educated\n",
    "college_trump = voters_trump[voters_trump['collegeed'] == 1]\n",
    "college_clinton = voters_clinton[voters_clinton['collegeed'] == 1]\n",
    "trump_college_yes = len(college_trump) / len(voters_trump)\n",
    "clinton_college_yes = len(college_clinton) / len(voters_clinton)\n",
    "trump_college_no = 1 - trump_college_yes\n",
    "clinton_college_no = 1 - clinton_college_yes\n",
    "\n",
    "trump_colors = ['red', 'gray']\n",
    "clinton_colors = ['blue', 'gray']\n",
    "labels = 'Non-White', 'White'"
   ]
  },
  {
   "cell_type": "code",
   "execution_count": null,
   "metadata": {},
   "outputs": [],
   "source": [
    "# pie chart grid\n",
    "fig = plt.figure(figsize=(10,10))\n",
    "fig.suptitle('Voter Demographics by Vote', fontsize=16)\n",
    "explode = (0, 0.1) # explode 1st slice\n",
    "# row 1\n",
    "ax1 = fig.add_subplot(3,2,1)\n",
    "ax1.pie([trump_nonwhite_vote_percent, trump_white_vote_percent], labels=['Non-White', 'White'], colors=trump_colors, autopct='%1.1f%%', shadow=True, startangle=140, explode=explode)\n",
    "ax1.set_title('% Non-White, voted Trump')\n",
    "ax2 = fig.add_subplot(3,2,2)\n",
    "ax2.pie([clinton_nonwhite_vote_percent, clinton_white_vote_percent], labels=['Non-White', 'White'], colors=clinton_colors, autopct='%1.1f%%', shadow=True, startangle=140, explode=explode)\n",
    "ax2.set_title('% Non-White, voted Clinton')\n",
    "# row 2\n",
    "ax3 = fig.add_subplot(3,2,3)\n",
    "ax3.pie([trump_college_yes, trump_college_no], labels=['College', 'No College'], colors=trump_colors, autopct='%1.1f%%', shadow=True, startangle=140, explode=explode)\n",
    "ax3.set_title('% College educated, voted Trump')\n",
    "ax4 = fig.add_subplot(3,2,4)\n",
    "ax4.pie([clinton_college_yes, clinton_college_no], labels=['College', 'No College'], colors=clinton_colors, autopct='%1.1f%%', shadow=True, startangle=140, explode=explode)\n",
    "ax4.set_title('% College educated, voted Clinton')\n",
    "# row 3\n",
    "ax5 = fig.add_subplot(3,2,5)\n",
    "ax5.pie([trump_religious_vote_percent, trump_nonreligious_vote_percent], labels=['Mostly Religious', 'Not very religious'], colors=trump_colors, autopct='%1.1f%%', shadow=True, startangle=140, explode=explode)\n",
    "ax5.set_title('% Religious, voted Trump')\n",
    "ax6 = fig.add_subplot(3,2,6)\n",
    "ax6.pie([clinton_religious_vote_percent, clinton_nonreligious_vote_percent], labels=['Mostly Religious', 'Not very religious'], colors=clinton_colors, autopct='%1.1f%%', shadow=True, startangle=140, explode=explode)\n",
    "ax6.set_title('% Religious, voted Clinton')\n",
    "plt.tight_layout()\n",
    "plt.show()"
   ]
  },
  {
   "cell_type": "code",
   "execution_count": null,
   "metadata": {},
   "outputs": [],
   "source": [
    "histo_compare(voters_trump, voters_clinton, 'pid7na', 'Partisanship by Vote', nbins=7)"
   ]
  },
  {
   "cell_type": "code",
   "execution_count": null,
   "metadata": {},
   "outputs": [],
   "source": [
    "histo_compare(voters_trump, voters_clinton, 'lrelig', 'Religiosity by Vote', nbins=6)"
   ]
  },
  {
   "cell_type": "code",
   "execution_count": null,
   "metadata": {},
   "outputs": [],
   "source": [
    "choropleth_vote_data(voter_data, 'lrelig')\n",
    "\n",
    "# show the png\n",
    "Image('../img/choropleth_lrelig.png')"
   ]
  },
  {
   "cell_type": "markdown",
   "metadata": {},
   "source": [
    "Religiosity refers to the quality of being religious or the degree of involvement, commitment, and devotion an individual has toward religious beliefs, practices, and rituals. It encompasses a range of dimensions including doctrinal beliefs, moral codes, religious experiences, and the frequency with which one engages in religious activities like prayer, worship, or reading sacred texts."
   ]
  },
  {
   "cell_type": "code",
   "execution_count": null,
   "metadata": {},
   "outputs": [],
   "source": [
    "choropleth_vote_data(voter_data, 'lcograc')"
   ]
  },
  {
   "cell_type": "markdown",
   "metadata": {},
   "source": [
    "Cognitive racism refers to the manifestation of racist attitudes or beliefs in the cognitive processes or intellectual reasoning of individuals. Unlike overt or explicit forms of racism, which may involve blatant acts of discrimination or hate speech, cognitive racism is often subtle and may not be outwardly expressed. It can be characterized by internalized stereotypes, unconscious biases, and ingrained perceptions that influence how a person thinks about, interprets, or interacts with people from different racial or ethnic groups.\n",
    "\n",
    "For example, a person might hold an unconscious bias that leads them to perceive individuals of a particular race as more threatening or less competent, even if they do not openly express or act on these beliefs. These cognitive biases can shape various aspects of life, including interpersonal interactions, employment decisions, and law enforcement practices, among other things."
   ]
  },
  {
   "cell_type": "code",
   "execution_count": null,
   "metadata": {},
   "outputs": [],
   "source": [
    "choropleth_vote_data(voter_data, 'lemprac')"
   ]
  },
  {
   "cell_type": "markdown",
   "metadata": {},
   "source": [
    "The term \"empathetic racism\" isn't as commonly used or formally defined as other types of racism, but it generally refers to a situation where someone expresses empathy or kindness toward a person of another race but does so in a way that still perpetuates racial stereotypes or inequalities. Essentially, empathetic racism involves having good intentions but applying them in a way that is ultimately paternalistic, condescending, or perpetuating of racial bias.\n",
    "\n",
    "For example, if someone helps a person of a different race in a manner that assumes the latter is helpless or incapable due to their racial background, this could be considered empathetic racism. The person offering help may genuinely believe they are doing something positive, but the underlying assumptions about race can still contribute to systemic inequality.\n",
    "\n",
    "Another example might be when people express sympathy for what they perceive as the \"plight\" of a racial or ethnic group and take it upon themselves to act as a \"savior\" without truly understanding the lived experiences or perspectives of those they are trying to help. This can perpetuate a power imbalance and reinforce stereotypes that people of that race or ethnicity are in need of saving, rather than capable of advocating for themselves."
   ]
  },
  {
   "cell_type": "code",
   "execution_count": null,
   "metadata": {},
   "outputs": [],
   "source": [
    "choropleth_vote_data(voter_data, 'pid7na')"
   ]
  },
  {
   "cell_type": "markdown",
   "metadata": {},
   "source": [
    "As can be seen above, partisanship in the USA is alive and well.  The division between party ideals played a major role in the 2016 election, and was probably more extreme for 2020, and will be even more extreme by 2024."
   ]
  },
  {
   "cell_type": "code",
   "execution_count": null,
   "metadata": {},
   "outputs": [],
   "source": [
    "for col in ['bornagain', 'religimp', 'churchatd', 'prayerfreq', 'angryracism', 'whiteadv', 'fearraces']:\n",
    "    choropleth_vote_data(voter_data, col)"
   ]
  },
  {
   "cell_type": "code",
   "execution_count": null,
   "metadata": {},
   "outputs": [],
   "source": [
    "# regression line\n",
    "fig = px.scatter(voter_data, x='lrelig', y='lcograc', color='votetrump', color_continuous_scale='tropic', trendline='ols', title='Religiosity vs Cognitive Racism by Vote')\n",
    "fig.update_layout(width=1000, height=600, dragmode=False)\n",
    "# change x and y titles\n",
    "fig.update_xaxes(title_text=feature_desc_dict['lrelig'])\n",
    "fig.update_yaxes(title_text=feature_desc_dict['lcograc'])\n",
    "fig.show()"
   ]
  },
  {
   "cell_type": "markdown",
   "metadata": {},
   "source": [
    "The scatterplot above breaks down the correlation beteween Religiosity and Cognitive Racism, with the data points colored by who voted.  The orange trendline shows that cognitive racism scales positively with religiosity.  The density of data point colors make it clear that Trump voters are more likely to be more cognitively racist than Clinton voters, as well as more religious."
   ]
  }
 ],
 "metadata": {
  "kernelspec": {
   "display_name": "sportsenv",
   "language": "python",
   "name": "python3"
  },
  "language_info": {
   "codemirror_mode": {
    "name": "ipython",
    "version": 3
   },
   "file_extension": ".py",
   "mimetype": "text/x-python",
   "name": "python",
   "nbconvert_exporter": "python",
   "pygments_lexer": "ipython3",
   "version": "3.10.6"
  },
  "orig_nbformat": 4
 },
 "nbformat": 4,
 "nbformat_minor": 2
}

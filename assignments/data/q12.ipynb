{
 "cells": [
  {
   "cell_type": "markdown",
   "metadata": {},
   "source": [
    "---\n",
    "\n",
    "# Exploratory Data Analysis\n",
    "## 12\n",
    "**[15 points]** Here you'll bring together some of the individual skills that you demonstrated above and create a Jupyter notebook based blog post on your exploratory data analysis. Your goal is to identify a question or problem and to work towards solving it or providing additional information or evidence (data) related to it through your data analysis. Below, we walk through a process to follow for your analysis. Additionally, you can find an [example of a well-done exploratory data analysis here from past years](https://github.com/kylebradbury/ids705/blob/master/assignments/Assignment_1_Q12_Example.ipynb).\n",
    "\n",
    "1. Find a dataset that interests you and relates to a question or problem that you find intriguing.\n",
    "2. Describe the dataset, the source of the data, and the reason the dataset was of interest. Include a description of the features, data size, data creator and year of creation (if available), etc. What question are you hoping to answer through exploring the dataset?\n",
    "3. Check the data and see if they need to be cleaned: are there missing values? Are there clearly erroneous values? Do two tables need to be merged together? Clean the data so it can be visualized. If the data are clean, state how you know they are clean (what did you check?).\n",
    "3. Plot the data, demonstrating interesting features that you discover. Are there any relationships between variables that were surprising or patterns that emerged? Please exercise creativity and curiosity in your plots. You should have at least a ~3 plots exploring the data in different ways.\n",
    "4. What insights are you able to take away from exploring the data? Is there a reason why analyzing the dataset you chose is particularly interesting or important? Summarize this for a general audience (imagine your publishing a blog post online) - boil down your findings in a way that is accessible, but still accurate.\n",
    "\n",
    "Here your analysis will evaluated based on:\n",
    "1. Motivation: was the purpose of the choice of data clearly articulated? Why was the dataset chosen and what was the goal of the analysis?\n",
    "2. Data cleaning: were any issues with the data investigated and, if found, were they resolved?\n",
    "3. Quality of data exploration: were at least 4 unique plots (minimum) included and did those plots demonstrate interesting aspects of the data? Was there a clear purpose and takeaway from EACH plot? \n",
    "4. Interpretation: Were the insights revealed through the analysis and their potential implications clearly explained? Was there an overall conclusion to the analysis?"
   ]
  },
  {
   "cell_type": "markdown",
   "metadata": {},
   "source": [
    "# An analysis of the individual voters in the 2016 USA Presidential Election"
   ]
  },
  {
   "cell_type": "markdown",
   "metadata": {},
   "source": [
    "Here your analysis will evaluated based on:\n",
    "1. Motivation: was the purpose of the choice of data clearly articulated? Why was the dataset chosen and what was the goal of the analysis?\n",
    "2. Data cleaning: were any issues with the data investigated and, if found, were they resolved?\n",
    "3. Quality of data exploration: were at least 4 unique plots (minimum) included and did those plots demonstrate interesting aspects of the data? Was there a clear purpose and takeaway from EACH plot? \n",
    "4. Interpretation: Were the insights revealed through the analysis and their potential implications clearly explained? Was there an overall conclusion to the analysis?"
   ]
  },
  {
   "cell_type": "markdown",
   "metadata": {},
   "source": [
    "1. The motivation of this analysis is to understand the individual voters in the 2016 USA Presidential Election. The dataset is chosen from Kaggle, which is a website that provides datasets for data scientists. The dataset is chosen because it is a large dataset that contains many features of the voters. The goal of the analysis is to understand the voters' characteristics and how they affect the election results.\n",
    "\n",
    "\n",
    "2. The data is mostly clean.  There are some missing values for who was voted for, so I decided to drop those rows.  I left other nulls as they do not grossly affect the analysis."
   ]
  },
  {
   "cell_type": "code",
   "execution_count": 1,
   "metadata": {},
   "outputs": [],
   "source": [
    "import pandas as pd\n",
    "import numpy as np\n",
    "import plotly.express as px\n",
    "import matplotlib.pyplot as plt\n",
    "\n",
    "# Read the data\n",
    "voter_data = pd.read_csv('../data/trum.csv')"
   ]
  },
  {
   "cell_type": "code",
   "execution_count": 2,
   "metadata": {},
   "outputs": [],
   "source": [
    "# drop rows where votetrump is null\n",
    "voter_data = voter_data.dropna(subset=['votetrump'])"
   ]
  },
  {
   "cell_type": "code",
   "execution_count": 3,
   "metadata": {},
   "outputs": [],
   "source": [
    "# reset the index (also dropping uid column which is not needed)\n",
    "voter_data = voter_data.drop(['uid'], axis=1)\n",
    "voter_data = voter_data.reset_index(drop=True)"
   ]
  },
  {
   "cell_type": "code",
   "execution_count": 4,
   "metadata": {},
   "outputs": [
    {
     "data": {
      "text/plain": [
       "1.3957344708077846"
      ]
     },
     "execution_count": 4,
     "metadata": {},
     "output_type": "execute_result"
    }
   ],
   "source": [
    "voters_trump = voter_data[voter_data['votetrump'] == 1]\n",
    "voters_clinton = voter_data[voter_data['votetrump'] == 0]\n",
    "# ratio\n",
    "len(voters_clinton) / len(voters_trump)"
   ]
  },
  {
   "cell_type": "code",
   "execution_count": 5,
   "metadata": {},
   "outputs": [
    {
     "data": {
      "text/plain": [
       "(44932, 20)"
      ]
     },
     "execution_count": 5,
     "metadata": {},
     "output_type": "execute_result"
    }
   ],
   "source": [
    "voter_data.shape"
   ]
  },
  {
   "cell_type": "code",
   "execution_count": 6,
   "metadata": {},
   "outputs": [
    {
     "data": {
      "text/html": [
       "<div>\n",
       "<style scoped>\n",
       "    .dataframe tbody tr th:only-of-type {\n",
       "        vertical-align: middle;\n",
       "    }\n",
       "\n",
       "    .dataframe tbody tr th {\n",
       "        vertical-align: top;\n",
       "    }\n",
       "\n",
       "    .dataframe thead th {\n",
       "        text-align: right;\n",
       "    }\n",
       "</style>\n",
       "<table border=\"1\" class=\"dataframe\">\n",
       "  <thead>\n",
       "    <tr style=\"text-align: right;\">\n",
       "      <th></th>\n",
       "      <th>state</th>\n",
       "      <th>votetrump</th>\n",
       "      <th>age</th>\n",
       "      <th>female</th>\n",
       "      <th>collegeed</th>\n",
       "      <th>racef</th>\n",
       "      <th>famincr</th>\n",
       "      <th>ideo</th>\n",
       "      <th>pid7na</th>\n",
       "      <th>bornagain</th>\n",
       "      <th>religimp</th>\n",
       "      <th>churchatd</th>\n",
       "      <th>prayerfreq</th>\n",
       "      <th>angryracism</th>\n",
       "      <th>whiteadv</th>\n",
       "      <th>fearraces</th>\n",
       "      <th>racerare</th>\n",
       "      <th>lrelig</th>\n",
       "      <th>lcograc</th>\n",
       "      <th>lemprac</th>\n",
       "    </tr>\n",
       "  </thead>\n",
       "  <tbody>\n",
       "    <tr>\n",
       "      <th>0</th>\n",
       "      <td>New Hampshire</td>\n",
       "      <td>1.0</td>\n",
       "      <td>47</td>\n",
       "      <td>1</td>\n",
       "      <td>0</td>\n",
       "      <td>White</td>\n",
       "      <td>NaN</td>\n",
       "      <td>3.0</td>\n",
       "      <td>5.0</td>\n",
       "      <td>0.0</td>\n",
       "      <td>3.0</td>\n",
       "      <td>1.0</td>\n",
       "      <td>3.0</td>\n",
       "      <td>2.0</td>\n",
       "      <td>3.0</td>\n",
       "      <td>1.0</td>\n",
       "      <td>3.0</td>\n",
       "      <td>-0.191681</td>\n",
       "      <td>0.475294</td>\n",
       "      <td>-0.138715</td>\n",
       "    </tr>\n",
       "    <tr>\n",
       "      <th>1</th>\n",
       "      <td>Louisiana</td>\n",
       "      <td>1.0</td>\n",
       "      <td>22</td>\n",
       "      <td>1</td>\n",
       "      <td>0</td>\n",
       "      <td>White</td>\n",
       "      <td>6.0</td>\n",
       "      <td>3.0</td>\n",
       "      <td>4.0</td>\n",
       "      <td>NaN</td>\n",
       "      <td>NaN</td>\n",
       "      <td>NaN</td>\n",
       "      <td>NaN</td>\n",
       "      <td>1.0</td>\n",
       "      <td>4.0</td>\n",
       "      <td>1.0</td>\n",
       "      <td>1.0</td>\n",
       "      <td>NaN</td>\n",
       "      <td>-0.185682</td>\n",
       "      <td>-0.619427</td>\n",
       "    </tr>\n",
       "    <tr>\n",
       "      <th>2</th>\n",
       "      <td>Colorado</td>\n",
       "      <td>0.0</td>\n",
       "      <td>34</td>\n",
       "      <td>1</td>\n",
       "      <td>1</td>\n",
       "      <td>White</td>\n",
       "      <td>7.0</td>\n",
       "      <td>2.0</td>\n",
       "      <td>2.0</td>\n",
       "      <td>0.0</td>\n",
       "      <td>1.0</td>\n",
       "      <td>1.0</td>\n",
       "      <td>2.0</td>\n",
       "      <td>2.0</td>\n",
       "      <td>1.0</td>\n",
       "      <td>1.0</td>\n",
       "      <td>1.0</td>\n",
       "      <td>-1.130175</td>\n",
       "      <td>-1.204085</td>\n",
       "      <td>-0.138715</td>\n",
       "    </tr>\n",
       "    <tr>\n",
       "      <th>3</th>\n",
       "      <td>Texas</td>\n",
       "      <td>1.0</td>\n",
       "      <td>54</td>\n",
       "      <td>0</td>\n",
       "      <td>0</td>\n",
       "      <td>White</td>\n",
       "      <td>3.0</td>\n",
       "      <td>5.0</td>\n",
       "      <td>6.0</td>\n",
       "      <td>1.0</td>\n",
       "      <td>4.0</td>\n",
       "      <td>5.0</td>\n",
       "      <td>7.0</td>\n",
       "      <td>2.0</td>\n",
       "      <td>5.0</td>\n",
       "      <td>2.0</td>\n",
       "      <td>2.0</td>\n",
       "      <td>1.171097</td>\n",
       "      <td>0.508762</td>\n",
       "      <td>0.204095</td>\n",
       "    </tr>\n",
       "    <tr>\n",
       "      <th>4</th>\n",
       "      <td>Georgia</td>\n",
       "      <td>1.0</td>\n",
       "      <td>53</td>\n",
       "      <td>0</td>\n",
       "      <td>0</td>\n",
       "      <td>White</td>\n",
       "      <td>4.0</td>\n",
       "      <td>4.0</td>\n",
       "      <td>7.0</td>\n",
       "      <td>1.0</td>\n",
       "      <td>2.0</td>\n",
       "      <td>3.0</td>\n",
       "      <td>6.0</td>\n",
       "      <td>3.0</td>\n",
       "      <td>4.0</td>\n",
       "      <td>1.0</td>\n",
       "      <td>2.0</td>\n",
       "      <td>-0.263387</td>\n",
       "      <td>0.301278</td>\n",
       "      <td>0.070166</td>\n",
       "    </tr>\n",
       "  </tbody>\n",
       "</table>\n",
       "</div>"
      ],
      "text/plain": [
       "           state  votetrump  age  female  collegeed  racef  famincr  ideo  \\\n",
       "0  New Hampshire        1.0   47       1          0  White      NaN   3.0   \n",
       "1      Louisiana        1.0   22       1          0  White      6.0   3.0   \n",
       "2       Colorado        0.0   34       1          1  White      7.0   2.0   \n",
       "3          Texas        1.0   54       0          0  White      3.0   5.0   \n",
       "4        Georgia        1.0   53       0          0  White      4.0   4.0   \n",
       "\n",
       "   pid7na  bornagain  religimp  churchatd  prayerfreq  angryracism  whiteadv  \\\n",
       "0     5.0        0.0       3.0        1.0         3.0          2.0       3.0   \n",
       "1     4.0        NaN       NaN        NaN         NaN          1.0       4.0   \n",
       "2     2.0        0.0       1.0        1.0         2.0          2.0       1.0   \n",
       "3     6.0        1.0       4.0        5.0         7.0          2.0       5.0   \n",
       "4     7.0        1.0       2.0        3.0         6.0          3.0       4.0   \n",
       "\n",
       "   fearraces  racerare    lrelig   lcograc   lemprac  \n",
       "0        1.0       3.0 -0.191681  0.475294 -0.138715  \n",
       "1        1.0       1.0       NaN -0.185682 -0.619427  \n",
       "2        1.0       1.0 -1.130175 -1.204085 -0.138715  \n",
       "3        2.0       2.0  1.171097  0.508762  0.204095  \n",
       "4        1.0       2.0 -0.263387  0.301278  0.070166  "
      ]
     },
     "execution_count": 6,
     "metadata": {},
     "output_type": "execute_result"
    }
   ],
   "source": [
    "voter_data.head()"
   ]
  },
  {
   "cell_type": "code",
   "execution_count": 7,
   "metadata": {},
   "outputs": [
    {
     "data": {
      "text/html": [
       "<div>\n",
       "<style scoped>\n",
       "    .dataframe tbody tr th:only-of-type {\n",
       "        vertical-align: middle;\n",
       "    }\n",
       "\n",
       "    .dataframe tbody tr th {\n",
       "        vertical-align: top;\n",
       "    }\n",
       "\n",
       "    .dataframe thead th {\n",
       "        text-align: right;\n",
       "    }\n",
       "</style>\n",
       "<table border=\"1\" class=\"dataframe\">\n",
       "  <thead>\n",
       "    <tr style=\"text-align: right;\">\n",
       "      <th></th>\n",
       "      <th>votetrump</th>\n",
       "      <th>age</th>\n",
       "      <th>female</th>\n",
       "      <th>collegeed</th>\n",
       "      <th>famincr</th>\n",
       "      <th>ideo</th>\n",
       "      <th>pid7na</th>\n",
       "      <th>bornagain</th>\n",
       "      <th>religimp</th>\n",
       "      <th>churchatd</th>\n",
       "      <th>prayerfreq</th>\n",
       "      <th>angryracism</th>\n",
       "      <th>whiteadv</th>\n",
       "      <th>fearraces</th>\n",
       "      <th>racerare</th>\n",
       "      <th>lrelig</th>\n",
       "      <th>lcograc</th>\n",
       "      <th>lemprac</th>\n",
       "    </tr>\n",
       "  </thead>\n",
       "  <tbody>\n",
       "    <tr>\n",
       "      <th>count</th>\n",
       "      <td>44932.000000</td>\n",
       "      <td>44932.000000</td>\n",
       "      <td>44932.000000</td>\n",
       "      <td>44932.000000</td>\n",
       "      <td>40212.000000</td>\n",
       "      <td>43430.000000</td>\n",
       "      <td>44320.000000</td>\n",
       "      <td>44910.000000</td>\n",
       "      <td>44912.000000</td>\n",
       "      <td>44610.000000</td>\n",
       "      <td>44028.000000</td>\n",
       "      <td>44885.000000</td>\n",
       "      <td>44880.000000</td>\n",
       "      <td>44832.000000</td>\n",
       "      <td>44846.000000</td>\n",
       "      <td>44928.000000</td>\n",
       "      <td>44931.000000</td>\n",
       "      <td>44930.000000</td>\n",
       "    </tr>\n",
       "    <tr>\n",
       "      <th>mean</th>\n",
       "      <td>0.417409</td>\n",
       "      <td>51.887675</td>\n",
       "      <td>0.545558</td>\n",
       "      <td>0.409552</td>\n",
       "      <td>6.661096</td>\n",
       "      <td>3.025443</td>\n",
       "      <td>3.628046</td>\n",
       "      <td>0.273191</td>\n",
       "      <td>2.797983</td>\n",
       "      <td>2.903878</td>\n",
       "      <td>4.384642</td>\n",
       "      <td>1.677621</td>\n",
       "      <td>2.651114</td>\n",
       "      <td>2.132205</td>\n",
       "      <td>2.279980</td>\n",
       "      <td>0.007330</td>\n",
       "      <td>-0.011388</td>\n",
       "      <td>-0.010587</td>\n",
       "    </tr>\n",
       "    <tr>\n",
       "      <th>std</th>\n",
       "      <td>0.493137</td>\n",
       "      <td>16.006674</td>\n",
       "      <td>0.497926</td>\n",
       "      <td>0.491757</td>\n",
       "      <td>3.133376</td>\n",
       "      <td>1.109896</td>\n",
       "      <td>2.199976</td>\n",
       "      <td>0.445603</td>\n",
       "      <td>1.158270</td>\n",
       "      <td>1.699801</td>\n",
       "      <td>2.349439</td>\n",
       "      <td>0.961253</td>\n",
       "      <td>1.465142</td>\n",
       "      <td>1.130224</td>\n",
       "      <td>1.234908</td>\n",
       "      <td>0.948422</td>\n",
       "      <td>0.826406</td>\n",
       "      <td>0.471285</td>\n",
       "    </tr>\n",
       "    <tr>\n",
       "      <th>min</th>\n",
       "      <td>0.000000</td>\n",
       "      <td>18.000000</td>\n",
       "      <td>0.000000</td>\n",
       "      <td>0.000000</td>\n",
       "      <td>1.000000</td>\n",
       "      <td>1.000000</td>\n",
       "      <td>1.000000</td>\n",
       "      <td>0.000000</td>\n",
       "      <td>1.000000</td>\n",
       "      <td>1.000000</td>\n",
       "      <td>1.000000</td>\n",
       "      <td>1.000000</td>\n",
       "      <td>1.000000</td>\n",
       "      <td>1.000000</td>\n",
       "      <td>1.000000</td>\n",
       "      <td>-1.584900</td>\n",
       "      <td>-1.204085</td>\n",
       "      <td>-0.619427</td>\n",
       "    </tr>\n",
       "    <tr>\n",
       "      <th>25%</th>\n",
       "      <td>0.000000</td>\n",
       "      <td>38.000000</td>\n",
       "      <td>0.000000</td>\n",
       "      <td>0.000000</td>\n",
       "      <td>4.000000</td>\n",
       "      <td>2.000000</td>\n",
       "      <td>1.000000</td>\n",
       "      <td>0.000000</td>\n",
       "      <td>2.000000</td>\n",
       "      <td>1.000000</td>\n",
       "      <td>2.000000</td>\n",
       "      <td>1.000000</td>\n",
       "      <td>1.000000</td>\n",
       "      <td>1.000000</td>\n",
       "      <td>1.000000</td>\n",
       "      <td>-0.637953</td>\n",
       "      <td>-0.643632</td>\n",
       "      <td>-0.619427</td>\n",
       "    </tr>\n",
       "    <tr>\n",
       "      <th>50%</th>\n",
       "      <td>0.000000</td>\n",
       "      <td>54.000000</td>\n",
       "      <td>1.000000</td>\n",
       "      <td>0.000000</td>\n",
       "      <td>6.000000</td>\n",
       "      <td>3.000000</td>\n",
       "      <td>4.000000</td>\n",
       "      <td>0.000000</td>\n",
       "      <td>3.000000</td>\n",
       "      <td>2.000000</td>\n",
       "      <td>5.000000</td>\n",
       "      <td>1.000000</td>\n",
       "      <td>2.000000</td>\n",
       "      <td>2.000000</td>\n",
       "      <td>2.000000</td>\n",
       "      <td>0.060855</td>\n",
       "      <td>-0.005524</td>\n",
       "      <td>0.052228</td>\n",
       "    </tr>\n",
       "    <tr>\n",
       "      <th>75%</th>\n",
       "      <td>1.000000</td>\n",
       "      <td>64.000000</td>\n",
       "      <td>1.000000</td>\n",
       "      <td>1.000000</td>\n",
       "      <td>9.000000</td>\n",
       "      <td>4.000000</td>\n",
       "      <td>6.000000</td>\n",
       "      <td>1.000000</td>\n",
       "      <td>4.000000</td>\n",
       "      <td>5.000000</td>\n",
       "      <td>7.000000</td>\n",
       "      <td>2.000000</td>\n",
       "      <td>4.000000</td>\n",
       "      <td>3.000000</td>\n",
       "      <td>3.000000</td>\n",
       "      <td>0.746089</td>\n",
       "      <td>0.508762</td>\n",
       "      <td>0.271789</td>\n",
       "    </tr>\n",
       "    <tr>\n",
       "      <th>max</th>\n",
       "      <td>1.000000</td>\n",
       "      <td>95.000000</td>\n",
       "      <td>1.000000</td>\n",
       "      <td>1.000000</td>\n",
       "      <td>12.000000</td>\n",
       "      <td>5.000000</td>\n",
       "      <td>7.000000</td>\n",
       "      <td>1.000000</td>\n",
       "      <td>4.000000</td>\n",
       "      <td>6.000000</td>\n",
       "      <td>7.000000</td>\n",
       "      <td>5.000000</td>\n",
       "      <td>5.000000</td>\n",
       "      <td>5.000000</td>\n",
       "      <td>5.000000</td>\n",
       "      <td>1.696614</td>\n",
       "      <td>1.841226</td>\n",
       "      <td>1.386214</td>\n",
       "    </tr>\n",
       "  </tbody>\n",
       "</table>\n",
       "</div>"
      ],
      "text/plain": [
       "          votetrump           age        female     collegeed       famincr  \\\n",
       "count  44932.000000  44932.000000  44932.000000  44932.000000  40212.000000   \n",
       "mean       0.417409     51.887675      0.545558      0.409552      6.661096   \n",
       "std        0.493137     16.006674      0.497926      0.491757      3.133376   \n",
       "min        0.000000     18.000000      0.000000      0.000000      1.000000   \n",
       "25%        0.000000     38.000000      0.000000      0.000000      4.000000   \n",
       "50%        0.000000     54.000000      1.000000      0.000000      6.000000   \n",
       "75%        1.000000     64.000000      1.000000      1.000000      9.000000   \n",
       "max        1.000000     95.000000      1.000000      1.000000     12.000000   \n",
       "\n",
       "               ideo        pid7na     bornagain      religimp     churchatd  \\\n",
       "count  43430.000000  44320.000000  44910.000000  44912.000000  44610.000000   \n",
       "mean       3.025443      3.628046      0.273191      2.797983      2.903878   \n",
       "std        1.109896      2.199976      0.445603      1.158270      1.699801   \n",
       "min        1.000000      1.000000      0.000000      1.000000      1.000000   \n",
       "25%        2.000000      1.000000      0.000000      2.000000      1.000000   \n",
       "50%        3.000000      4.000000      0.000000      3.000000      2.000000   \n",
       "75%        4.000000      6.000000      1.000000      4.000000      5.000000   \n",
       "max        5.000000      7.000000      1.000000      4.000000      6.000000   \n",
       "\n",
       "         prayerfreq   angryracism      whiteadv     fearraces      racerare  \\\n",
       "count  44028.000000  44885.000000  44880.000000  44832.000000  44846.000000   \n",
       "mean       4.384642      1.677621      2.651114      2.132205      2.279980   \n",
       "std        2.349439      0.961253      1.465142      1.130224      1.234908   \n",
       "min        1.000000      1.000000      1.000000      1.000000      1.000000   \n",
       "25%        2.000000      1.000000      1.000000      1.000000      1.000000   \n",
       "50%        5.000000      1.000000      2.000000      2.000000      2.000000   \n",
       "75%        7.000000      2.000000      4.000000      3.000000      3.000000   \n",
       "max        7.000000      5.000000      5.000000      5.000000      5.000000   \n",
       "\n",
       "             lrelig       lcograc       lemprac  \n",
       "count  44928.000000  44931.000000  44930.000000  \n",
       "mean       0.007330     -0.011388     -0.010587  \n",
       "std        0.948422      0.826406      0.471285  \n",
       "min       -1.584900     -1.204085     -0.619427  \n",
       "25%       -0.637953     -0.643632     -0.619427  \n",
       "50%        0.060855     -0.005524      0.052228  \n",
       "75%        0.746089      0.508762      0.271789  \n",
       "max        1.696614      1.841226      1.386214  "
      ]
     },
     "execution_count": 7,
     "metadata": {},
     "output_type": "execute_result"
    }
   ],
   "source": [
    "voter_data.describe()"
   ]
  },
  {
   "cell_type": "code",
   "execution_count": 8,
   "metadata": {},
   "outputs": [
    {
     "data": {
      "text/plain": [
       "state             0\n",
       "votetrump         0\n",
       "age               0\n",
       "female            0\n",
       "collegeed         0\n",
       "racef             0\n",
       "famincr        4720\n",
       "ideo           1502\n",
       "pid7na          612\n",
       "bornagain        22\n",
       "religimp         20\n",
       "churchatd       322\n",
       "prayerfreq      904\n",
       "angryracism      47\n",
       "whiteadv         52\n",
       "fearraces       100\n",
       "racerare         86\n",
       "lrelig            4\n",
       "lcograc           1\n",
       "lemprac           2\n",
       "dtype: int64"
      ]
     },
     "execution_count": 8,
     "metadata": {},
     "output_type": "execute_result"
    }
   ],
   "source": [
    "voter_data.isnull().sum()"
   ]
  },
  {
   "cell_type": "markdown",
   "metadata": {},
   "source": [
    "The features are as follows:\n",
    "\n",
    "| Column Name  | Description                                                                                     |\n",
    "|--------------|-------------------------------------------------------------------------------------------------|\n",
    "| `state`      | A character vector for the state in which the respondent resides                                 |\n",
    "| `votetrump`  | A numeric that equals 1 if the respondent says s/he voted for Trump in 2016                      |\n",
    "| `age`        | A numeric vector for age, roughly calculated as 2016 - birthyr                                   |\n",
    "| `female`     | A numeric that equals 1 if the respondent is a woman                                             |\n",
    "| `collegeed`  | A numeric vector that equals 1 if the respondent says s/he has a college degree                  |\n",
    "| `racef`      | A character vector for the race of the respondent                                                |\n",
    "| `famincr`    | A numeric vector for the respondent's household income, ranging from 1 to 12                     |\n",
    "| `ideo`       | A numeric vector for the respondent's ideology, ranging from 1 (very liberal) to 5 (very conservative) |\n",
    "| `pid7na`     | A numeric vector for the respondent's partisanship, ranging from 1 to 7                          |\n",
    "| `bornagain`  | A numeric vector for whether the respondent self-identifies as a born-again Christian            |\n",
    "| `religimp`   | A numeric vector for the importance of religion to the respondent, ranging from 1 to 4           |\n",
    "| `churchatd`  | A numeric vector for the extent of church attendance, ranging from 1 to 6                        |\n",
    "| `prayerfreq` | A numeric vector for the frequency of prayer, ranging from 1 to 7                                |\n",
    "| `angryracism`| A numeric vector for how angry the respondent is that racism exists, ranging from 1 to 5          |\n",
    "| `whiteadv`   | A numeric vector for agreement with the statement that white people have advantages, ranging from 1 to 5  |\n",
    "| `fearraces`  | A numeric vector for agreement with the statement that the respondent fears other races, ranging from 1 to 5 |\n",
    "| `racerare`   | A numeric vector for agreement with the statement that racism is rare in the U.S., ranging from 1 to 5   |\n",
    "| `lrelig`     | A numeric vector that serves as a latent estimate for religiosity                                |\n",
    "| `lcograc`    | A numeric vector that serves as a latent estimate for cognitive racism                           |\n",
    "| `lemprac`    | A numeric vector that serves as a latent estimate for empathetic racism                          |"
   ]
  },
  {
   "cell_type": "markdown",
   "metadata": {},
   "source": [
    "We can now explore the relation between the features and the voting results."
   ]
  },
  {
   "cell_type": "code",
   "execution_count": 14,
   "metadata": {},
   "outputs": [
    {
     "data": {
      "text/html": [
       "<style type=\"text/css\">\n",
       "#T_10bdc_row0_col0, #T_10bdc_row1_col1, #T_10bdc_row2_col2, #T_10bdc_row3_col3, #T_10bdc_row4_col4, #T_10bdc_row5_col5, #T_10bdc_row6_col6, #T_10bdc_row7_col7, #T_10bdc_row8_col8, #T_10bdc_row9_col9, #T_10bdc_row10_col10, #T_10bdc_row11_col11, #T_10bdc_row12_col12, #T_10bdc_row13_col13, #T_10bdc_row14_col14, #T_10bdc_row15_col15, #T_10bdc_row16_col16, #T_10bdc_row17_col17 {\n",
       "  background-color: #b40426;\n",
       "  color: #f1f1f1;\n",
       "}\n",
       "#T_10bdc_row0_col1, #T_10bdc_row1_col0, #T_10bdc_row6_col7, #T_10bdc_row6_col10, #T_10bdc_row10_col6, #T_10bdc_row12_col15 {\n",
       "  background-color: #9bbcff;\n",
       "  color: #000000;\n",
       "}\n",
       "#T_10bdc_row0_col2, #T_10bdc_row8_col4, #T_10bdc_row10_col3 {\n",
       "  background-color: #506bda;\n",
       "  color: #f1f1f1;\n",
       "}\n",
       "#T_10bdc_row0_col3, #T_10bdc_row1_col3 {\n",
       "  background-color: #4055c8;\n",
       "  color: #f1f1f1;\n",
       "}\n",
       "#T_10bdc_row0_col4, #T_10bdc_row8_col13, #T_10bdc_row11_col13, #T_10bdc_row16_col4, #T_10bdc_row17_col4 {\n",
       "  background-color: #6788ee;\n",
       "  color: #f1f1f1;\n",
       "}\n",
       "#T_10bdc_row0_col5 {\n",
       "  background-color: #f7bca1;\n",
       "  color: #000000;\n",
       "}\n",
       "#T_10bdc_row0_col6 {\n",
       "  background-color: #f49a7b;\n",
       "  color: #000000;\n",
       "}\n",
       "#T_10bdc_row0_col7, #T_10bdc_row12_col8 {\n",
       "  background-color: #a1c0ff;\n",
       "  color: #000000;\n",
       "}\n",
       "#T_10bdc_row0_col8 {\n",
       "  background-color: #aec9fc;\n",
       "  color: #000000;\n",
       "}\n",
       "#T_10bdc_row0_col9, #T_10bdc_row13_col14, #T_10bdc_row13_col16, #T_10bdc_row17_col8 {\n",
       "  background-color: #779af7;\n",
       "  color: #f1f1f1;\n",
       "}\n",
       "#T_10bdc_row0_col10, #T_10bdc_row9_col0, #T_10bdc_row16_col8 {\n",
       "  background-color: #a2c1ff;\n",
       "  color: #000000;\n",
       "}\n",
       "#T_10bdc_row0_col11, #T_10bdc_row5_col14 {\n",
       "  background-color: #d8dce2;\n",
       "  color: #000000;\n",
       "}\n",
       "#T_10bdc_row0_col12 {\n",
       "  background-color: #f7b497;\n",
       "  color: #000000;\n",
       "}\n",
       "#T_10bdc_row0_col13, #T_10bdc_row4_col11, #T_10bdc_row9_col4, #T_10bdc_row9_col17, #T_10bdc_row16_col9 {\n",
       "  background-color: #6e90f2;\n",
       "  color: #f1f1f1;\n",
       "}\n",
       "#T_10bdc_row0_col14, #T_10bdc_row15_col5 {\n",
       "  background-color: #dadce0;\n",
       "  color: #000000;\n",
       "}\n",
       "#T_10bdc_row0_col15 {\n",
       "  background-color: #aac7fd;\n",
       "  color: #000000;\n",
       "}\n",
       "#T_10bdc_row0_col16 {\n",
       "  background-color: #f5c2aa;\n",
       "  color: #000000;\n",
       "}\n",
       "#T_10bdc_row0_col17, #T_10bdc_row7_col5 {\n",
       "  background-color: #c0d4f5;\n",
       "  color: #000000;\n",
       "}\n",
       "#T_10bdc_row1_col2, #T_10bdc_row2_col0, #T_10bdc_row17_col2 {\n",
       "  background-color: #4b64d5;\n",
       "  color: #f1f1f1;\n",
       "}\n",
       "#T_10bdc_row1_col4, #T_10bdc_row4_col5, #T_10bdc_row4_col12, #T_10bdc_row7_col13 {\n",
       "  background-color: #5e7de7;\n",
       "  color: #f1f1f1;\n",
       "}\n",
       "#T_10bdc_row1_col5, #T_10bdc_row9_col6, #T_10bdc_row9_col12 {\n",
       "  background-color: #96b7ff;\n",
       "  color: #000000;\n",
       "}\n",
       "#T_10bdc_row1_col6, #T_10bdc_row8_col11 {\n",
       "  background-color: #7a9df8;\n",
       "  color: #f1f1f1;\n",
       "}\n",
       "#T_10bdc_row1_col7, #T_10bdc_row4_col6, #T_10bdc_row11_col3 {\n",
       "  background-color: #5f7fe8;\n",
       "  color: #f1f1f1;\n",
       "}\n",
       "#T_10bdc_row1_col8, #T_10bdc_row11_col1, #T_10bdc_row13_col11, #T_10bdc_row14_col10 {\n",
       "  background-color: #80a3fa;\n",
       "  color: #f1f1f1;\n",
       "}\n",
       "#T_10bdc_row1_col9, #T_10bdc_row2_col13 {\n",
       "  background-color: #465ecf;\n",
       "  color: #f1f1f1;\n",
       "}\n",
       "#T_10bdc_row1_col10, #T_10bdc_row6_col1, #T_10bdc_row13_col0, #T_10bdc_row14_col7, #T_10bdc_row15_col2 {\n",
       "  background-color: #86a9fc;\n",
       "  color: #f1f1f1;\n",
       "}\n",
       "#T_10bdc_row1_col11 {\n",
       "  background-color: #81a4fb;\n",
       "  color: #f1f1f1;\n",
       "}\n",
       "#T_10bdc_row1_col12, #T_10bdc_row7_col16, #T_10bdc_row10_col2 {\n",
       "  background-color: #94b6ff;\n",
       "  color: #000000;\n",
       "}\n",
       "#T_10bdc_row1_col13, #T_10bdc_row2_col3, #T_10bdc_row12_col2, #T_10bdc_row15_col3 {\n",
       "  background-color: #5470de;\n",
       "  color: #f1f1f1;\n",
       "}\n",
       "#T_10bdc_row1_col14, #T_10bdc_row4_col0, #T_10bdc_row11_col10, #T_10bdc_row12_col9, #T_10bdc_row15_col13 {\n",
       "  background-color: #6384eb;\n",
       "  color: #f1f1f1;\n",
       "}\n",
       "#T_10bdc_row1_col15 {\n",
       "  background-color: #7b9ff9;\n",
       "  color: #f1f1f1;\n",
       "}\n",
       "#T_10bdc_row1_col16, #T_10bdc_row7_col11, #T_10bdc_row13_col12, #T_10bdc_row15_col17 {\n",
       "  background-color: #7699f6;\n",
       "  color: #f1f1f1;\n",
       "}\n",
       "#T_10bdc_row1_col17, #T_10bdc_row9_col2, #T_10bdc_row13_col6 {\n",
       "  background-color: #7093f3;\n",
       "  color: #f1f1f1;\n",
       "}\n",
       "#T_10bdc_row2_col1, #T_10bdc_row3_col17, #T_10bdc_row5_col3 {\n",
       "  background-color: #455cce;\n",
       "  color: #f1f1f1;\n",
       "}\n",
       "#T_10bdc_row2_col4, #T_10bdc_row2_col11, #T_10bdc_row2_col14, #T_10bdc_row2_col17, #T_10bdc_row3_col0, #T_10bdc_row3_col1, #T_10bdc_row3_col5, #T_10bdc_row3_col6, #T_10bdc_row3_col7, #T_10bdc_row3_col8, #T_10bdc_row3_col12, #T_10bdc_row3_col13, #T_10bdc_row3_col15, #T_10bdc_row3_col16, #T_10bdc_row4_col2, #T_10bdc_row4_col7, #T_10bdc_row4_col9, #T_10bdc_row4_col10, #T_10bdc_row4_col15, #T_10bdc_row12_col3 {\n",
       "  background-color: #3b4cc0;\n",
       "  color: #f1f1f1;\n",
       "}\n",
       "#T_10bdc_row2_col5 {\n",
       "  background-color: #4961d2;\n",
       "  color: #f1f1f1;\n",
       "}\n",
       "#T_10bdc_row2_col6, #T_10bdc_row2_col9, #T_10bdc_row3_col9, #T_10bdc_row11_col2 {\n",
       "  background-color: #3e51c5;\n",
       "  color: #f1f1f1;\n",
       "}\n",
       "#T_10bdc_row2_col7, #T_10bdc_row5_col4, #T_10bdc_row6_col13, #T_10bdc_row13_col10, #T_10bdc_row14_col9, #T_10bdc_row16_col13 {\n",
       "  background-color: #6687ed;\n",
       "  color: #f1f1f1;\n",
       "}\n",
       "#T_10bdc_row2_col8, #T_10bdc_row9_col1, #T_10bdc_row9_col3, #T_10bdc_row9_col11 {\n",
       "  background-color: #7396f5;\n",
       "  color: #f1f1f1;\n",
       "}\n",
       "#T_10bdc_row2_col10 {\n",
       "  background-color: #82a6fb;\n",
       "  color: #f1f1f1;\n",
       "}\n",
       "#T_10bdc_row2_col12, #T_10bdc_row4_col17, #T_10bdc_row12_col13 {\n",
       "  background-color: #5673e0;\n",
       "  color: #f1f1f1;\n",
       "}\n",
       "#T_10bdc_row2_col15, #T_10bdc_row7_col17, #T_10bdc_row17_col15 {\n",
       "  background-color: #6f92f3;\n",
       "  color: #f1f1f1;\n",
       "}\n",
       "#T_10bdc_row2_col16, #T_10bdc_row3_col10 {\n",
       "  background-color: #3c4ec2;\n",
       "  color: #f1f1f1;\n",
       "}\n",
       "#T_10bdc_row3_col2, #T_10bdc_row3_col14, #T_10bdc_row5_col2, #T_10bdc_row6_col2 {\n",
       "  background-color: #516ddb;\n",
       "  color: #f1f1f1;\n",
       "}\n",
       "#T_10bdc_row3_col4, #T_10bdc_row4_col3 {\n",
       "  background-color: #cdd9ec;\n",
       "  color: #000000;\n",
       "}\n",
       "#T_10bdc_row3_col11, #T_10bdc_row13_col3 {\n",
       "  background-color: #5a78e4;\n",
       "  color: #f1f1f1;\n",
       "}\n",
       "#T_10bdc_row4_col1 {\n",
       "  background-color: #5977e3;\n",
       "  color: #f1f1f1;\n",
       "}\n",
       "#T_10bdc_row4_col8 {\n",
       "  background-color: #3d50c3;\n",
       "  color: #f1f1f1;\n",
       "}\n",
       "#T_10bdc_row4_col13 {\n",
       "  background-color: #3f53c6;\n",
       "  color: #f1f1f1;\n",
       "}\n",
       "#T_10bdc_row4_col14, #T_10bdc_row14_col1 {\n",
       "  background-color: #688aef;\n",
       "  color: #f1f1f1;\n",
       "}\n",
       "#T_10bdc_row4_col16, #T_10bdc_row9_col13, #T_10bdc_row12_col4, #T_10bdc_row13_col4, #T_10bdc_row14_col3 {\n",
       "  background-color: #5d7ce6;\n",
       "  color: #f1f1f1;\n",
       "}\n",
       "#T_10bdc_row5_col0 {\n",
       "  background-color: #f7ba9f;\n",
       "  color: #000000;\n",
       "}\n",
       "#T_10bdc_row5_col1, #T_10bdc_row10_col16 {\n",
       "  background-color: #9abbff;\n",
       "  color: #000000;\n",
       "}\n",
       "#T_10bdc_row5_col6, #T_10bdc_row11_col17 {\n",
       "  background-color: #f7af91;\n",
       "  color: #000000;\n",
       "}\n",
       "#T_10bdc_row5_col7, #T_10bdc_row5_col17, #T_10bdc_row17_col14 {\n",
       "  background-color: #bcd2f7;\n",
       "  color: #000000;\n",
       "}\n",
       "#T_10bdc_row5_col8 {\n",
       "  background-color: #d1dae9;\n",
       "  color: #000000;\n",
       "}\n",
       "#T_10bdc_row5_col9, #T_10bdc_row8_col16 {\n",
       "  background-color: #a7c5fe;\n",
       "  color: #000000;\n",
       "}\n",
       "#T_10bdc_row5_col10 {\n",
       "  background-color: #c1d4f4;\n",
       "  color: #000000;\n",
       "}\n",
       "#T_10bdc_row5_col11, #T_10bdc_row14_col6 {\n",
       "  background-color: #ccd9ed;\n",
       "  color: #000000;\n",
       "}\n",
       "#T_10bdc_row5_col12 {\n",
       "  background-color: #f2c9b4;\n",
       "  color: #000000;\n",
       "}\n",
       "#T_10bdc_row5_col13, #T_10bdc_row7_col2 {\n",
       "  background-color: #7597f6;\n",
       "  color: #f1f1f1;\n",
       "}\n",
       "#T_10bdc_row5_col15, #T_10bdc_row7_col9 {\n",
       "  background-color: #d3dbe7;\n",
       "  color: #000000;\n",
       "}\n",
       "#T_10bdc_row5_col16, #T_10bdc_row12_col6 {\n",
       "  background-color: #f2cbb7;\n",
       "  color: #000000;\n",
       "}\n",
       "#T_10bdc_row6_col0 {\n",
       "  background-color: #f39577;\n",
       "  color: #000000;\n",
       "}\n",
       "#T_10bdc_row6_col3 {\n",
       "  background-color: #4f69d9;\n",
       "  color: #f1f1f1;\n",
       "}\n",
       "#T_10bdc_row6_col4, #T_10bdc_row10_col11, #T_10bdc_row11_col4, #T_10bdc_row13_col8, #T_10bdc_row14_col4, #T_10bdc_row17_col7 {\n",
       "  background-color: #7295f4;\n",
       "  color: #f1f1f1;\n",
       "}\n",
       "#T_10bdc_row6_col5, #T_10bdc_row8_col9 {\n",
       "  background-color: #f7aa8c;\n",
       "  color: #000000;\n",
       "}\n",
       "#T_10bdc_row6_col8, #T_10bdc_row8_col6, #T_10bdc_row15_col16 {\n",
       "  background-color: #a6c4fe;\n",
       "  color: #000000;\n",
       "}\n",
       "#T_10bdc_row6_col9, #T_10bdc_row8_col17, #T_10bdc_row15_col11 {\n",
       "  background-color: #799cf8;\n",
       "  color: #f1f1f1;\n",
       "}\n",
       "#T_10bdc_row6_col11, #T_10bdc_row17_col16 {\n",
       "  background-color: #cedaeb;\n",
       "  color: #000000;\n",
       "}\n",
       "#T_10bdc_row6_col12, #T_10bdc_row10_col9 {\n",
       "  background-color: #f5c4ac;\n",
       "  color: #000000;\n",
       "}\n",
       "#T_10bdc_row6_col14 {\n",
       "  background-color: #d2dbe8;\n",
       "  color: #000000;\n",
       "}\n",
       "#T_10bdc_row6_col15 {\n",
       "  background-color: #a5c3fe;\n",
       "  color: #000000;\n",
       "}\n",
       "#T_10bdc_row6_col16 {\n",
       "  background-color: #f1cdba;\n",
       "  color: #000000;\n",
       "}\n",
       "#T_10bdc_row6_col17 {\n",
       "  background-color: #b6cefa;\n",
       "  color: #000000;\n",
       "}\n",
       "#T_10bdc_row7_col0, #T_10bdc_row10_col12, #T_10bdc_row15_col6 {\n",
       "  background-color: #a9c6fd;\n",
       "  color: #000000;\n",
       "}\n",
       "#T_10bdc_row7_col1, #T_10bdc_row13_col15, #T_10bdc_row17_col10 {\n",
       "  background-color: #6a8bef;\n",
       "  color: #f1f1f1;\n",
       "}\n",
       "#T_10bdc_row7_col3, #T_10bdc_row17_col9 {\n",
       "  background-color: #4c66d6;\n",
       "  color: #f1f1f1;\n",
       "}\n",
       "#T_10bdc_row7_col4 {\n",
       "  background-color: #4a63d3;\n",
       "  color: #f1f1f1;\n",
       "}\n",
       "#T_10bdc_row7_col6 {\n",
       "  background-color: #98b9ff;\n",
       "  color: #000000;\n",
       "}\n",
       "#T_10bdc_row7_col8, #T_10bdc_row11_col12 {\n",
       "  background-color: #e7d7ce;\n",
       "  color: #000000;\n",
       "}\n",
       "#T_10bdc_row7_col10 {\n",
       "  background-color: #e0dbd8;\n",
       "  color: #000000;\n",
       "}\n",
       "#T_10bdc_row7_col12, #T_10bdc_row16_col15 {\n",
       "  background-color: #9dbdff;\n",
       "  color: #000000;\n",
       "}\n",
       "#T_10bdc_row7_col14, #T_10bdc_row8_col1 {\n",
       "  background-color: #8caffe;\n",
       "  color: #000000;\n",
       "}\n",
       "#T_10bdc_row7_col15 {\n",
       "  background-color: #edd2c3;\n",
       "  color: #000000;\n",
       "}\n",
       "#T_10bdc_row8_col0, #T_10bdc_row15_col0 {\n",
       "  background-color: #b9d0f9;\n",
       "  color: #000000;\n",
       "}\n",
       "#T_10bdc_row8_col2 {\n",
       "  background-color: #84a7fc;\n",
       "  color: #f1f1f1;\n",
       "}\n",
       "#T_10bdc_row8_col3, #T_10bdc_row10_col4 {\n",
       "  background-color: #4e68d8;\n",
       "  color: #f1f1f1;\n",
       "}\n",
       "#T_10bdc_row8_col5, #T_10bdc_row14_col11 {\n",
       "  background-color: #d6dce4;\n",
       "  color: #000000;\n",
       "}\n",
       "#T_10bdc_row8_col7, #T_10bdc_row11_col16 {\n",
       "  background-color: #e8d6cc;\n",
       "  color: #000000;\n",
       "}\n",
       "#T_10bdc_row8_col10, #T_10bdc_row13_col17 {\n",
       "  background-color: #ee8669;\n",
       "  color: #f1f1f1;\n",
       "}\n",
       "#T_10bdc_row8_col12 {\n",
       "  background-color: #b1cbfc;\n",
       "  color: #000000;\n",
       "}\n",
       "#T_10bdc_row8_col14, #T_10bdc_row12_col10, #T_10bdc_row15_col14 {\n",
       "  background-color: #97b8ff;\n",
       "  color: #000000;\n",
       "}\n",
       "#T_10bdc_row8_col15 {\n",
       "  background-color: #c53334;\n",
       "  color: #f1f1f1;\n",
       "}\n",
       "#T_10bdc_row9_col5, #T_10bdc_row11_col6 {\n",
       "  background-color: #c5d6f2;\n",
       "  color: #000000;\n",
       "}\n",
       "#T_10bdc_row9_col7 {\n",
       "  background-color: #e3d9d3;\n",
       "  color: #000000;\n",
       "}\n",
       "#T_10bdc_row9_col8 {\n",
       "  background-color: #f59f80;\n",
       "  color: #000000;\n",
       "}\n",
       "#T_10bdc_row9_col10 {\n",
       "  background-color: #f7b89c;\n",
       "  color: #000000;\n",
       "}\n",
       "#T_10bdc_row9_col14, #T_10bdc_row12_col1, #T_10bdc_row14_col8 {\n",
       "  background-color: #8fb1fe;\n",
       "  color: #000000;\n",
       "}\n",
       "#T_10bdc_row9_col15, #T_10bdc_row16_col12 {\n",
       "  background-color: #e67259;\n",
       "  color: #f1f1f1;\n",
       "}\n",
       "#T_10bdc_row9_col16, #T_10bdc_row10_col1, #T_10bdc_row16_col10 {\n",
       "  background-color: #93b5fe;\n",
       "  color: #000000;\n",
       "}\n",
       "#T_10bdc_row10_col0 {\n",
       "  background-color: #adc9fd;\n",
       "  color: #000000;\n",
       "}\n",
       "#T_10bdc_row10_col5, #T_10bdc_row17_col0 {\n",
       "  background-color: #c9d7f0;\n",
       "  color: #000000;\n",
       "}\n",
       "#T_10bdc_row10_col7 {\n",
       "  background-color: #e1dad6;\n",
       "  color: #000000;\n",
       "}\n",
       "#T_10bdc_row10_col8 {\n",
       "  background-color: #ee8468;\n",
       "  color: #f1f1f1;\n",
       "}\n",
       "#T_10bdc_row10_col13 {\n",
       "  background-color: #5b7ae5;\n",
       "  color: #f1f1f1;\n",
       "}\n",
       "#T_10bdc_row10_col14, #T_10bdc_row14_col15 {\n",
       "  background-color: #89acfd;\n",
       "  color: #000000;\n",
       "}\n",
       "#T_10bdc_row10_col15, #T_10bdc_row15_col10 {\n",
       "  background-color: #e16751;\n",
       "  color: #f1f1f1;\n",
       "}\n",
       "#T_10bdc_row10_col17, #T_10bdc_row11_col7, #T_10bdc_row11_col8 {\n",
       "  background-color: #6b8df0;\n",
       "  color: #f1f1f1;\n",
       "}\n",
       "#T_10bdc_row11_col0 {\n",
       "  background-color: #d7dce3;\n",
       "  color: #000000;\n",
       "}\n",
       "#T_10bdc_row11_col5 {\n",
       "  background-color: #cad8ef;\n",
       "  color: #000000;\n",
       "}\n",
       "#T_10bdc_row11_col9, #T_10bdc_row14_col2 {\n",
       "  background-color: #445acc;\n",
       "  color: #f1f1f1;\n",
       "}\n",
       "#T_10bdc_row11_col14 {\n",
       "  background-color: #d4dbe6;\n",
       "  color: #000000;\n",
       "}\n",
       "#T_10bdc_row11_col15, #T_10bdc_row13_col2, #T_10bdc_row14_col13 {\n",
       "  background-color: #6485ec;\n",
       "  color: #f1f1f1;\n",
       "}\n",
       "#T_10bdc_row12_col0 {\n",
       "  background-color: #f7b79b;\n",
       "  color: #000000;\n",
       "}\n",
       "#T_10bdc_row12_col5 {\n",
       "  background-color: #f1ccb8;\n",
       "  color: #000000;\n",
       "}\n",
       "#T_10bdc_row12_col7, #T_10bdc_row15_col1 {\n",
       "  background-color: #8db0fe;\n",
       "  color: #000000;\n",
       "}\n",
       "#T_10bdc_row12_col11 {\n",
       "  background-color: #e5d8d1;\n",
       "  color: #000000;\n",
       "}\n",
       "#T_10bdc_row12_col14 {\n",
       "  background-color: #e6d7cf;\n",
       "  color: #000000;\n",
       "}\n",
       "#T_10bdc_row12_col16 {\n",
       "  background-color: #e8765c;\n",
       "  color: #f1f1f1;\n",
       "}\n",
       "#T_10bdc_row12_col17 {\n",
       "  background-color: #bad0f8;\n",
       "  color: #000000;\n",
       "}\n",
       "#T_10bdc_row13_col1, #T_10bdc_row13_col7 {\n",
       "  background-color: #6c8ff1;\n",
       "  color: #f1f1f1;\n",
       "}\n",
       "#T_10bdc_row13_col5 {\n",
       "  background-color: #88abfd;\n",
       "  color: #000000;\n",
       "}\n",
       "#T_10bdc_row13_col9, #T_10bdc_row16_col2, #T_10bdc_row16_col3 {\n",
       "  background-color: #485fd1;\n",
       "  color: #f1f1f1;\n",
       "}\n",
       "#T_10bdc_row14_col0 {\n",
       "  background-color: #dcdddd;\n",
       "  color: #000000;\n",
       "}\n",
       "#T_10bdc_row14_col5 {\n",
       "  background-color: #d9dce1;\n",
       "  color: #000000;\n",
       "}\n",
       "#T_10bdc_row14_col12, #T_10bdc_row16_col11 {\n",
       "  background-color: #ead4c8;\n",
       "  color: #000000;\n",
       "}\n",
       "#T_10bdc_row14_col16, #T_10bdc_row16_col14 {\n",
       "  background-color: #d75445;\n",
       "  color: #f1f1f1;\n",
       "}\n",
       "#T_10bdc_row14_col17 {\n",
       "  background-color: #b7cff9;\n",
       "  color: #000000;\n",
       "}\n",
       "#T_10bdc_row15_col4 {\n",
       "  background-color: #536edd;\n",
       "  color: #f1f1f1;\n",
       "}\n",
       "#T_10bdc_row15_col7, #T_10bdc_row16_col6 {\n",
       "  background-color: #efcfbf;\n",
       "  color: #000000;\n",
       "}\n",
       "#T_10bdc_row15_col8 {\n",
       "  background-color: #c43032;\n",
       "  color: #f1f1f1;\n",
       "}\n",
       "#T_10bdc_row15_col9 {\n",
       "  background-color: #e97a5f;\n",
       "  color: #f1f1f1;\n",
       "}\n",
       "#T_10bdc_row15_col12 {\n",
       "  background-color: #afcafc;\n",
       "  color: #000000;\n",
       "}\n",
       "#T_10bdc_row16_col0 {\n",
       "  background-color: #f5c0a7;\n",
       "  color: #000000;\n",
       "}\n",
       "#T_10bdc_row16_col1, #T_10bdc_row17_col1 {\n",
       "  background-color: #7da0f9;\n",
       "  color: #f1f1f1;\n",
       "}\n",
       "#T_10bdc_row16_col5 {\n",
       "  background-color: #f2cab5;\n",
       "  color: #000000;\n",
       "}\n",
       "#T_10bdc_row16_col7 {\n",
       "  background-color: #90b2fe;\n",
       "  color: #000000;\n",
       "}\n",
       "#T_10bdc_row16_col17 {\n",
       "  background-color: #cbd8ee;\n",
       "  color: #000000;\n",
       "}\n",
       "#T_10bdc_row17_col3 {\n",
       "  background-color: #5875e1;\n",
       "  color: #f1f1f1;\n",
       "}\n",
       "#T_10bdc_row17_col5 {\n",
       "  background-color: #c3d5f4;\n",
       "  color: #000000;\n",
       "}\n",
       "#T_10bdc_row17_col6 {\n",
       "  background-color: #b5cdfa;\n",
       "  color: #000000;\n",
       "}\n",
       "#T_10bdc_row17_col11 {\n",
       "  background-color: #f7a98b;\n",
       "  color: #000000;\n",
       "}\n",
       "#T_10bdc_row17_col12 {\n",
       "  background-color: #c7d7f0;\n",
       "  color: #000000;\n",
       "}\n",
       "#T_10bdc_row17_col13 {\n",
       "  background-color: #f08a6c;\n",
       "  color: #f1f1f1;\n",
       "}\n",
       "</style>\n",
       "<table id=\"T_10bdc\">\n",
       "  <thead>\n",
       "    <tr>\n",
       "      <th class=\"blank level0\" >&nbsp;</th>\n",
       "      <th id=\"T_10bdc_level0_col0\" class=\"col_heading level0 col0\" >votetrump</th>\n",
       "      <th id=\"T_10bdc_level0_col1\" class=\"col_heading level0 col1\" >age</th>\n",
       "      <th id=\"T_10bdc_level0_col2\" class=\"col_heading level0 col2\" >female</th>\n",
       "      <th id=\"T_10bdc_level0_col3\" class=\"col_heading level0 col3\" >collegeed</th>\n",
       "      <th id=\"T_10bdc_level0_col4\" class=\"col_heading level0 col4\" >famincr</th>\n",
       "      <th id=\"T_10bdc_level0_col5\" class=\"col_heading level0 col5\" >ideo</th>\n",
       "      <th id=\"T_10bdc_level0_col6\" class=\"col_heading level0 col6\" >pid7na</th>\n",
       "      <th id=\"T_10bdc_level0_col7\" class=\"col_heading level0 col7\" >bornagain</th>\n",
       "      <th id=\"T_10bdc_level0_col8\" class=\"col_heading level0 col8\" >religimp</th>\n",
       "      <th id=\"T_10bdc_level0_col9\" class=\"col_heading level0 col9\" >churchatd</th>\n",
       "      <th id=\"T_10bdc_level0_col10\" class=\"col_heading level0 col10\" >prayerfreq</th>\n",
       "      <th id=\"T_10bdc_level0_col11\" class=\"col_heading level0 col11\" >angryracism</th>\n",
       "      <th id=\"T_10bdc_level0_col12\" class=\"col_heading level0 col12\" >whiteadv</th>\n",
       "      <th id=\"T_10bdc_level0_col13\" class=\"col_heading level0 col13\" >fearraces</th>\n",
       "      <th id=\"T_10bdc_level0_col14\" class=\"col_heading level0 col14\" >racerare</th>\n",
       "      <th id=\"T_10bdc_level0_col15\" class=\"col_heading level0 col15\" >lrelig</th>\n",
       "      <th id=\"T_10bdc_level0_col16\" class=\"col_heading level0 col16\" >lcograc</th>\n",
       "      <th id=\"T_10bdc_level0_col17\" class=\"col_heading level0 col17\" >lemprac</th>\n",
       "    </tr>\n",
       "  </thead>\n",
       "  <tbody>\n",
       "    <tr>\n",
       "      <th id=\"T_10bdc_level0_row0\" class=\"row_heading level0 row0\" >votetrump</th>\n",
       "      <td id=\"T_10bdc_row0_col0\" class=\"data row0 col0\" >1.000000</td>\n",
       "      <td id=\"T_10bdc_row0_col1\" class=\"data row0 col1\" >0.184245</td>\n",
       "      <td id=\"T_10bdc_row0_col2\" class=\"data row0 col2\" >-0.083383</td>\n",
       "      <td id=\"T_10bdc_row0_col3\" class=\"data row0 col3\" >-0.148235</td>\n",
       "      <td id=\"T_10bdc_row0_col4\" class=\"data row0 col4\" >0.000199</td>\n",
       "      <td id=\"T_10bdc_row0_col5\" class=\"data row0 col5\" >0.606259</td>\n",
       "      <td id=\"T_10bdc_row0_col6\" class=\"data row0 col6\" >0.725064</td>\n",
       "      <td id=\"T_10bdc_row0_col7\" class=\"data row0 col7\" >0.229583</td>\n",
       "      <td id=\"T_10bdc_row0_col8\" class=\"data row0 col8\" >0.283912</td>\n",
       "      <td id=\"T_10bdc_row0_col9\" class=\"data row0 col9\" >0.206353</td>\n",
       "      <td id=\"T_10bdc_row0_col10\" class=\"data row0 col10\" >0.245038</td>\n",
       "      <td id=\"T_10bdc_row0_col11\" class=\"data row0 col11\" >0.402290</td>\n",
       "      <td id=\"T_10bdc_row0_col12\" class=\"data row0 col12\" >0.621102</td>\n",
       "      <td id=\"T_10bdc_row0_col13\" class=\"data row0 col13\" >0.116723</td>\n",
       "      <td id=\"T_10bdc_row0_col14\" class=\"data row0 col14\" >0.425202</td>\n",
       "      <td id=\"T_10bdc_row0_col15\" class=\"data row0 col15\" >0.284777</td>\n",
       "      <td id=\"T_10bdc_row0_col16\" class=\"data row0 col16\" >0.584180</td>\n",
       "      <td id=\"T_10bdc_row0_col17\" class=\"data row0 col17\" >0.342119</td>\n",
       "    </tr>\n",
       "    <tr>\n",
       "      <th id=\"T_10bdc_level0_row1\" class=\"row_heading level0 row1\" >age</th>\n",
       "      <td id=\"T_10bdc_row1_col0\" class=\"data row1 col0\" >0.184245</td>\n",
       "      <td id=\"T_10bdc_row1_col1\" class=\"data row1 col1\" >1.000000</td>\n",
       "      <td id=\"T_10bdc_row1_col2\" class=\"data row1 col2\" >-0.103753</td>\n",
       "      <td id=\"T_10bdc_row1_col3\" class=\"data row1 col3\" >-0.148028</td>\n",
       "      <td id=\"T_10bdc_row1_col4\" class=\"data row1 col4\" >-0.033995</td>\n",
       "      <td id=\"T_10bdc_row1_col5\" class=\"data row1 col5\" >0.180310</td>\n",
       "      <td id=\"T_10bdc_row1_col6\" class=\"data row1 col6\" >0.119883</td>\n",
       "      <td id=\"T_10bdc_row1_col7\" class=\"data row1 col7\" >0.023539</td>\n",
       "      <td id=\"T_10bdc_row1_col8\" class=\"data row1 col8\" >0.135981</td>\n",
       "      <td id=\"T_10bdc_row1_col9\" class=\"data row1 col9\" >0.057779</td>\n",
       "      <td id=\"T_10bdc_row1_col10\" class=\"data row1 col10\" >0.158883</td>\n",
       "      <td id=\"T_10bdc_row1_col11\" class=\"data row1 col11\" >0.097561</td>\n",
       "      <td id=\"T_10bdc_row1_col12\" class=\"data row1 col12\" >0.143682</td>\n",
       "      <td id=\"T_10bdc_row1_col13\" class=\"data row1 col13\" >0.034021</td>\n",
       "      <td id=\"T_10bdc_row1_col14\" class=\"data row1 col14\" >0.019096</td>\n",
       "      <td id=\"T_10bdc_row1_col15\" class=\"data row1 col15\" >0.141173</td>\n",
       "      <td id=\"T_10bdc_row1_col16\" class=\"data row1 col16\" >0.086982</td>\n",
       "      <td id=\"T_10bdc_row1_col17\" class=\"data row1 col17\" >0.087371</td>\n",
       "    </tr>\n",
       "    <tr>\n",
       "      <th id=\"T_10bdc_level0_row2\" class=\"row_heading level0 row2\" >female</th>\n",
       "      <td id=\"T_10bdc_row2_col0\" class=\"data row2 col0\" >-0.083383</td>\n",
       "      <td id=\"T_10bdc_row2_col1\" class=\"data row2 col1\" >-0.103753</td>\n",
       "      <td id=\"T_10bdc_row2_col2\" class=\"data row2 col2\" >1.000000</td>\n",
       "      <td id=\"T_10bdc_row2_col3\" class=\"data row2 col3\" >-0.078838</td>\n",
       "      <td id=\"T_10bdc_row2_col4\" class=\"data row2 col4\" >-0.167920</td>\n",
       "      <td id=\"T_10bdc_row2_col5\" class=\"data row2 col5\" >-0.077010</td>\n",
       "      <td id=\"T_10bdc_row2_col6\" class=\"data row2 col6\" >-0.080537</td>\n",
       "      <td id=\"T_10bdc_row2_col7\" class=\"data row2 col7\" >0.043492</td>\n",
       "      <td id=\"T_10bdc_row2_col8\" class=\"data row2 col8\" >0.096512</td>\n",
       "      <td id=\"T_10bdc_row2_col9\" class=\"data row2 col9\" >0.031227</td>\n",
       "      <td id=\"T_10bdc_row2_col10\" class=\"data row2 col10\" >0.149445</td>\n",
       "      <td id=\"T_10bdc_row2_col11\" class=\"data row2 col11\" >-0.152191</td>\n",
       "      <td id=\"T_10bdc_row2_col12\" class=\"data row2 col12\" >-0.068963</td>\n",
       "      <td id=\"T_10bdc_row2_col13\" class=\"data row2 col13\" >-0.009951</td>\n",
       "      <td id=\"T_10bdc_row2_col14\" class=\"data row2 col14\" >-0.130972</td>\n",
       "      <td id=\"T_10bdc_row2_col15\" class=\"data row2 col15\" >0.101554</td>\n",
       "      <td id=\"T_10bdc_row2_col16\" class=\"data row2 col16\" >-0.115926</td>\n",
       "      <td id=\"T_10bdc_row2_col17\" class=\"data row2 col17\" >-0.100028</td>\n",
       "    </tr>\n",
       "    <tr>\n",
       "      <th id=\"T_10bdc_level0_row3\" class=\"row_heading level0 row3\" >collegeed</th>\n",
       "      <td id=\"T_10bdc_row3_col0\" class=\"data row3 col0\" >-0.148235</td>\n",
       "      <td id=\"T_10bdc_row3_col1\" class=\"data row3 col1\" >-0.148028</td>\n",
       "      <td id=\"T_10bdc_row3_col2\" class=\"data row3 col2\" >-0.078838</td>\n",
       "      <td id=\"T_10bdc_row3_col3\" class=\"data row3 col3\" >1.000000</td>\n",
       "      <td id=\"T_10bdc_row3_col4\" class=\"data row3 col4\" >0.347783</td>\n",
       "      <td id=\"T_10bdc_row3_col5\" class=\"data row3 col5\" >-0.133413</td>\n",
       "      <td id=\"T_10bdc_row3_col6\" class=\"data row3 col6\" >-0.093793</td>\n",
       "      <td id=\"T_10bdc_row3_col7\" class=\"data row3 col7\" >-0.105742</td>\n",
       "      <td id=\"T_10bdc_row3_col8\" class=\"data row3 col8\" >-0.097616</td>\n",
       "      <td id=\"T_10bdc_row3_col9\" class=\"data row3 col9\" >0.034600</td>\n",
       "      <td id=\"T_10bdc_row3_col10\" class=\"data row3 col10\" >-0.088573</td>\n",
       "      <td id=\"T_10bdc_row3_col11\" class=\"data row3 col11\" >-0.034737</td>\n",
       "      <td id=\"T_10bdc_row3_col12\" class=\"data row3 col12\" >-0.175281</td>\n",
       "      <td id=\"T_10bdc_row3_col13\" class=\"data row3 col13\" >-0.055089</td>\n",
       "      <td id=\"T_10bdc_row3_col14\" class=\"data row3 col14\" >-0.045801</td>\n",
       "      <td id=\"T_10bdc_row3_col15\" class=\"data row3 col15\" >-0.076789</td>\n",
       "      <td id=\"T_10bdc_row3_col16\" class=\"data row3 col16\" >-0.123367</td>\n",
       "      <td id=\"T_10bdc_row3_col17\" class=\"data row3 col17\" >-0.061074</td>\n",
       "    </tr>\n",
       "    <tr>\n",
       "      <th id=\"T_10bdc_level0_row4\" class=\"row_heading level0 row4\" >famincr</th>\n",
       "      <td id=\"T_10bdc_row4_col0\" class=\"data row4 col0\" >0.000199</td>\n",
       "      <td id=\"T_10bdc_row4_col1\" class=\"data row4 col1\" >-0.033995</td>\n",
       "      <td id=\"T_10bdc_row4_col2\" class=\"data row4 col2\" >-0.167920</td>\n",
       "      <td id=\"T_10bdc_row4_col3\" class=\"data row4 col3\" >0.347783</td>\n",
       "      <td id=\"T_10bdc_row4_col4\" class=\"data row4 col4\" >1.000000</td>\n",
       "      <td id=\"T_10bdc_row4_col5\" class=\"data row4 col5\" >-0.004805</td>\n",
       "      <td id=\"T_10bdc_row4_col6\" class=\"data row4 col6\" >0.035677</td>\n",
       "      <td id=\"T_10bdc_row4_col7\" class=\"data row4 col7\" >-0.108169</td>\n",
       "      <td id=\"T_10bdc_row4_col8\" class=\"data row4 col8\" >-0.084798</td>\n",
       "      <td id=\"T_10bdc_row4_col9\" class=\"data row4 col9\" >0.019418</td>\n",
       "      <td id=\"T_10bdc_row4_col10\" class=\"data row4 col10\" >-0.093834</td>\n",
       "      <td id=\"T_10bdc_row4_col11\" class=\"data row4 col11\" >0.035490</td>\n",
       "      <td id=\"T_10bdc_row4_col12\" class=\"data row4 col12\" >-0.038516</td>\n",
       "      <td id=\"T_10bdc_row4_col13\" class=\"data row4 col13\" >-0.038032</td>\n",
       "      <td id=\"T_10bdc_row4_col14\" class=\"data row4 col14\" >0.035875</td>\n",
       "      <td id=\"T_10bdc_row4_col15\" class=\"data row4 col15\" >-0.076363</td>\n",
       "      <td id=\"T_10bdc_row4_col16\" class=\"data row4 col16\" >-0.000451</td>\n",
       "      <td id=\"T_10bdc_row4_col17\" class=\"data row4 col17\" >0.000802</td>\n",
       "    </tr>\n",
       "    <tr>\n",
       "      <th id=\"T_10bdc_level0_row5\" class=\"row_heading level0 row5\" >ideo</th>\n",
       "      <td id=\"T_10bdc_row5_col0\" class=\"data row5 col0\" >0.606259</td>\n",
       "      <td id=\"T_10bdc_row5_col1\" class=\"data row5 col1\" >0.180310</td>\n",
       "      <td id=\"T_10bdc_row5_col2\" class=\"data row5 col2\" >-0.077010</td>\n",
       "      <td id=\"T_10bdc_row5_col3\" class=\"data row5 col3\" >-0.133413</td>\n",
       "      <td id=\"T_10bdc_row5_col4\" class=\"data row5 col4\" >-0.004805</td>\n",
       "      <td id=\"T_10bdc_row5_col5\" class=\"data row5 col5\" >1.000000</td>\n",
       "      <td id=\"T_10bdc_row5_col6\" class=\"data row5 col6\" >0.665230</td>\n",
       "      <td id=\"T_10bdc_row5_col7\" class=\"data row5 col7\" >0.321649</td>\n",
       "      <td id=\"T_10bdc_row5_col8\" class=\"data row5 col8\" >0.402754</td>\n",
       "      <td id=\"T_10bdc_row5_col9\" class=\"data row5 col9\" >0.339664</td>\n",
       "      <td id=\"T_10bdc_row5_col10\" class=\"data row5 col10\" >0.349586</td>\n",
       "      <td id=\"T_10bdc_row5_col11\" class=\"data row5 col11\" >0.355933</td>\n",
       "      <td id=\"T_10bdc_row5_col12\" class=\"data row5 col12\" >0.539715</td>\n",
       "      <td id=\"T_10bdc_row5_col13\" class=\"data row5 col13\" >0.135583</td>\n",
       "      <td id=\"T_10bdc_row5_col14\" class=\"data row5 col14\" >0.416658</td>\n",
       "      <td id=\"T_10bdc_row5_col15\" class=\"data row5 col15\" >0.420340</td>\n",
       "      <td id=\"T_10bdc_row5_col16\" class=\"data row5 col16\" >0.550662</td>\n",
       "      <td id=\"T_10bdc_row5_col17\" class=\"data row5 col17\" >0.328901</td>\n",
       "    </tr>\n",
       "    <tr>\n",
       "      <th id=\"T_10bdc_level0_row6\" class=\"row_heading level0 row6\" >pid7na</th>\n",
       "      <td id=\"T_10bdc_row6_col0\" class=\"data row6 col0\" >0.725064</td>\n",
       "      <td id=\"T_10bdc_row6_col1\" class=\"data row6 col1\" >0.119883</td>\n",
       "      <td id=\"T_10bdc_row6_col2\" class=\"data row6 col2\" >-0.080537</td>\n",
       "      <td id=\"T_10bdc_row6_col3\" class=\"data row6 col3\" >-0.093793</td>\n",
       "      <td id=\"T_10bdc_row6_col4\" class=\"data row6 col4\" >0.035677</td>\n",
       "      <td id=\"T_10bdc_row6_col5\" class=\"data row6 col5\" >0.665230</td>\n",
       "      <td id=\"T_10bdc_row6_col6\" class=\"data row6 col6\" >1.000000</td>\n",
       "      <td id=\"T_10bdc_row6_col7\" class=\"data row6 col7\" >0.215752</td>\n",
       "      <td id=\"T_10bdc_row6_col8\" class=\"data row6 col8\" >0.257421</td>\n",
       "      <td id=\"T_10bdc_row6_col9\" class=\"data row6 col9\" >0.208613</td>\n",
       "      <td id=\"T_10bdc_row6_col10\" class=\"data row6 col10\" >0.224211</td>\n",
       "      <td id=\"T_10bdc_row6_col11\" class=\"data row6 col11\" >0.361262</td>\n",
       "      <td id=\"T_10bdc_row6_col12\" class=\"data row6 col12\" >0.563761</td>\n",
       "      <td id=\"T_10bdc_row6_col13\" class=\"data row6 col13\" >0.092791</td>\n",
       "      <td id=\"T_10bdc_row6_col14\" class=\"data row6 col14\" >0.388113</td>\n",
       "      <td id=\"T_10bdc_row6_col15\" class=\"data row6 col15\" >0.265890</td>\n",
       "      <td id=\"T_10bdc_row6_col16\" class=\"data row6 col16\" >0.540808</td>\n",
       "      <td id=\"T_10bdc_row6_col17\" class=\"data row6 col17\" >0.307729</td>\n",
       "    </tr>\n",
       "    <tr>\n",
       "      <th id=\"T_10bdc_level0_row7\" class=\"row_heading level0 row7\" >bornagain</th>\n",
       "      <td id=\"T_10bdc_row7_col0\" class=\"data row7 col0\" >0.229583</td>\n",
       "      <td id=\"T_10bdc_row7_col1\" class=\"data row7 col1\" >0.023539</td>\n",
       "      <td id=\"T_10bdc_row7_col2\" class=\"data row7 col2\" >0.043492</td>\n",
       "      <td id=\"T_10bdc_row7_col3\" class=\"data row7 col3\" >-0.105742</td>\n",
       "      <td id=\"T_10bdc_row7_col4\" class=\"data row7 col4\" >-0.108169</td>\n",
       "      <td id=\"T_10bdc_row7_col5\" class=\"data row7 col5\" >0.321649</td>\n",
       "      <td id=\"T_10bdc_row7_col6\" class=\"data row7 col6\" >0.215752</td>\n",
       "      <td id=\"T_10bdc_row7_col7\" class=\"data row7 col7\" >1.000000</td>\n",
       "      <td id=\"T_10bdc_row7_col8\" class=\"data row7 col8\" >0.495949</td>\n",
       "      <td id=\"T_10bdc_row7_col9\" class=\"data row7 col9\" >0.473106</td>\n",
       "      <td id=\"T_10bdc_row7_col10\" class=\"data row7 col10\" >0.466520</td>\n",
       "      <td id=\"T_10bdc_row7_col11\" class=\"data row7 col11\" >0.060686</td>\n",
       "      <td id=\"T_10bdc_row7_col12\" class=\"data row7 col12\" >0.172973</td>\n",
       "      <td id=\"T_10bdc_row7_col13\" class=\"data row7 col13\" >0.067246</td>\n",
       "      <td id=\"T_10bdc_row7_col14\" class=\"data row7 col14\" >0.148905</td>\n",
       "      <td id=\"T_10bdc_row7_col15\" class=\"data row7 col15\" >0.534871</td>\n",
       "      <td id=\"T_10bdc_row7_col16\" class=\"data row7 col16\" >0.181204</td>\n",
       "      <td id=\"T_10bdc_row7_col17\" class=\"data row7 col17\" >0.083788</td>\n",
       "    </tr>\n",
       "    <tr>\n",
       "      <th id=\"T_10bdc_level0_row8\" class=\"row_heading level0 row8\" >religimp</th>\n",
       "      <td id=\"T_10bdc_row8_col0\" class=\"data row8 col0\" >0.283912</td>\n",
       "      <td id=\"T_10bdc_row8_col1\" class=\"data row8 col1\" >0.135981</td>\n",
       "      <td id=\"T_10bdc_row8_col2\" class=\"data row8 col2\" >0.096512</td>\n",
       "      <td id=\"T_10bdc_row8_col3\" class=\"data row8 col3\" >-0.097616</td>\n",
       "      <td id=\"T_10bdc_row8_col4\" class=\"data row8 col4\" >-0.084798</td>\n",
       "      <td id=\"T_10bdc_row8_col5\" class=\"data row8 col5\" >0.402754</td>\n",
       "      <td id=\"T_10bdc_row8_col6\" class=\"data row8 col6\" >0.257421</td>\n",
       "      <td id=\"T_10bdc_row8_col7\" class=\"data row8 col7\" >0.495949</td>\n",
       "      <td id=\"T_10bdc_row8_col8\" class=\"data row8 col8\" >1.000000</td>\n",
       "      <td id=\"T_10bdc_row8_col9\" class=\"data row8 col9\" >0.712647</td>\n",
       "      <td id=\"T_10bdc_row8_col10\" class=\"data row8 col10\" >0.777780</td>\n",
       "      <td id=\"T_10bdc_row8_col11\" class=\"data row8 col11\" >0.073551</td>\n",
       "      <td id=\"T_10bdc_row8_col12\" class=\"data row8 col12\" >0.239156</td>\n",
       "      <td id=\"T_10bdc_row8_col13\" class=\"data row8 col13\" >0.095083</td>\n",
       "      <td id=\"T_10bdc_row8_col14\" class=\"data row8 col14\" >0.184184</td>\n",
       "      <td id=\"T_10bdc_row8_col15\" class=\"data row8 col15\" >0.949120</td>\n",
       "      <td id=\"T_10bdc_row8_col16\" class=\"data row8 col16\" >0.243892</td>\n",
       "      <td id=\"T_10bdc_row8_col17\" class=\"data row8 col17\" >0.112193</td>\n",
       "    </tr>\n",
       "    <tr>\n",
       "      <th id=\"T_10bdc_level0_row9\" class=\"row_heading level0 row9\" >churchatd</th>\n",
       "      <td id=\"T_10bdc_row9_col0\" class=\"data row9 col0\" >0.206353</td>\n",
       "      <td id=\"T_10bdc_row9_col1\" class=\"data row9 col1\" >0.057779</td>\n",
       "      <td id=\"T_10bdc_row9_col2\" class=\"data row9 col2\" >0.031227</td>\n",
       "      <td id=\"T_10bdc_row9_col3\" class=\"data row9 col3\" >0.034600</td>\n",
       "      <td id=\"T_10bdc_row9_col4\" class=\"data row9 col4\" >0.019418</td>\n",
       "      <td id=\"T_10bdc_row9_col5\" class=\"data row9 col5\" >0.339664</td>\n",
       "      <td id=\"T_10bdc_row9_col6\" class=\"data row9 col6\" >0.208613</td>\n",
       "      <td id=\"T_10bdc_row9_col7\" class=\"data row9 col7\" >0.473106</td>\n",
       "      <td id=\"T_10bdc_row9_col8\" class=\"data row9 col8\" >0.712647</td>\n",
       "      <td id=\"T_10bdc_row9_col9\" class=\"data row9 col9\" >1.000000</td>\n",
       "      <td id=\"T_10bdc_row9_col10\" class=\"data row9 col10\" >0.633241</td>\n",
       "      <td id=\"T_10bdc_row9_col11\" class=\"data row9 col11\" >0.052719</td>\n",
       "      <td id=\"T_10bdc_row9_col12\" class=\"data row9 col12\" >0.148339</td>\n",
       "      <td id=\"T_10bdc_row9_col13\" class=\"data row9 col13\" >0.062789</td>\n",
       "      <td id=\"T_10bdc_row9_col14\" class=\"data row9 col14\" >0.156665</td>\n",
       "      <td id=\"T_10bdc_row9_col15\" class=\"data row9 col15\" >0.824504</td>\n",
       "      <td id=\"T_10bdc_row9_col16\" class=\"data row9 col16\" >0.178421</td>\n",
       "      <td id=\"T_10bdc_row9_col17\" class=\"data row9 col17\" >0.078347</td>\n",
       "    </tr>\n",
       "    <tr>\n",
       "      <th id=\"T_10bdc_level0_row10\" class=\"row_heading level0 row10\" >prayerfreq</th>\n",
       "      <td id=\"T_10bdc_row10_col0\" class=\"data row10 col0\" >0.245038</td>\n",
       "      <td id=\"T_10bdc_row10_col1\" class=\"data row10 col1\" >0.158883</td>\n",
       "      <td id=\"T_10bdc_row10_col2\" class=\"data row10 col2\" >0.149445</td>\n",
       "      <td id=\"T_10bdc_row10_col3\" class=\"data row10 col3\" >-0.088573</td>\n",
       "      <td id=\"T_10bdc_row10_col4\" class=\"data row10 col4\" >-0.093834</td>\n",
       "      <td id=\"T_10bdc_row10_col5\" class=\"data row10 col5\" >0.349586</td>\n",
       "      <td id=\"T_10bdc_row10_col6\" class=\"data row10 col6\" >0.224211</td>\n",
       "      <td id=\"T_10bdc_row10_col7\" class=\"data row10 col7\" >0.466520</td>\n",
       "      <td id=\"T_10bdc_row10_col8\" class=\"data row10 col8\" >0.777780</td>\n",
       "      <td id=\"T_10bdc_row10_col9\" class=\"data row10 col9\" >0.633241</td>\n",
       "      <td id=\"T_10bdc_row10_col10\" class=\"data row10 col10\" >1.000000</td>\n",
       "      <td id=\"T_10bdc_row10_col11\" class=\"data row10 col11\" >0.049358</td>\n",
       "      <td id=\"T_10bdc_row10_col12\" class=\"data row10 col12\" >0.210503</td>\n",
       "      <td id=\"T_10bdc_row10_col13\" class=\"data row10 col13\" >0.057537</td>\n",
       "      <td id=\"T_10bdc_row10_col14\" class=\"data row10 col14\" >0.140343</td>\n",
       "      <td id=\"T_10bdc_row10_col15\" class=\"data row10 col15\" >0.848831</td>\n",
       "      <td id=\"T_10bdc_row10_col16\" class=\"data row10 col16\" >0.198383</td>\n",
       "      <td id=\"T_10bdc_row10_col17\" class=\"data row10 col17\" >0.070900</td>\n",
       "    </tr>\n",
       "    <tr>\n",
       "      <th id=\"T_10bdc_level0_row11\" class=\"row_heading level0 row11\" >angryracism</th>\n",
       "      <td id=\"T_10bdc_row11_col0\" class=\"data row11 col0\" >0.402290</td>\n",
       "      <td id=\"T_10bdc_row11_col1\" class=\"data row11 col1\" >0.097561</td>\n",
       "      <td id=\"T_10bdc_row11_col2\" class=\"data row11 col2\" >-0.152191</td>\n",
       "      <td id=\"T_10bdc_row11_col3\" class=\"data row11 col3\" >-0.034737</td>\n",
       "      <td id=\"T_10bdc_row11_col4\" class=\"data row11 col4\" >0.035490</td>\n",
       "      <td id=\"T_10bdc_row11_col5\" class=\"data row11 col5\" >0.355933</td>\n",
       "      <td id=\"T_10bdc_row11_col6\" class=\"data row11 col6\" >0.361262</td>\n",
       "      <td id=\"T_10bdc_row11_col7\" class=\"data row11 col7\" >0.060686</td>\n",
       "      <td id=\"T_10bdc_row11_col8\" class=\"data row11 col8\" >0.073551</td>\n",
       "      <td id=\"T_10bdc_row11_col9\" class=\"data row11 col9\" >0.052719</td>\n",
       "      <td id=\"T_10bdc_row11_col10\" class=\"data row11 col10\" >0.049358</td>\n",
       "      <td id=\"T_10bdc_row11_col11\" class=\"data row11 col11\" >1.000000</td>\n",
       "      <td id=\"T_10bdc_row11_col12\" class=\"data row11 col12\" >0.460194</td>\n",
       "      <td id=\"T_10bdc_row11_col13\" class=\"data row11 col13\" >0.093699</td>\n",
       "      <td id=\"T_10bdc_row11_col14\" class=\"data row11 col14\" >0.396156</td>\n",
       "      <td id=\"T_10bdc_row11_col15\" class=\"data row11 col15\" >0.070278</td>\n",
       "      <td id=\"T_10bdc_row11_col16\" class=\"data row11 col16\" >0.487043</td>\n",
       "      <td id=\"T_10bdc_row11_col17\" class=\"data row11 col17\" >0.662494</td>\n",
       "    </tr>\n",
       "    <tr>\n",
       "      <th id=\"T_10bdc_level0_row12\" class=\"row_heading level0 row12\" >whiteadv</th>\n",
       "      <td id=\"T_10bdc_row12_col0\" class=\"data row12 col0\" >0.621102</td>\n",
       "      <td id=\"T_10bdc_row12_col1\" class=\"data row12 col1\" >0.143682</td>\n",
       "      <td id=\"T_10bdc_row12_col2\" class=\"data row12 col2\" >-0.068963</td>\n",
       "      <td id=\"T_10bdc_row12_col3\" class=\"data row12 col3\" >-0.175281</td>\n",
       "      <td id=\"T_10bdc_row12_col4\" class=\"data row12 col4\" >-0.038516</td>\n",
       "      <td id=\"T_10bdc_row12_col5\" class=\"data row12 col5\" >0.539715</td>\n",
       "      <td id=\"T_10bdc_row12_col6\" class=\"data row12 col6\" >0.563761</td>\n",
       "      <td id=\"T_10bdc_row12_col7\" class=\"data row12 col7\" >0.172973</td>\n",
       "      <td id=\"T_10bdc_row12_col8\" class=\"data row12 col8\" >0.239156</td>\n",
       "      <td id=\"T_10bdc_row12_col9\" class=\"data row12 col9\" >0.148339</td>\n",
       "      <td id=\"T_10bdc_row12_col10\" class=\"data row12 col10\" >0.210503</td>\n",
       "      <td id=\"T_10bdc_row12_col11\" class=\"data row12 col11\" >0.460194</td>\n",
       "      <td id=\"T_10bdc_row12_col12\" class=\"data row12 col12\" >1.000000</td>\n",
       "      <td id=\"T_10bdc_row12_col13\" class=\"data row12 col13\" >0.040657</td>\n",
       "      <td id=\"T_10bdc_row12_col14\" class=\"data row12 col14\" >0.476938</td>\n",
       "      <td id=\"T_10bdc_row12_col15\" class=\"data row12 col15\" >0.235783</td>\n",
       "      <td id=\"T_10bdc_row12_col16\" class=\"data row12 col16\" >0.808141</td>\n",
       "      <td id=\"T_10bdc_row12_col17\" class=\"data row12 col17\" >0.320549</td>\n",
       "    </tr>\n",
       "    <tr>\n",
       "      <th id=\"T_10bdc_level0_row13\" class=\"row_heading level0 row13\" >fearraces</th>\n",
       "      <td id=\"T_10bdc_row13_col0\" class=\"data row13 col0\" >0.116723</td>\n",
       "      <td id=\"T_10bdc_row13_col1\" class=\"data row13 col1\" >0.034021</td>\n",
       "      <td id=\"T_10bdc_row13_col2\" class=\"data row13 col2\" >-0.009951</td>\n",
       "      <td id=\"T_10bdc_row13_col3\" class=\"data row13 col3\" >-0.055089</td>\n",
       "      <td id=\"T_10bdc_row13_col4\" class=\"data row13 col4\" >-0.038032</td>\n",
       "      <td id=\"T_10bdc_row13_col5\" class=\"data row13 col5\" >0.135583</td>\n",
       "      <td id=\"T_10bdc_row13_col6\" class=\"data row13 col6\" >0.092791</td>\n",
       "      <td id=\"T_10bdc_row13_col7\" class=\"data row13 col7\" >0.067246</td>\n",
       "      <td id=\"T_10bdc_row13_col8\" class=\"data row13 col8\" >0.095083</td>\n",
       "      <td id=\"T_10bdc_row13_col9\" class=\"data row13 col9\" >0.062789</td>\n",
       "      <td id=\"T_10bdc_row13_col10\" class=\"data row13 col10\" >0.057537</td>\n",
       "      <td id=\"T_10bdc_row13_col11\" class=\"data row13 col11\" >0.093699</td>\n",
       "      <td id=\"T_10bdc_row13_col12\" class=\"data row13 col12\" >0.040657</td>\n",
       "      <td id=\"T_10bdc_row13_col13\" class=\"data row13 col13\" >1.000000</td>\n",
       "      <td id=\"T_10bdc_row13_col14\" class=\"data row13 col14\" >0.085488</td>\n",
       "      <td id=\"T_10bdc_row13_col15\" class=\"data row13 col15\" >0.083246</td>\n",
       "      <td id=\"T_10bdc_row13_col16\" class=\"data row13 col16\" >0.091318</td>\n",
       "      <td id=\"T_10bdc_row13_col17\" class=\"data row13 col17\" >0.776214</td>\n",
       "    </tr>\n",
       "    <tr>\n",
       "      <th id=\"T_10bdc_level0_row14\" class=\"row_heading level0 row14\" >racerare</th>\n",
       "      <td id=\"T_10bdc_row14_col0\" class=\"data row14 col0\" >0.425202</td>\n",
       "      <td id=\"T_10bdc_row14_col1\" class=\"data row14 col1\" >0.019096</td>\n",
       "      <td id=\"T_10bdc_row14_col2\" class=\"data row14 col2\" >-0.130972</td>\n",
       "      <td id=\"T_10bdc_row14_col3\" class=\"data row14 col3\" >-0.045801</td>\n",
       "      <td id=\"T_10bdc_row14_col4\" class=\"data row14 col4\" >0.035875</td>\n",
       "      <td id=\"T_10bdc_row14_col5\" class=\"data row14 col5\" >0.416658</td>\n",
       "      <td id=\"T_10bdc_row14_col6\" class=\"data row14 col6\" >0.388113</td>\n",
       "      <td id=\"T_10bdc_row14_col7\" class=\"data row14 col7\" >0.148905</td>\n",
       "      <td id=\"T_10bdc_row14_col8\" class=\"data row14 col8\" >0.184184</td>\n",
       "      <td id=\"T_10bdc_row14_col9\" class=\"data row14 col9\" >0.156665</td>\n",
       "      <td id=\"T_10bdc_row14_col10\" class=\"data row14 col10\" >0.140343</td>\n",
       "      <td id=\"T_10bdc_row14_col11\" class=\"data row14 col11\" >0.396156</td>\n",
       "      <td id=\"T_10bdc_row14_col12\" class=\"data row14 col12\" >0.476938</td>\n",
       "      <td id=\"T_10bdc_row14_col13\" class=\"data row14 col13\" >0.085488</td>\n",
       "      <td id=\"T_10bdc_row14_col14\" class=\"data row14 col14\" >1.000000</td>\n",
       "      <td id=\"T_10bdc_row14_col15\" class=\"data row14 col15\" >0.183036</td>\n",
       "      <td id=\"T_10bdc_row14_col16\" class=\"data row14 col16\" >0.883751</td>\n",
       "      <td id=\"T_10bdc_row14_col17\" class=\"data row14 col17\" >0.310677</td>\n",
       "    </tr>\n",
       "    <tr>\n",
       "      <th id=\"T_10bdc_level0_row15\" class=\"row_heading level0 row15\" >lrelig</th>\n",
       "      <td id=\"T_10bdc_row15_col0\" class=\"data row15 col0\" >0.284777</td>\n",
       "      <td id=\"T_10bdc_row15_col1\" class=\"data row15 col1\" >0.141173</td>\n",
       "      <td id=\"T_10bdc_row15_col2\" class=\"data row15 col2\" >0.101554</td>\n",
       "      <td id=\"T_10bdc_row15_col3\" class=\"data row15 col3\" >-0.076789</td>\n",
       "      <td id=\"T_10bdc_row15_col4\" class=\"data row15 col4\" >-0.076363</td>\n",
       "      <td id=\"T_10bdc_row15_col5\" class=\"data row15 col5\" >0.420340</td>\n",
       "      <td id=\"T_10bdc_row15_col6\" class=\"data row15 col6\" >0.265890</td>\n",
       "      <td id=\"T_10bdc_row15_col7\" class=\"data row15 col7\" >0.534871</td>\n",
       "      <td id=\"T_10bdc_row15_col8\" class=\"data row15 col8\" >0.949120</td>\n",
       "      <td id=\"T_10bdc_row15_col9\" class=\"data row15 col9\" >0.824504</td>\n",
       "      <td id=\"T_10bdc_row15_col10\" class=\"data row15 col10\" >0.848831</td>\n",
       "      <td id=\"T_10bdc_row15_col11\" class=\"data row15 col11\" >0.070278</td>\n",
       "      <td id=\"T_10bdc_row15_col12\" class=\"data row15 col12\" >0.235783</td>\n",
       "      <td id=\"T_10bdc_row15_col13\" class=\"data row15 col13\" >0.083246</td>\n",
       "      <td id=\"T_10bdc_row15_col14\" class=\"data row15 col14\" >0.183036</td>\n",
       "      <td id=\"T_10bdc_row15_col15\" class=\"data row15 col15\" >1.000000</td>\n",
       "      <td id=\"T_10bdc_row15_col16\" class=\"data row15 col16\" >0.240650</td>\n",
       "      <td id=\"T_10bdc_row15_col17\" class=\"data row15 col17\" >0.102321</td>\n",
       "    </tr>\n",
       "    <tr>\n",
       "      <th id=\"T_10bdc_level0_row16\" class=\"row_heading level0 row16\" >lcograc</th>\n",
       "      <td id=\"T_10bdc_row16_col0\" class=\"data row16 col0\" >0.584180</td>\n",
       "      <td id=\"T_10bdc_row16_col1\" class=\"data row16 col1\" >0.086982</td>\n",
       "      <td id=\"T_10bdc_row16_col2\" class=\"data row16 col2\" >-0.115926</td>\n",
       "      <td id=\"T_10bdc_row16_col3\" class=\"data row16 col3\" >-0.123367</td>\n",
       "      <td id=\"T_10bdc_row16_col4\" class=\"data row16 col4\" >-0.000451</td>\n",
       "      <td id=\"T_10bdc_row16_col5\" class=\"data row16 col5\" >0.550662</td>\n",
       "      <td id=\"T_10bdc_row16_col6\" class=\"data row16 col6\" >0.540808</td>\n",
       "      <td id=\"T_10bdc_row16_col7\" class=\"data row16 col7\" >0.181204</td>\n",
       "      <td id=\"T_10bdc_row16_col8\" class=\"data row16 col8\" >0.243892</td>\n",
       "      <td id=\"T_10bdc_row16_col9\" class=\"data row16 col9\" >0.178421</td>\n",
       "      <td id=\"T_10bdc_row16_col10\" class=\"data row16 col10\" >0.198383</td>\n",
       "      <td id=\"T_10bdc_row16_col11\" class=\"data row16 col11\" >0.487043</td>\n",
       "      <td id=\"T_10bdc_row16_col12\" class=\"data row16 col12\" >0.808141</td>\n",
       "      <td id=\"T_10bdc_row16_col13\" class=\"data row16 col13\" >0.091318</td>\n",
       "      <td id=\"T_10bdc_row16_col14\" class=\"data row16 col14\" >0.883751</td>\n",
       "      <td id=\"T_10bdc_row16_col15\" class=\"data row16 col15\" >0.240650</td>\n",
       "      <td id=\"T_10bdc_row16_col16\" class=\"data row16 col16\" >1.000000</td>\n",
       "      <td id=\"T_10bdc_row16_col17\" class=\"data row16 col17\" >0.378925</td>\n",
       "    </tr>\n",
       "    <tr>\n",
       "      <th id=\"T_10bdc_level0_row17\" class=\"row_heading level0 row17\" >lemprac</th>\n",
       "      <td id=\"T_10bdc_row17_col0\" class=\"data row17 col0\" >0.342119</td>\n",
       "      <td id=\"T_10bdc_row17_col1\" class=\"data row17 col1\" >0.087371</td>\n",
       "      <td id=\"T_10bdc_row17_col2\" class=\"data row17 col2\" >-0.100028</td>\n",
       "      <td id=\"T_10bdc_row17_col3\" class=\"data row17 col3\" >-0.061074</td>\n",
       "      <td id=\"T_10bdc_row17_col4\" class=\"data row17 col4\" >0.000802</td>\n",
       "      <td id=\"T_10bdc_row17_col5\" class=\"data row17 col5\" >0.328901</td>\n",
       "      <td id=\"T_10bdc_row17_col6\" class=\"data row17 col6\" >0.307729</td>\n",
       "      <td id=\"T_10bdc_row17_col7\" class=\"data row17 col7\" >0.083788</td>\n",
       "      <td id=\"T_10bdc_row17_col8\" class=\"data row17 col8\" >0.112193</td>\n",
       "      <td id=\"T_10bdc_row17_col9\" class=\"data row17 col9\" >0.078347</td>\n",
       "      <td id=\"T_10bdc_row17_col10\" class=\"data row17 col10\" >0.070900</td>\n",
       "      <td id=\"T_10bdc_row17_col11\" class=\"data row17 col11\" >0.662494</td>\n",
       "      <td id=\"T_10bdc_row17_col12\" class=\"data row17 col12\" >0.320549</td>\n",
       "      <td id=\"T_10bdc_row17_col13\" class=\"data row17 col13\" >0.776214</td>\n",
       "      <td id=\"T_10bdc_row17_col14\" class=\"data row17 col14\" >0.310677</td>\n",
       "      <td id=\"T_10bdc_row17_col15\" class=\"data row17 col15\" >0.102321</td>\n",
       "      <td id=\"T_10bdc_row17_col16\" class=\"data row17 col16\" >0.378925</td>\n",
       "      <td id=\"T_10bdc_row17_col17\" class=\"data row17 col17\" >1.000000</td>\n",
       "    </tr>\n",
       "  </tbody>\n",
       "</table>\n"
      ],
      "text/plain": [
       "<pandas.io.formats.style.Styler at 0x7f1204357ca0>"
      ]
     },
     "execution_count": 14,
     "metadata": {},
     "output_type": "execute_result"
    }
   ],
   "source": [
    "# correlation matrix\n",
    "corr = voter_data.corr()\n",
    "corr.style.background_gradient(cmap='coolwarm')"
   ]
  },
  {
   "cell_type": "code",
   "execution_count": 10,
   "metadata": {},
   "outputs": [
    {
     "data": {
      "text/plain": [
       "White              34679\n",
       "Black               4168\n",
       "Hispanic            2876\n",
       "Asian               1194\n",
       "Mixed                961\n",
       "Other                608\n",
       "Native American      371\n",
       "Middle Eastern        75\n",
       "Name: racef, dtype: int64"
      ]
     },
     "execution_count": 10,
     "metadata": {},
     "output_type": "execute_result"
    }
   ],
   "source": [
    "voter_data['racef'].value_counts()"
   ]
  },
  {
   "cell_type": "code",
   "execution_count": 11,
   "metadata": {},
   "outputs": [
    {
     "data": {
      "text/html": [
       "<div>\n",
       "<style scoped>\n",
       "    .dataframe tbody tr th:only-of-type {\n",
       "        vertical-align: middle;\n",
       "    }\n",
       "\n",
       "    .dataframe tbody tr th {\n",
       "        vertical-align: top;\n",
       "    }\n",
       "\n",
       "    .dataframe thead th {\n",
       "        text-align: right;\n",
       "    }\n",
       "</style>\n",
       "<table border=\"1\" class=\"dataframe\">\n",
       "  <thead>\n",
       "    <tr style=\"text-align: right;\">\n",
       "      <th></th>\n",
       "      <th>age</th>\n",
       "      <th>female</th>\n",
       "      <th>collegeed</th>\n",
       "      <th>famincr</th>\n",
       "      <th>ideo</th>\n",
       "      <th>pid7na</th>\n",
       "      <th>bornagain</th>\n",
       "      <th>religimp</th>\n",
       "      <th>churchatd</th>\n",
       "      <th>prayerfreq</th>\n",
       "      <th>angryracism</th>\n",
       "      <th>whiteadv</th>\n",
       "      <th>fearraces</th>\n",
       "      <th>racerare</th>\n",
       "      <th>lrelig</th>\n",
       "      <th>lcograc</th>\n",
       "      <th>lemprac</th>\n",
       "    </tr>\n",
       "    <tr>\n",
       "      <th>votetrump</th>\n",
       "      <th></th>\n",
       "      <th></th>\n",
       "      <th></th>\n",
       "      <th></th>\n",
       "      <th></th>\n",
       "      <th></th>\n",
       "      <th></th>\n",
       "      <th></th>\n",
       "      <th></th>\n",
       "      <th></th>\n",
       "      <th></th>\n",
       "      <th></th>\n",
       "      <th></th>\n",
       "      <th></th>\n",
       "      <th></th>\n",
       "      <th></th>\n",
       "      <th></th>\n",
       "    </tr>\n",
       "  </thead>\n",
       "  <tbody>\n",
       "    <tr>\n",
       "      <th>0.0</th>\n",
       "      <td>49.391412</td>\n",
       "      <td>0.580701</td>\n",
       "      <td>0.471253</td>\n",
       "      <td>6.660578</td>\n",
       "      <td>2.454326</td>\n",
       "      <td>2.279102</td>\n",
       "      <td>0.186609</td>\n",
       "      <td>2.519644</td>\n",
       "      <td>2.607251</td>\n",
       "      <td>3.897067</td>\n",
       "      <td>1.350398</td>\n",
       "      <td>1.880866</td>\n",
       "      <td>2.020557</td>\n",
       "      <td>1.835369</td>\n",
       "      <td>-0.221269</td>\n",
       "      <td>-0.420029</td>\n",
       "      <td>-0.147062</td>\n",
       "    </tr>\n",
       "    <tr>\n",
       "      <th>1.0</th>\n",
       "      <td>55.371794</td>\n",
       "      <td>0.496508</td>\n",
       "      <td>0.323434</td>\n",
       "      <td>6.661849</td>\n",
       "      <td>3.818212</td>\n",
       "      <td>5.514232</td>\n",
       "      <td>0.394067</td>\n",
       "      <td>3.186493</td>\n",
       "      <td>3.318639</td>\n",
       "      <td>5.064383</td>\n",
       "      <td>2.134604</td>\n",
       "      <td>3.726205</td>\n",
       "      <td>2.288081</td>\n",
       "      <td>2.900091</td>\n",
       "      <td>0.326432</td>\n",
       "      <td>0.558944</td>\n",
       "      <td>0.179898</td>\n",
       "    </tr>\n",
       "  </tbody>\n",
       "</table>\n",
       "</div>"
      ],
      "text/plain": [
       "                 age    female  collegeed   famincr      ideo    pid7na  \\\n",
       "votetrump                                                                 \n",
       "0.0        49.391412  0.580701   0.471253  6.660578  2.454326  2.279102   \n",
       "1.0        55.371794  0.496508   0.323434  6.661849  3.818212  5.514232   \n",
       "\n",
       "           bornagain  religimp  churchatd  prayerfreq  angryracism  whiteadv  \\\n",
       "votetrump                                                                      \n",
       "0.0         0.186609  2.519644   2.607251    3.897067     1.350398  1.880866   \n",
       "1.0         0.394067  3.186493   3.318639    5.064383     2.134604  3.726205   \n",
       "\n",
       "           fearraces  racerare    lrelig   lcograc   lemprac  \n",
       "votetrump                                                     \n",
       "0.0         2.020557  1.835369 -0.221269 -0.420029 -0.147062  \n",
       "1.0         2.288081  2.900091  0.326432  0.558944  0.179898  "
      ]
     },
     "execution_count": 11,
     "metadata": {},
     "output_type": "execute_result"
    }
   ],
   "source": [
    "voter_data.groupby('votetrump').mean()"
   ]
  },
  {
   "cell_type": "code",
   "execution_count": 61,
   "metadata": {},
   "outputs": [],
   "source": [
    "feature_desc_dict = {\n",
    "    'state': 'State of Residence',\n",
    "    'votetrump': 'Voted for Trump',\n",
    "    'age': 'Age at time of vote',\n",
    "    'female': 'Is a Woman',\n",
    "    'collegeed': 'Has a College Education',\n",
    "    'racef': 'Race of Voter',\n",
    "    'famincr': 'Household Income (1 to 12)',\n",
    "    'ideo': 'Ideology (1 lib to 5 con)',\n",
    "    'pid7na': 'Partisanship (1 to 7)',\n",
    "    'bornagain': 'Born Again Christian',\n",
    "    'religimp': 'Importance of Religion (1 to 4)',\n",
    "    'churchatd': 'Church Attendance (1 to 6)',\n",
    "    'prayerfreq': 'Frequency of Prayer (1 to 7)',\n",
    "    'angryracism': 'Angry that Racism exists (1 to 5)',\n",
    "    'whiteadv': 'Agree Whites have advantages (1 to 5)',\n",
    "    'fearraces': 'Fear of other Races (1 to 5)',\n",
    "    'racerace': 'Agree that racism is rare in the US (1 to 5)',\n",
    "    'lrelig': 'Latent Estimate of Religiosity',\n",
    "    'lcograc': 'Latent Estimate of Cognitive Racism',\n",
    "    'lemprac': 'Latent Estimate of Empathetic Racism',\n",
    "}\n",
    "\n",
    "# Dictionary to map full state names to two-letter abbreviations\n",
    "state_abbrev = {\n",
    "    'Alabama': 'AL', 'Alaska': 'AK', 'Arizona': 'AZ', 'Arkansas': 'AR', 'California': 'CA',\n",
    "    'Colorado': 'CO', 'Connecticut': 'CT', 'Delaware': 'DE', 'District of Columbia': 'DC',\n",
    "    'Florida': 'FL', 'Georgia': 'GA', 'Hawaii': 'HI', 'Idaho': 'ID', 'Illinois': 'IL',\n",
    "    'Indiana': 'IN', 'Iowa': 'IA', 'Kansas': 'KS', 'Kentucky': 'KY', 'Louisiana': 'LA',\n",
    "    'Maine': 'ME', 'Maryland': 'MD', 'Massachusetts': 'MA', 'Michigan': 'MI', 'Minnesota': 'MN',\n",
    "    'Mississippi': 'MS', 'Missouri': 'MO', 'Montana': 'MT', 'Nebraska': 'NE', 'Nevada': 'NV',\n",
    "    'New Hampshire': 'NH', 'New Jersey': 'NJ', 'New Mexico': 'NM', 'New York': 'NY',\n",
    "    'North Carolina': 'NC', 'North Dakota': 'ND', 'Ohio': 'OH', 'Oklahoma': 'OK', 'Oregon': 'OR',\n",
    "    'Pennsylvania': 'PA', 'Rhode Island': 'RI', 'South Carolina': 'SC', 'South Dakota': 'SD',\n",
    "    'Tennessee': 'TN', 'Texas': 'TX', 'Utah': 'UT', 'Vermont': 'VT', 'Virginia': 'VA',\n",
    "    'Washington': 'WA', 'West Virginia': 'WV', 'Wisconsin': 'WI', 'Wyoming': 'WY'\n",
    "}\n"
   ]
  },
  {
   "cell_type": "code",
   "execution_count": 24,
   "metadata": {},
   "outputs": [],
   "source": [
    "voter_data['state_abbrev'] = voter_data['state'].map(state_abbrev)"
   ]
  },
  {
   "cell_type": "code",
   "execution_count": 19,
   "metadata": {},
   "outputs": [],
   "source": [
    "# histogram comparison function\n",
    "def histo_compare(t_df, c_df, stat, title, nbins=20):\n",
    "    t_df[stat].hist(bins=nbins, alpha=0.5, label='Trump', color='red')\n",
    "    c_df[stat].hist(bins=nbins, alpha=0.5, label='Clinton', color='blue')\n",
    "    plt.legend(loc='upper right')\n",
    "    plt.title(title)\n",
    "    plt.xlabel(feature_desc_dict[stat])\n",
    "    plt.ylabel('Frequency')\n",
    "    # show the average\n",
    "    plt.axvline(t_df[stat].mean(), color='red', linestyle='dashed', linewidth=1)\n",
    "    plt.axvline(c_df[stat].mean(), color='blue', linestyle='dashed', linewidth=1)\n",
    "\n",
    "\n",
    "# function for trump_v_clinton pie charts\n",
    "def piechart_compare(t_df, c_df, stat, title):\n",
    "    labels = 'Trump', 'Clinton'\n",
    "    sizes = [t_df[stat].mean(), c_df[stat].mean()]\n",
    "    colors = ['red', 'blue']\n",
    "    explode = (0, 0.1) # explode 1st slice\n",
    "    plt.pie(sizes, explode=explode, labels=labels, colors=colors, autopct='%1.1f%%', shadow=True, startangle=140)\n",
    "    plt.axis('equal')\n",
    "    plt.title(title)\n",
    "    plt.show()\n",
    "\n",
    "\n",
    "def pie_percentage(percent_yes, percent_no, labels, colors, title):\n",
    "    sizes = [percent_yes, percent_no]\n",
    "    explode = (0, 0.1) # explode 1st slice\n",
    "    plt.pie(sizes, explode=explode, labels=labels, colors=colors, autopct='%1.1f%%', shadow=True, startangle=140)\n",
    "    plt.axis('equal')\n",
    "    plt.title(title)\n",
    "    plt.show()"
   ]
  },
  {
   "cell_type": "code",
   "execution_count": 17,
   "metadata": {},
   "outputs": [
    {
     "data": {
      "image/png": "[encoded data removed]",
      "text/plain": [
       "<Figure size 640x480 with 1 Axes>"
      ]
     },
     "metadata": {},
     "output_type": "display_data"
    }
   ],
   "source": [
    "# pie chart of collegeed for trump vs clinton\n",
    "piechart_compare(voters_trump, voters_clinton, 'collegeed', 'College Education % by Vote')"
   ]
  },
  {
   "cell_type": "code",
   "execution_count": 18,
   "metadata": {},
   "outputs": [
    {
     "data": {
      "image/png": "[encoded data removed]",
      "text/plain": [
       "<Figure size 640x480 with 1 Axes>"
      ]
     },
     "metadata": {},
     "output_type": "display_data"
    }
   ],
   "source": [
    "histo_compare(voters_trump, voters_clinton, 'age', 'Age by Vote', nbins=1 + voters_trump['age'].max() - voters_clinton['age'].min())"
   ]
  },
  {
   "cell_type": "code",
   "execution_count": 20,
   "metadata": {},
   "outputs": [
    {
     "data": {
      "image/png": "[encoded data removed]",
      "text/plain": [
       "<Figure size 640x480 with 1 Axes>"
      ]
     },
     "metadata": {},
     "output_type": "display_data"
    },
    {
     "data": {
      "image/png": "[encoded data removed]",
      "text/plain": [
       "<Figure size 640x480 with 1 Axes>"
      ]
     },
     "metadata": {},
     "output_type": "display_data"
    }
   ],
   "source": [
    "# percentages of non white voters\n",
    "non_white_trump = voters_trump[voters_trump['racef'] != 'White']\n",
    "non_white_clinton = voters_clinton[voters_clinton['racef'] != 'White']\n",
    "trump_nonwhite_vote_percent = len(non_white_trump) / len(voters_trump)\n",
    "clinton_nonwhite_vote_percent = len(non_white_clinton) / len(voters_clinton)\n",
    "trump_white_vote_percent = 1 - trump_nonwhite_vote_percent\n",
    "clinton_white_vote_percent = 1 - clinton_nonwhite_vote_percent\n",
    "\n",
    "trump_colors = ['red', 'gray']\n",
    "clin_colors = ['blue', 'gray']\n",
    "labels = 'Non-White', 'White'\n",
    "\n",
    "\n",
    "pie_percentage(trump_nonwhite_vote_percent, trump_white_vote_percent, labels, trump_colors, '% Non-White, voted Trump')\n",
    "pie_percentage(clinton_nonwhite_vote_percent, clinton_white_vote_percent, labels, clin_colors, '% Non-White, voted Clinton')"
   ]
  },
  {
   "cell_type": "code",
   "execution_count": 21,
   "metadata": {},
   "outputs": [
    {
     "data": {
      "image/png": "[encoded data removed]",
      "text/plain": [
       "<Figure size 640x480 with 1 Axes>"
      ]
     },
     "metadata": {},
     "output_type": "display_data"
    },
    {
     "data": {
      "image/png": "[encoded data removed]",
      "text/plain": [
       "<Figure size 640x480 with 1 Axes>"
      ]
     },
     "metadata": {},
     "output_type": "display_data"
    }
   ],
   "source": [
    "college_trump = voters_trump[voters_trump['collegeed'] == 1]\n",
    "college_clinton = voters_clinton[voters_clinton['collegeed'] == 1]\n",
    "trump_college_yes = len(college_trump) / len(voters_trump)\n",
    "clinton_college_yes = len(college_clinton) / len(voters_clinton)\n",
    "trump_college_no = 1 - trump_college_yes\n",
    "clinton_college_no = 1 - clinton_college_yes\n",
    "\n",
    "labels = 'College', 'No College'\n",
    "\n",
    "pie_percentage(trump_college_yes, trump_college_no, labels, trump_colors, '% College educated, voted Trump')\n",
    "pie_percentage(clinton_college_yes, clinton_college_no, labels, clin_colors, '% College educated, voted Clinton')"
   ]
  },
  {
   "cell_type": "code",
   "execution_count": 22,
   "metadata": {},
   "outputs": [
    {
     "data": {
      "image/png": "[encoded data removed]",
      "text/plain": [
       "<Figure size 640x480 with 1 Axes>"
      ]
     },
     "metadata": {},
     "output_type": "display_data"
    }
   ],
   "source": [
    "histo_compare(voters_trump, voters_clinton, 'pid7na', 'Partisanship by Vote', nbins=7)"
   ]
  },
  {
   "cell_type": "code",
   "execution_count": 23,
   "metadata": {},
   "outputs": [
    {
     "data": {
      "image/png": "[encoded data removed]",
      "text/plain": [
       "<Figure size 640x480 with 1 Axes>"
      ]
     },
     "metadata": {},
     "output_type": "display_data"
    }
   ],
   "source": [
    "histo_compare(voters_trump, voters_clinton, 'lrelig', 'Religiosity by Vote', nbins=6)"
   ]
  },
  {
   "cell_type": "code",
   "execution_count": 68,
   "metadata": {},
   "outputs": [],
   "source": [
    "def choropleth_vote_data(df, feature, color_scale='tropic'):\n",
    "    state_avg_data = df.groupby('state_abbrev')[feature].mean().reset_index()\n",
    "    fig = px.choropleth(state_avg_data, \n",
    "                    locations='state_abbrev', \n",
    "                    locationmode=\"USA-states\", \n",
    "                    color=feature,\n",
    "                    color_continuous_scale=color_scale,\n",
    "                    scope=\"usa\",\n",
    "                    labels={feature: feature_desc_dict[feature]},\n",
    "                    title='Average {} by U.S. State'.format(feature_desc_dict[feature]))\n",
    "\n",
    "    fig.update_layout(width=1000, height=600, dragmode=False)\n",
    "\n",
    "    # show average on legend\n",
    "    fig.add_annotation(text='Average: {:.2f}'.format(state_avg_data[feature].mean()), x=0.5, y=-0.1, showarrow=False, yshift=10)\n",
    "\n",
    "    fig.show()"
   ]
  },
  {
   "cell_type": "code",
   "execution_count": 69,
   "metadata": {},
   "outputs": [
    {
     "data": {
      "application/vnd.plotly.v1+json": {
       "config": {
        "plotlyServerURL": "https://plot.ly"
       },
       "data": [
        {
         "coloraxis": "coloraxis",
         "geo": "geo",
         "hovertemplate": "state_abbrev=%{location}<br>Latent Estimate of Religiosity=%{z}<extra></extra>",
         "locationmode": "USA-states",
         "locations": [
          "AK",
          "AL",
          "AR",
          "AZ",
          "CA",
          "CO",
          "CT",
          "DC",
          "DE",
          "FL",
          "GA",
          "HI",
          "IA",
          "ID",
          "IL",
          "IN",
          "KS",
          "KY",
          "LA",
          "MA",
          "MD",
          "ME",
          "MI",
          "MN",
          "MO",
          "MS",
          "MT",
          "NC",
          "ND",
          "NE",
          "NH",
          "NJ",
          "NM",
          "NV",
          "NY",
          "OH",
          "OK",
          "OR",
          "PA",
          "RI",
          "SC",
          "SD",
          "TN",
          "TX",
          "UT",
          "VA",
          "VT",
          "WA",
          "WI",
          "WV",
          "WY"
         ],
         "name": "",
         "type": "choropleth",
         "z": [
          -0.08463706075739591,
          0.40660139688518104,
          0.42978314775142257,
          -0.055424670195023326,
          -0.18724604968015535,
          -0.13421673632710188,
          -0.13249749512121187,
          -0.21105029767082287,
          -0.11114812124692236,
          0.020523771943970478,
          0.26378745378843593,
          -0.23382370488688528,
          -0.008498626673035541,
          0.04129787708968421,
          -0.03406297098423174,
          0.12333536296171582,
          0.07098710811053029,
          0.2427440194094192,
          0.26836387727723926,
          -0.3105062966518255,
          -0.010749129054682956,
          -0.26353572201835934,
          0.026838348105183304,
          -0.047967058495767316,
          0.11003676719702209,
          0.5253011872318167,
          -0.006691136933980424,
          0.21297172709098605,
          0.03386688853256525,
          0.08135993210925863,
          -0.300049771958413,
          -0.07464579624189903,
          -0.10711175450781589,
          -0.23344700918110228,
          -0.15052481641527768,
          0.06272548219961227,
          0.2539873433269365,
          -0.21408846534330767,
          0.02959012179503929,
          -0.10467321323312376,
          0.3580831617214731,
          0.24035562924988507,
          0.34919741888692585,
          0.16772314637637695,
          0.20598058106462067,
          0.04723342515035205,
          -0.4045527593092101,
          -0.26053053851424296,
          -0.09582787711620665,
          0.1926257334061213,
          -0.049228657944595355
         ]
        }
       ],
       "layout": {
        "annotations": [
         {
          "showarrow": false,
          "text": "Average: 0.02",
          "x": 0.5,
          "y": -0.1,
          "yshift": 10
         }
        ],
        "coloraxis": {
         "colorbar": {
          "title": {
           "text": "Latent Estimate of Religiosity"
          }
         },
         "colorscale": [
          [
           0,
           "rgb(0, 155, 158)"
          ],
          [
           0.16666666666666666,
           "rgb(66, 183, 185)"
          ],
          [
           0.3333333333333333,
           "rgb(167, 211, 212)"
          ],
          [
           0.5,
           "rgb(241, 241, 241)"
          ],
          [
           0.6666666666666666,
           "rgb(228, 193, 217)"
          ],
          [
           0.8333333333333334,
           "rgb(214, 145, 193)"
          ],
          [
           1,
           "rgb(199, 93, 171)"
          ]
         ]
        },
        "dragmode": false,
        "geo": {
         "center": {},
         "domain": {
          "x": [
           0,
           1
          ],
          "y": [
           0,
           1
          ]
         },
         "scope": "usa"
        },
        "height": 600,
        "legend": {
         "tracegroupgap": 0
        },
        "template": {
         "data": {
          "bar": [
           {
            "error_x": {
             "color": "#2a3f5f"
            },
            "error_y": {
             "color": "#2a3f5f"
            },
            "marker": {
             "line": {
              "color": "#E5ECF6",
              "width": 0.5
             },
             "pattern": {
              "fillmode": "overlay",
              "size": 10,
              "solidity": 0.2
             }
            },
            "type": "bar"
           }
          ],
          "barpolar": [
           {
            "marker": {
             "line": {
              "color": "#E5ECF6",
              "width": 0.5
             },
             "pattern": {
              "fillmode": "overlay",
              "size": 10,
              "solidity": 0.2
             }
            },
            "type": "barpolar"
           }
          ],
          "carpet": [
           {
            "aaxis": {
             "endlinecolor": "#2a3f5f",
             "gridcolor": "white",
             "linecolor": "white",
             "minorgridcolor": "white",
             "startlinecolor": "#2a3f5f"
            },
            "baxis": {
             "endlinecolor": "#2a3f5f",
             "gridcolor": "white",
             "linecolor": "white",
             "minorgridcolor": "white",
             "startlinecolor": "#2a3f5f"
            },
            "type": "carpet"
           }
          ],
          "choropleth": [
           {
            "colorbar": {
             "outlinewidth": 0,
             "ticks": ""
            },
            "type": "choropleth"
           }
          ],
          "contour": [
           {
            "colorbar": {
             "outlinewidth": 0,
             "ticks": ""
            },
            "colorscale": [
             [
              0,
              "#0d0887"
             ],
             [
              0.1111111111111111,
              "#46039f"
             ],
             [
              0.2222222222222222,
              "#7201a8"
             ],
             [
              0.3333333333333333,
              "#9c179e"
             ],
             [
              0.4444444444444444,
              "#bd3786"
             ],
             [
              0.5555555555555556,
              "#d8576b"
             ],
             [
              0.6666666666666666,
              "#ed7953"
             ],
             [
              0.7777777777777778,
              "#fb9f3a"
             ],
             [
              0.8888888888888888,
              "#fdca26"
             ],
             [
              1,
              "#f0f921"
             ]
            ],
            "type": "contour"
           }
          ],
          "contourcarpet": [
           {
            "colorbar": {
             "outlinewidth": 0,
             "ticks": ""
            },
            "type": "contourcarpet"
           }
          ],
          "heatmap": [
           {
            "colorbar": {
             "outlinewidth": 0,
             "ticks": ""
            },
            "colorscale": [
             [
              0,
              "#0d0887"
             ],
             [
              0.1111111111111111,
              "#46039f"
             ],
             [
              0.2222222222222222,
              "#7201a8"
             ],
             [
              0.3333333333333333,
              "#9c179e"
             ],
             [
              0.4444444444444444,
              "#bd3786"
             ],
             [
              0.5555555555555556,
              "#d8576b"
             ],
             [
              0.6666666666666666,
              "#ed7953"
             ],
             [
              0.7777777777777778,
              "#fb9f3a"
             ],
             [
              0.8888888888888888,
              "#fdca26"
             ],
             [
              1,
              "#f0f921"
             ]
            ],
            "type": "heatmap"
           }
          ],
          "heatmapgl": [
           {
            "colorbar": {
             "outlinewidth": 0,
             "ticks": ""
            },
            "colorscale": [
             [
              0,
              "#0d0887"
             ],
             [
              0.1111111111111111,
              "#46039f"
             ],
             [
              0.2222222222222222,
              "#7201a8"
             ],
             [
              0.3333333333333333,
              "#9c179e"
             ],
             [
              0.4444444444444444,
              "#bd3786"
             ],
             [
              0.5555555555555556,
              "#d8576b"
             ],
             [
              0.6666666666666666,
              "#ed7953"
             ],
             [
              0.7777777777777778,
              "#fb9f3a"
             ],
             [
              0.8888888888888888,
              "#fdca26"
             ],
             [
              1,
              "#f0f921"
             ]
            ],
            "type": "heatmapgl"
           }
          ],
          "histogram": [
           {
            "marker": {
             "pattern": {
              "fillmode": "overlay",
              "size": 10,
              "solidity": 0.2
             }
            },
            "type": "histogram"
           }
          ],
          "histogram2d": [
           {
            "colorbar": {
             "outlinewidth": 0,
             "ticks": ""
            },
            "colorscale": [
             [
              0,
              "#0d0887"
             ],
             [
              0.1111111111111111,
              "#46039f"
             ],
             [
              0.2222222222222222,
              "#7201a8"
             ],
             [
              0.3333333333333333,
              "#9c179e"
             ],
             [
              0.4444444444444444,
              "#bd3786"
             ],
             [
              0.5555555555555556,
              "#d8576b"
             ],
             [
              0.6666666666666666,
              "#ed7953"
             ],
             [
              0.7777777777777778,
              "#fb9f3a"
             ],
             [
              0.8888888888888888,
              "#fdca26"
             ],
             [
              1,
              "#f0f921"
             ]
            ],
            "type": "histogram2d"
           }
          ],
          "histogram2dcontour": [
           {
            "colorbar": {
             "outlinewidth": 0,
             "ticks": ""
            },
            "colorscale": [
             [
              0,
              "#0d0887"
             ],
             [
              0.1111111111111111,
              "#46039f"
             ],
             [
              0.2222222222222222,
              "#7201a8"
             ],
             [
              0.3333333333333333,
              "#9c179e"
             ],
             [
              0.4444444444444444,
              "#bd3786"
             ],
             [
              0.5555555555555556,
              "#d8576b"
             ],
             [
              0.6666666666666666,
              "#ed7953"
             ],
             [
              0.7777777777777778,
              "#fb9f3a"
             ],
             [
              0.8888888888888888,
              "#fdca26"
             ],
             [
              1,
              "#f0f921"
             ]
            ],
            "type": "histogram2dcontour"
           }
          ],
          "mesh3d": [
           {
            "colorbar": {
             "outlinewidth": 0,
             "ticks": ""
            },
            "type": "mesh3d"
           }
          ],
          "parcoords": [
           {
            "line": {
             "colorbar": {
              "outlinewidth": 0,
              "ticks": ""
             }
            },
            "type": "parcoords"
           }
          ],
          "pie": [
           {
            "automargin": true,
            "type": "pie"
           }
          ],
          "scatter": [
           {
            "fillpattern": {
             "fillmode": "overlay",
             "size": 10,
             "solidity": 0.2
            },
            "type": "scatter"
           }
          ],
          "scatter3d": [
           {
            "line": {
             "colorbar": {
              "outlinewidth": 0,
              "ticks": ""
             }
            },
            "marker": {
             "colorbar": {
              "outlinewidth": 0,
              "ticks": ""
             }
            },
            "type": "scatter3d"
           }
          ],
          "scattercarpet": [
           {
            "marker": {
             "colorbar": {
              "outlinewidth": 0,
              "ticks": ""
             }
            },
            "type": "scattercarpet"
           }
          ],
          "scattergeo": [
           {
            "marker": {
             "colorbar": {
              "outlinewidth": 0,
              "ticks": ""
             }
            },
            "type": "scattergeo"
           }
          ],
          "scattergl": [
           {
            "marker": {
             "colorbar": {
              "outlinewidth": 0,
              "ticks": ""
             }
            },
            "type": "scattergl"
           }
          ],
          "scattermapbox": [
           {
            "marker": {
             "colorbar": {
              "outlinewidth": 0,
              "ticks": ""
             }
            },
            "type": "scattermapbox"
           }
          ],
          "scatterpolar": [
           {
            "marker": {
             "colorbar": {
              "outlinewidth": 0,
              "ticks": ""
             }
            },
            "type": "scatterpolar"
           }
          ],
          "scatterpolargl": [
           {
            "marker": {
             "colorbar": {
              "outlinewidth": 0,
              "ticks": ""
             }
            },
            "type": "scatterpolargl"
           }
          ],
          "scatterternary": [
           {
            "marker": {
             "colorbar": {
              "outlinewidth": 0,
              "ticks": ""
             }
            },
            "type": "scatterternary"
           }
          ],
          "surface": [
           {
            "colorbar": {
             "outlinewidth": 0,
             "ticks": ""
            },
            "colorscale": [
             [
              0,
              "#0d0887"
             ],
             [
              0.1111111111111111,
              "#46039f"
             ],
             [
              0.2222222222222222,
              "#7201a8"
             ],
             [
              0.3333333333333333,
              "#9c179e"
             ],
             [
              0.4444444444444444,
              "#bd3786"
             ],
             [
              0.5555555555555556,
              "#d8576b"
             ],
             [
              0.6666666666666666,
              "#ed7953"
             ],
             [
              0.7777777777777778,
              "#fb9f3a"
             ],
             [
              0.8888888888888888,
              "#fdca26"
             ],
             [
              1,
              "#f0f921"
             ]
            ],
            "type": "surface"
           }
          ],
          "table": [
           {
            "cells": {
             "fill": {
              "color": "#EBF0F8"
             },
             "line": {
              "color": "white"
             }
            },
            "header": {
             "fill": {
              "color": "#C8D4E3"
             },
             "line": {
              "color": "white"
             }
            },
            "type": "table"
           }
          ]
         },
         "layout": {
          "annotationdefaults": {
           "arrowcolor": "#2a3f5f",
           "arrowhead": 0,
           "arrowwidth": 1
          },
          "autotypenumbers": "strict",
          "coloraxis": {
           "colorbar": {
            "outlinewidth": 0,
            "ticks": ""
           }
          },
          "colorscale": {
           "diverging": [
            [
             0,
             "#8e0152"
            ],
            [
             0.1,
             "#c51b7d"
            ],
            [
             0.2,
             "#de77ae"
            ],
            [
             0.3,
             "#f1b6da"
            ],
            [
             0.4,
             "#fde0ef"
            ],
            [
             0.5,
             "#f7f7f7"
            ],
            [
             0.6,
             "#e6f5d0"
            ],
            [
             0.7,
             "#b8e186"
            ],
            [
             0.8,
             "#7fbc41"
            ],
            [
             0.9,
             "#4d9221"
            ],
            [
             1,
             "#276419"
            ]
           ],
           "sequential": [
            [
             0,
             "#0d0887"
            ],
            [
             0.1111111111111111,
             "#46039f"
            ],
            [
             0.2222222222222222,
             "#7201a8"
            ],
            [
             0.3333333333333333,
             "#9c179e"
            ],
            [
             0.4444444444444444,
             "#bd3786"
            ],
            [
             0.5555555555555556,
             "#d8576b"
            ],
            [
             0.6666666666666666,
             "#ed7953"
            ],
            [
             0.7777777777777778,
             "#fb9f3a"
            ],
            [
             0.8888888888888888,
             "#fdca26"
            ],
            [
             1,
             "#f0f921"
            ]
           ],
           "sequentialminus": [
            [
             0,
             "#0d0887"
            ],
            [
             0.1111111111111111,
             "#46039f"
            ],
            [
             0.2222222222222222,
             "#7201a8"
            ],
            [
             0.3333333333333333,
             "#9c179e"
            ],
            [
             0.4444444444444444,
             "#bd3786"
            ],
            [
             0.5555555555555556,
             "#d8576b"
            ],
            [
             0.6666666666666666,
             "#ed7953"
            ],
            [
             0.7777777777777778,
             "#fb9f3a"
            ],
            [
             0.8888888888888888,
             "#fdca26"
            ],
            [
             1,
             "#f0f921"
            ]
           ]
          },
          "colorway": [
           "#636efa",
           "#EF553B",
           "#00cc96",
           "#ab63fa",
           "#FFA15A",
           "#19d3f3",
           "#FF6692",
           "#B6E880",
           "#FF97FF",
           "#FECB52"
          ],
          "font": {
           "color": "#2a3f5f"
          },
          "geo": {
           "bgcolor": "white",
           "lakecolor": "white",
           "landcolor": "#E5ECF6",
           "showlakes": true,
           "showland": true,
           "subunitcolor": "white"
          },
          "hoverlabel": {
           "align": "left"
          },
          "hovermode": "closest",
          "mapbox": {
           "style": "light"
          },
          "paper_bgcolor": "white",
          "plot_bgcolor": "#E5ECF6",
          "polar": {
           "angularaxis": {
            "gridcolor": "white",
            "linecolor": "white",
            "ticks": ""
           },
           "bgcolor": "#E5ECF6",
           "radialaxis": {
            "gridcolor": "white",
            "linecolor": "white",
            "ticks": ""
           }
          },
          "scene": {
           "xaxis": {
            "backgroundcolor": "#E5ECF6",
            "gridcolor": "white",
            "gridwidth": 2,
            "linecolor": "white",
            "showbackground": true,
            "ticks": "",
            "zerolinecolor": "white"
           },
           "yaxis": {
            "backgroundcolor": "#E5ECF6",
            "gridcolor": "white",
            "gridwidth": 2,
            "linecolor": "white",
            "showbackground": true,
            "ticks": "",
            "zerolinecolor": "white"
           },
           "zaxis": {
            "backgroundcolor": "#E5ECF6",
            "gridcolor": "white",
            "gridwidth": 2,
            "linecolor": "white",
            "showbackground": true,
            "ticks": "",
            "zerolinecolor": "white"
           }
          },
          "shapedefaults": {
           "line": {
            "color": "#2a3f5f"
           }
          },
          "ternary": {
           "aaxis": {
            "gridcolor": "white",
            "linecolor": "white",
            "ticks": ""
           },
           "baxis": {
            "gridcolor": "white",
            "linecolor": "white",
            "ticks": ""
           },
           "bgcolor": "#E5ECF6",
           "caxis": {
            "gridcolor": "white",
            "linecolor": "white",
            "ticks": ""
           }
          },
          "title": {
           "x": 0.05
          },
          "xaxis": {
           "automargin": true,
           "gridcolor": "white",
           "linecolor": "white",
           "ticks": "",
           "title": {
            "standoff": 15
           },
           "zerolinecolor": "white",
           "zerolinewidth": 2
          },
          "yaxis": {
           "automargin": true,
           "gridcolor": "white",
           "linecolor": "white",
           "ticks": "",
           "title": {
            "standoff": 15
           },
           "zerolinecolor": "white",
           "zerolinewidth": 2
          }
         }
        },
        "title": {
         "text": "Average Latent Estimate of Religiosity by U.S. State"
        },
        "width": 1000
       }
      }
     },
     "metadata": {},
     "output_type": "display_data"
    }
   ],
   "source": [
    "choropleth_vote_data(voter_data, 'lrelig')"
   ]
  },
  {
   "cell_type": "code",
   "execution_count": 70,
   "metadata": {},
   "outputs": [
    {
     "data": {
      "application/vnd.plotly.v1+json": {
       "config": {
        "plotlyServerURL": "https://plot.ly"
       },
       "data": [
        {
         "coloraxis": "coloraxis",
         "geo": "geo",
         "hovertemplate": "state_abbrev=%{location}<br>Latent Estimate of Cognitive Racism=%{z}<extra></extra>",
         "locationmode": "USA-states",
         "locations": [
          "AK",
          "AL",
          "AR",
          "AZ",
          "CA",
          "CO",
          "CT",
          "DC",
          "DE",
          "FL",
          "GA",
          "HI",
          "IA",
          "ID",
          "IL",
          "IN",
          "KS",
          "KY",
          "LA",
          "MA",
          "MD",
          "ME",
          "MI",
          "MN",
          "MO",
          "MS",
          "MT",
          "NC",
          "ND",
          "NE",
          "NH",
          "NJ",
          "NM",
          "NV",
          "NY",
          "OH",
          "OK",
          "OR",
          "PA",
          "RI",
          "SC",
          "SD",
          "TN",
          "TX",
          "UT",
          "VA",
          "VT",
          "WA",
          "WI",
          "WV",
          "WY"
         ],
         "name": "",
         "type": "choropleth",
         "z": [
          0.14202899410249578,
          0.04847802431995091,
          0.06417747502406441,
          0.06465853579678031,
          -0.11112685151797819,
          0.002518924616623615,
          -0.06462844151336684,
          -0.4331733311362531,
          -0.026016268376206915,
          0.06426431096731909,
          -0.013392251518544502,
          -0.09871387307451687,
          0.07233648979825442,
          0.22868478110138427,
          -0.11187262821176451,
          0.03526378671530103,
          0.07861256596267382,
          0.13134238210485974,
          0.07406603588352341,
          -0.11027426554273037,
          -0.19989545110158516,
          0.01405399523869311,
          -0.029943057494328483,
          -0.033736509895085025,
          0.01149000462915586,
          0.023519654309157704,
          0.2558659366087712,
          -0.027745145485348913,
          0.01213628477272516,
          0.06407154257740322,
          -0.06579585434438204,
          -0.029518736895361226,
          -0.061962807734971634,
          0.02975482188877577,
          -0.09383228665587434,
          -0.006235681160825768,
          0.0864664036016026,
          -0.13596984133249645,
          0.04326429395829268,
          -0.08753530592040991,
          0.05646656098851489,
          0.20537079878453435,
          0.13815173597936,
          0.040665215193512884,
          0.18165791795169342,
          -0.036463510822138105,
          -0.2152650163155747,
          -0.078206752615068,
          0.025954518013395846,
          0.13470115342413685,
          0.19030076796989734
         ]
        }
       ],
       "layout": {
        "annotations": [
         {
          "showarrow": false,
          "text": "Average: 0.01",
          "x": 0.5,
          "y": -0.1,
          "yshift": 10
         }
        ],
        "coloraxis": {
         "colorbar": {
          "title": {
           "text": "Latent Estimate of Cognitive Racism"
          }
         },
         "colorscale": [
          [
           0,
           "rgb(0, 155, 158)"
          ],
          [
           0.16666666666666666,
           "rgb(66, 183, 185)"
          ],
          [
           0.3333333333333333,
           "rgb(167, 211, 212)"
          ],
          [
           0.5,
           "rgb(241, 241, 241)"
          ],
          [
           0.6666666666666666,
           "rgb(228, 193, 217)"
          ],
          [
           0.8333333333333334,
           "rgb(214, 145, 193)"
          ],
          [
           1,
           "rgb(199, 93, 171)"
          ]
         ]
        },
        "dragmode": false,
        "geo": {
         "center": {},
         "domain": {
          "x": [
           0,
           1
          ],
          "y": [
           0,
           1
          ]
         },
         "scope": "usa"
        },
        "height": 600,
        "legend": {
         "tracegroupgap": 0
        },
        "template": {
         "data": {
          "bar": [
           {
            "error_x": {
             "color": "#2a3f5f"
            },
            "error_y": {
             "color": "#2a3f5f"
            },
            "marker": {
             "line": {
              "color": "#E5ECF6",
              "width": 0.5
             },
             "pattern": {
              "fillmode": "overlay",
              "size": 10,
              "solidity": 0.2
             }
            },
            "type": "bar"
           }
          ],
          "barpolar": [
           {
            "marker": {
             "line": {
              "color": "#E5ECF6",
              "width": 0.5
             },
             "pattern": {
              "fillmode": "overlay",
              "size": 10,
              "solidity": 0.2
             }
            },
            "type": "barpolar"
           }
          ],
          "carpet": [
           {
            "aaxis": {
             "endlinecolor": "#2a3f5f",
             "gridcolor": "white",
             "linecolor": "white",
             "minorgridcolor": "white",
             "startlinecolor": "#2a3f5f"
            },
            "baxis": {
             "endlinecolor": "#2a3f5f",
             "gridcolor": "white",
             "linecolor": "white",
             "minorgridcolor": "white",
             "startlinecolor": "#2a3f5f"
            },
            "type": "carpet"
           }
          ],
          "choropleth": [
           {
            "colorbar": {
             "outlinewidth": 0,
             "ticks": ""
            },
            "type": "choropleth"
           }
          ],
          "contour": [
           {
            "colorbar": {
             "outlinewidth": 0,
             "ticks": ""
            },
            "colorscale": [
             [
              0,
              "#0d0887"
             ],
             [
              0.1111111111111111,
              "#46039f"
             ],
             [
              0.2222222222222222,
              "#7201a8"
             ],
             [
              0.3333333333333333,
              "#9c179e"
             ],
             [
              0.4444444444444444,
              "#bd3786"
             ],
             [
              0.5555555555555556,
              "#d8576b"
             ],
             [
              0.6666666666666666,
              "#ed7953"
             ],
             [
              0.7777777777777778,
              "#fb9f3a"
             ],
             [
              0.8888888888888888,
              "#fdca26"
             ],
             [
              1,
              "#f0f921"
             ]
            ],
            "type": "contour"
           }
          ],
          "contourcarpet": [
           {
            "colorbar": {
             "outlinewidth": 0,
             "ticks": ""
            },
            "type": "contourcarpet"
           }
          ],
          "heatmap": [
           {
            "colorbar": {
             "outlinewidth": 0,
             "ticks": ""
            },
            "colorscale": [
             [
              0,
              "#0d0887"
             ],
             [
              0.1111111111111111,
              "#46039f"
             ],
             [
              0.2222222222222222,
              "#7201a8"
             ],
             [
              0.3333333333333333,
              "#9c179e"
             ],
             [
              0.4444444444444444,
              "#bd3786"
             ],
             [
              0.5555555555555556,
              "#d8576b"
             ],
             [
              0.6666666666666666,
              "#ed7953"
             ],
             [
              0.7777777777777778,
              "#fb9f3a"
             ],
             [
              0.8888888888888888,
              "#fdca26"
             ],
             [
              1,
              "#f0f921"
             ]
            ],
            "type": "heatmap"
           }
          ],
          "heatmapgl": [
           {
            "colorbar": {
             "outlinewidth": 0,
             "ticks": ""
            },
            "colorscale": [
             [
              0,
              "#0d0887"
             ],
             [
              0.1111111111111111,
              "#46039f"
             ],
             [
              0.2222222222222222,
              "#7201a8"
             ],
             [
              0.3333333333333333,
              "#9c179e"
             ],
             [
              0.4444444444444444,
              "#bd3786"
             ],
             [
              0.5555555555555556,
              "#d8576b"
             ],
             [
              0.6666666666666666,
              "#ed7953"
             ],
             [
              0.7777777777777778,
              "#fb9f3a"
             ],
             [
              0.8888888888888888,
              "#fdca26"
             ],
             [
              1,
              "#f0f921"
             ]
            ],
            "type": "heatmapgl"
           }
          ],
          "histogram": [
           {
            "marker": {
             "pattern": {
              "fillmode": "overlay",
              "size": 10,
              "solidity": 0.2
             }
            },
            "type": "histogram"
           }
          ],
          "histogram2d": [
           {
            "colorbar": {
             "outlinewidth": 0,
             "ticks": ""
            },
            "colorscale": [
             [
              0,
              "#0d0887"
             ],
             [
              0.1111111111111111,
              "#46039f"
             ],
             [
              0.2222222222222222,
              "#7201a8"
             ],
             [
              0.3333333333333333,
              "#9c179e"
             ],
             [
              0.4444444444444444,
              "#bd3786"
             ],
             [
              0.5555555555555556,
              "#d8576b"
             ],
             [
              0.6666666666666666,
              "#ed7953"
             ],
             [
              0.7777777777777778,
              "#fb9f3a"
             ],
             [
              0.8888888888888888,
              "#fdca26"
             ],
             [
              1,
              "#f0f921"
             ]
            ],
            "type": "histogram2d"
           }
          ],
          "histogram2dcontour": [
           {
            "colorbar": {
             "outlinewidth": 0,
             "ticks": ""
            },
            "colorscale": [
             [
              0,
              "#0d0887"
             ],
             [
              0.1111111111111111,
              "#46039f"
             ],
             [
              0.2222222222222222,
              "#7201a8"
             ],
             [
              0.3333333333333333,
              "#9c179e"
             ],
             [
              0.4444444444444444,
              "#bd3786"
             ],
             [
              0.5555555555555556,
              "#d8576b"
             ],
             [
              0.6666666666666666,
              "#ed7953"
             ],
             [
              0.7777777777777778,
              "#fb9f3a"
             ],
             [
              0.8888888888888888,
              "#fdca26"
             ],
             [
              1,
              "#f0f921"
             ]
            ],
            "type": "histogram2dcontour"
           }
          ],
          "mesh3d": [
           {
            "colorbar": {
             "outlinewidth": 0,
             "ticks": ""
            },
            "type": "mesh3d"
           }
          ],
          "parcoords": [
           {
            "line": {
             "colorbar": {
              "outlinewidth": 0,
              "ticks": ""
             }
            },
            "type": "parcoords"
           }
          ],
          "pie": [
           {
            "automargin": true,
            "type": "pie"
           }
          ],
          "scatter": [
           {
            "fillpattern": {
             "fillmode": "overlay",
             "size": 10,
             "solidity": 0.2
            },
            "type": "scatter"
           }
          ],
          "scatter3d": [
           {
            "line": {
             "colorbar": {
              "outlinewidth": 0,
              "ticks": ""
             }
            },
            "marker": {
             "colorbar": {
              "outlinewidth": 0,
              "ticks": ""
             }
            },
            "type": "scatter3d"
           }
          ],
          "scattercarpet": [
           {
            "marker": {
             "colorbar": {
              "outlinewidth": 0,
              "ticks": ""
             }
            },
            "type": "scattercarpet"
           }
          ],
          "scattergeo": [
           {
            "marker": {
             "colorbar": {
              "outlinewidth": 0,
              "ticks": ""
             }
            },
            "type": "scattergeo"
           }
          ],
          "scattergl": [
           {
            "marker": {
             "colorbar": {
              "outlinewidth": 0,
              "ticks": ""
             }
            },
            "type": "scattergl"
           }
          ],
          "scattermapbox": [
           {
            "marker": {
             "colorbar": {
              "outlinewidth": 0,
              "ticks": ""
             }
            },
            "type": "scattermapbox"
           }
          ],
          "scatterpolar": [
           {
            "marker": {
             "colorbar": {
              "outlinewidth": 0,
              "ticks": ""
             }
            },
            "type": "scatterpolar"
           }
          ],
          "scatterpolargl": [
           {
            "marker": {
             "colorbar": {
              "outlinewidth": 0,
              "ticks": ""
             }
            },
            "type": "scatterpolargl"
           }
          ],
          "scatterternary": [
           {
            "marker": {
             "colorbar": {
              "outlinewidth": 0,
              "ticks": ""
             }
            },
            "type": "scatterternary"
           }
          ],
          "surface": [
           {
            "colorbar": {
             "outlinewidth": 0,
             "ticks": ""
            },
            "colorscale": [
             [
              0,
              "#0d0887"
             ],
             [
              0.1111111111111111,
              "#46039f"
             ],
             [
              0.2222222222222222,
              "#7201a8"
             ],
             [
              0.3333333333333333,
              "#9c179e"
             ],
             [
              0.4444444444444444,
              "#bd3786"
             ],
             [
              0.5555555555555556,
              "#d8576b"
             ],
             [
              0.6666666666666666,
              "#ed7953"
             ],
             [
              0.7777777777777778,
              "#fb9f3a"
             ],
             [
              0.8888888888888888,
              "#fdca26"
             ],
             [
              1,
              "#f0f921"
             ]
            ],
            "type": "surface"
           }
          ],
          "table": [
           {
            "cells": {
             "fill": {
              "color": "#EBF0F8"
             },
             "line": {
              "color": "white"
             }
            },
            "header": {
             "fill": {
              "color": "#C8D4E3"
             },
             "line": {
              "color": "white"
             }
            },
            "type": "table"
           }
          ]
         },
         "layout": {
          "annotationdefaults": {
           "arrowcolor": "#2a3f5f",
           "arrowhead": 0,
           "arrowwidth": 1
          },
          "autotypenumbers": "strict",
          "coloraxis": {
           "colorbar": {
            "outlinewidth": 0,
            "ticks": ""
           }
          },
          "colorscale": {
           "diverging": [
            [
             0,
             "#8e0152"
            ],
            [
             0.1,
             "#c51b7d"
            ],
            [
             0.2,
             "#de77ae"
            ],
            [
             0.3,
             "#f1b6da"
            ],
            [
             0.4,
             "#fde0ef"
            ],
            [
             0.5,
             "#f7f7f7"
            ],
            [
             0.6,
             "#e6f5d0"
            ],
            [
             0.7,
             "#b8e186"
            ],
            [
             0.8,
             "#7fbc41"
            ],
            [
             0.9,
             "#4d9221"
            ],
            [
             1,
             "#276419"
            ]
           ],
           "sequential": [
            [
             0,
             "#0d0887"
            ],
            [
             0.1111111111111111,
             "#46039f"
            ],
            [
             0.2222222222222222,
             "#7201a8"
            ],
            [
             0.3333333333333333,
             "#9c179e"
            ],
            [
             0.4444444444444444,
             "#bd3786"
            ],
            [
             0.5555555555555556,
             "#d8576b"
            ],
            [
             0.6666666666666666,
             "#ed7953"
            ],
            [
             0.7777777777777778,
             "#fb9f3a"
            ],
            [
             0.8888888888888888,
             "#fdca26"
            ],
            [
             1,
             "#f0f921"
            ]
           ],
           "sequentialminus": [
            [
             0,
             "#0d0887"
            ],
            [
             0.1111111111111111,
             "#46039f"
            ],
            [
             0.2222222222222222,
             "#7201a8"
            ],
            [
             0.3333333333333333,
             "#9c179e"
            ],
            [
             0.4444444444444444,
             "#bd3786"
            ],
            [
             0.5555555555555556,
             "#d8576b"
            ],
            [
             0.6666666666666666,
             "#ed7953"
            ],
            [
             0.7777777777777778,
             "#fb9f3a"
            ],
            [
             0.8888888888888888,
             "#fdca26"
            ],
            [
             1,
             "#f0f921"
            ]
           ]
          },
          "colorway": [
           "#636efa",
           "#EF553B",
           "#00cc96",
           "#ab63fa",
           "#FFA15A",
           "#19d3f3",
           "#FF6692",
           "#B6E880",
           "#FF97FF",
           "#FECB52"
          ],
          "font": {
           "color": "#2a3f5f"
          },
          "geo": {
           "bgcolor": "white",
           "lakecolor": "white",
           "landcolor": "#E5ECF6",
           "showlakes": true,
           "showland": true,
           "subunitcolor": "white"
          },
          "hoverlabel": {
           "align": "left"
          },
          "hovermode": "closest",
          "mapbox": {
           "style": "light"
          },
          "paper_bgcolor": "white",
          "plot_bgcolor": "#E5ECF6",
          "polar": {
           "angularaxis": {
            "gridcolor": "white",
            "linecolor": "white",
            "ticks": ""
           },
           "bgcolor": "#E5ECF6",
           "radialaxis": {
            "gridcolor": "white",
            "linecolor": "white",
            "ticks": ""
           }
          },
          "scene": {
           "xaxis": {
            "backgroundcolor": "#E5ECF6",
            "gridcolor": "white",
            "gridwidth": 2,
            "linecolor": "white",
            "showbackground": true,
            "ticks": "",
            "zerolinecolor": "white"
           },
           "yaxis": {
            "backgroundcolor": "#E5ECF6",
            "gridcolor": "white",
            "gridwidth": 2,
            "linecolor": "white",
            "showbackground": true,
            "ticks": "",
            "zerolinecolor": "white"
           },
           "zaxis": {
            "backgroundcolor": "#E5ECF6",
            "gridcolor": "white",
            "gridwidth": 2,
            "linecolor": "white",
            "showbackground": true,
            "ticks": "",
            "zerolinecolor": "white"
           }
          },
          "shapedefaults": {
           "line": {
            "color": "#2a3f5f"
           }
          },
          "ternary": {
           "aaxis": {
            "gridcolor": "white",
            "linecolor": "white",
            "ticks": ""
           },
           "baxis": {
            "gridcolor": "white",
            "linecolor": "white",
            "ticks": ""
           },
           "bgcolor": "#E5ECF6",
           "caxis": {
            "gridcolor": "white",
            "linecolor": "white",
            "ticks": ""
           }
          },
          "title": {
           "x": 0.05
          },
          "xaxis": {
           "automargin": true,
           "gridcolor": "white",
           "linecolor": "white",
           "ticks": "",
           "title": {
            "standoff": 15
           },
           "zerolinecolor": "white",
           "zerolinewidth": 2
          },
          "yaxis": {
           "automargin": true,
           "gridcolor": "white",
           "linecolor": "white",
           "ticks": "",
           "title": {
            "standoff": 15
           },
           "zerolinecolor": "white",
           "zerolinewidth": 2
          }
         }
        },
        "title": {
         "text": "Average Latent Estimate of Cognitive Racism by U.S. State"
        },
        "width": 1000
       }
      }
     },
     "metadata": {},
     "output_type": "display_data"
    }
   ],
   "source": [
    "choropleth_vote_data(voter_data, 'lcograc')"
   ]
  },
  {
   "cell_type": "code",
   "execution_count": 71,
   "metadata": {},
   "outputs": [
    {
     "data": {
      "application/vnd.plotly.v1+json": {
       "config": {
        "plotlyServerURL": "https://plot.ly"
       },
       "data": [
        {
         "coloraxis": "coloraxis",
         "geo": "geo",
         "hovertemplate": "state_abbrev=%{location}<br>Partisanship (1 to 7)=%{z}<extra></extra>",
         "locationmode": "USA-states",
         "locations": [
          "AK",
          "AL",
          "AR",
          "AZ",
          "CA",
          "CO",
          "CT",
          "DC",
          "DE",
          "FL",
          "GA",
          "HI",
          "IA",
          "ID",
          "IL",
          "IN",
          "KS",
          "KY",
          "LA",
          "MA",
          "MD",
          "ME",
          "MI",
          "MN",
          "MO",
          "MS",
          "MT",
          "NC",
          "ND",
          "NE",
          "NH",
          "NJ",
          "NM",
          "NV",
          "NY",
          "OH",
          "OK",
          "OR",
          "PA",
          "RI",
          "SC",
          "SD",
          "TN",
          "TX",
          "UT",
          "VA",
          "VT",
          "WA",
          "WI",
          "WV",
          "WY"
         ],
         "name": "",
         "type": "choropleth",
         "z": [
          4.097560975609756,
          3.9672131147540983,
          3.900302114803625,
          4.031192660550459,
          3.300562484715089,
          3.7943696450428397,
          3.4116424116424118,
          2.131782945736434,
          3.21875,
          3.7869040781160255,
          3.7494199535962878,
          3.4338235294117645,
          3.6353383458646618,
          4.387755102040816,
          3.348135964912281,
          3.851129363449692,
          3.9680851063829787,
          3.91283676703645,
          4.048140043763676,
          3.225711481844946,
          3.1373493975903615,
          3.61003861003861,
          3.544600938967136,
          3.5280487804878047,
          3.7837552742616034,
          3.630252100840336,
          4.15,
          3.704953338119167,
          4,
          4.1268115942028984,
          3.6912280701754385,
          3.5097560975609756,
          3.56551724137931,
          3.406185567010309,
          3.1922372757231785,
          3.6048218029350103,
          3.9827586206896552,
          3.4772151898734176,
          3.748266013871889,
          3.566666666666667,
          4.122340425531915,
          4.285714285714286,
          4.096401028277635,
          3.8425253991291726,
          4.485013623978202,
          3.6025824964131994,
          3.3263157894736843,
          3.3654773384763743,
          3.695742471443406,
          3.847826086956522,
          4.253521126760563
         ]
        }
       ],
       "layout": {
        "annotations": [
         {
          "showarrow": false,
          "text": "Average: 3.71",
          "x": 0.5,
          "y": -0.1,
          "yshift": 10
         }
        ],
        "coloraxis": {
         "colorbar": {
          "title": {
           "text": "Partisanship (1 to 7)"
          }
         },
         "colorscale": [
          [
           0,
           "rgb(0, 155, 158)"
          ],
          [
           0.16666666666666666,
           "rgb(66, 183, 185)"
          ],
          [
           0.3333333333333333,
           "rgb(167, 211, 212)"
          ],
          [
           0.5,
           "rgb(241, 241, 241)"
          ],
          [
           0.6666666666666666,
           "rgb(228, 193, 217)"
          ],
          [
           0.8333333333333334,
           "rgb(214, 145, 193)"
          ],
          [
           1,
           "rgb(199, 93, 171)"
          ]
         ]
        },
        "dragmode": false,
        "geo": {
         "center": {},
         "domain": {
          "x": [
           0,
           1
          ],
          "y": [
           0,
           1
          ]
         },
         "scope": "usa"
        },
        "height": 600,
        "legend": {
         "tracegroupgap": 0
        },
        "template": {
         "data": {
          "bar": [
           {
            "error_x": {
             "color": "#2a3f5f"
            },
            "error_y": {
             "color": "#2a3f5f"
            },
            "marker": {
             "line": {
              "color": "#E5ECF6",
              "width": 0.5
             },
             "pattern": {
              "fillmode": "overlay",
              "size": 10,
              "solidity": 0.2
             }
            },
            "type": "bar"
           }
          ],
          "barpolar": [
           {
            "marker": {
             "line": {
              "color": "#E5ECF6",
              "width": 0.5
             },
             "pattern": {
              "fillmode": "overlay",
              "size": 10,
              "solidity": 0.2
             }
            },
            "type": "barpolar"
           }
          ],
          "carpet": [
           {
            "aaxis": {
             "endlinecolor": "#2a3f5f",
             "gridcolor": "white",
             "linecolor": "white",
             "minorgridcolor": "white",
             "startlinecolor": "#2a3f5f"
            },
            "baxis": {
             "endlinecolor": "#2a3f5f",
             "gridcolor": "white",
             "linecolor": "white",
             "minorgridcolor": "white",
             "startlinecolor": "#2a3f5f"
            },
            "type": "carpet"
           }
          ],
          "choropleth": [
           {
            "colorbar": {
             "outlinewidth": 0,
             "ticks": ""
            },
            "type": "choropleth"
           }
          ],
          "contour": [
           {
            "colorbar": {
             "outlinewidth": 0,
             "ticks": ""
            },
            "colorscale": [
             [
              0,
              "#0d0887"
             ],
             [
              0.1111111111111111,
              "#46039f"
             ],
             [
              0.2222222222222222,
              "#7201a8"
             ],
             [
              0.3333333333333333,
              "#9c179e"
             ],
             [
              0.4444444444444444,
              "#bd3786"
             ],
             [
              0.5555555555555556,
              "#d8576b"
             ],
             [
              0.6666666666666666,
              "#ed7953"
             ],
             [
              0.7777777777777778,
              "#fb9f3a"
             ],
             [
              0.8888888888888888,
              "#fdca26"
             ],
             [
              1,
              "#f0f921"
             ]
            ],
            "type": "contour"
           }
          ],
          "contourcarpet": [
           {
            "colorbar": {
             "outlinewidth": 0,
             "ticks": ""
            },
            "type": "contourcarpet"
           }
          ],
          "heatmap": [
           {
            "colorbar": {
             "outlinewidth": 0,
             "ticks": ""
            },
            "colorscale": [
             [
              0,
              "#0d0887"
             ],
             [
              0.1111111111111111,
              "#46039f"
             ],
             [
              0.2222222222222222,
              "#7201a8"
             ],
             [
              0.3333333333333333,
              "#9c179e"
             ],
             [
              0.4444444444444444,
              "#bd3786"
             ],
             [
              0.5555555555555556,
              "#d8576b"
             ],
             [
              0.6666666666666666,
              "#ed7953"
             ],
             [
              0.7777777777777778,
              "#fb9f3a"
             ],
             [
              0.8888888888888888,
              "#fdca26"
             ],
             [
              1,
              "#f0f921"
             ]
            ],
            "type": "heatmap"
           }
          ],
          "heatmapgl": [
           {
            "colorbar": {
             "outlinewidth": 0,
             "ticks": ""
            },
            "colorscale": [
             [
              0,
              "#0d0887"
             ],
             [
              0.1111111111111111,
              "#46039f"
             ],
             [
              0.2222222222222222,
              "#7201a8"
             ],
             [
              0.3333333333333333,
              "#9c179e"
             ],
             [
              0.4444444444444444,
              "#bd3786"
             ],
             [
              0.5555555555555556,
              "#d8576b"
             ],
             [
              0.6666666666666666,
              "#ed7953"
             ],
             [
              0.7777777777777778,
              "#fb9f3a"
             ],
             [
              0.8888888888888888,
              "#fdca26"
             ],
             [
              1,
              "#f0f921"
             ]
            ],
            "type": "heatmapgl"
           }
          ],
          "histogram": [
           {
            "marker": {
             "pattern": {
              "fillmode": "overlay",
              "size": 10,
              "solidity": 0.2
             }
            },
            "type": "histogram"
           }
          ],
          "histogram2d": [
           {
            "colorbar": {
             "outlinewidth": 0,
             "ticks": ""
            },
            "colorscale": [
             [
              0,
              "#0d0887"
             ],
             [
              0.1111111111111111,
              "#46039f"
             ],
             [
              0.2222222222222222,
              "#7201a8"
             ],
             [
              0.3333333333333333,
              "#9c179e"
             ],
             [
              0.4444444444444444,
              "#bd3786"
             ],
             [
              0.5555555555555556,
              "#d8576b"
             ],
             [
              0.6666666666666666,
              "#ed7953"
             ],
             [
              0.7777777777777778,
              "#fb9f3a"
             ],
             [
              0.8888888888888888,
              "#fdca26"
             ],
             [
              1,
              "#f0f921"
             ]
            ],
            "type": "histogram2d"
           }
          ],
          "histogram2dcontour": [
           {
            "colorbar": {
             "outlinewidth": 0,
             "ticks": ""
            },
            "colorscale": [
             [
              0,
              "#0d0887"
             ],
             [
              0.1111111111111111,
              "#46039f"
             ],
             [
              0.2222222222222222,
              "#7201a8"
             ],
             [
              0.3333333333333333,
              "#9c179e"
             ],
             [
              0.4444444444444444,
              "#bd3786"
             ],
             [
              0.5555555555555556,
              "#d8576b"
             ],
             [
              0.6666666666666666,
              "#ed7953"
             ],
             [
              0.7777777777777778,
              "#fb9f3a"
             ],
             [
              0.8888888888888888,
              "#fdca26"
             ],
             [
              1,
              "#f0f921"
             ]
            ],
            "type": "histogram2dcontour"
           }
          ],
          "mesh3d": [
           {
            "colorbar": {
             "outlinewidth": 0,
             "ticks": ""
            },
            "type": "mesh3d"
           }
          ],
          "parcoords": [
           {
            "line": {
             "colorbar": {
              "outlinewidth": 0,
              "ticks": ""
             }
            },
            "type": "parcoords"
           }
          ],
          "pie": [
           {
            "automargin": true,
            "type": "pie"
           }
          ],
          "scatter": [
           {
            "fillpattern": {
             "fillmode": "overlay",
             "size": 10,
             "solidity": 0.2
            },
            "type": "scatter"
           }
          ],
          "scatter3d": [
           {
            "line": {
             "colorbar": {
              "outlinewidth": 0,
              "ticks": ""
             }
            },
            "marker": {
             "colorbar": {
              "outlinewidth": 0,
              "ticks": ""
             }
            },
            "type": "scatter3d"
           }
          ],
          "scattercarpet": [
           {
            "marker": {
             "colorbar": {
              "outlinewidth": 0,
              "ticks": ""
             }
            },
            "type": "scattercarpet"
           }
          ],
          "scattergeo": [
           {
            "marker": {
             "colorbar": {
              "outlinewidth": 0,
              "ticks": ""
             }
            },
            "type": "scattergeo"
           }
          ],
          "scattergl": [
           {
            "marker": {
             "colorbar": {
              "outlinewidth": 0,
              "ticks": ""
             }
            },
            "type": "scattergl"
           }
          ],
          "scattermapbox": [
           {
            "marker": {
             "colorbar": {
              "outlinewidth": 0,
              "ticks": ""
             }
            },
            "type": "scattermapbox"
           }
          ],
          "scatterpolar": [
           {
            "marker": {
             "colorbar": {
              "outlinewidth": 0,
              "ticks": ""
             }
            },
            "type": "scatterpolar"
           }
          ],
          "scatterpolargl": [
           {
            "marker": {
             "colorbar": {
              "outlinewidth": 0,
              "ticks": ""
             }
            },
            "type": "scatterpolargl"
           }
          ],
          "scatterternary": [
           {
            "marker": {
             "colorbar": {
              "outlinewidth": 0,
              "ticks": ""
             }
            },
            "type": "scatterternary"
           }
          ],
          "surface": [
           {
            "colorbar": {
             "outlinewidth": 0,
             "ticks": ""
            },
            "colorscale": [
             [
              0,
              "#0d0887"
             ],
             [
              0.1111111111111111,
              "#46039f"
             ],
             [
              0.2222222222222222,
              "#7201a8"
             ],
             [
              0.3333333333333333,
              "#9c179e"
             ],
             [
              0.4444444444444444,
              "#bd3786"
             ],
             [
              0.5555555555555556,
              "#d8576b"
             ],
             [
              0.6666666666666666,
              "#ed7953"
             ],
             [
              0.7777777777777778,
              "#fb9f3a"
             ],
             [
              0.8888888888888888,
              "#fdca26"
             ],
             [
              1,
              "#f0f921"
             ]
            ],
            "type": "surface"
           }
          ],
          "table": [
           {
            "cells": {
             "fill": {
              "color": "#EBF0F8"
             },
             "line": {
              "color": "white"
             }
            },
            "header": {
             "fill": {
              "color": "#C8D4E3"
             },
             "line": {
              "color": "white"
             }
            },
            "type": "table"
           }
          ]
         },
         "layout": {
          "annotationdefaults": {
           "arrowcolor": "#2a3f5f",
           "arrowhead": 0,
           "arrowwidth": 1
          },
          "autotypenumbers": "strict",
          "coloraxis": {
           "colorbar": {
            "outlinewidth": 0,
            "ticks": ""
           }
          },
          "colorscale": {
           "diverging": [
            [
             0,
             "#8e0152"
            ],
            [
             0.1,
             "#c51b7d"
            ],
            [
             0.2,
             "#de77ae"
            ],
            [
             0.3,
             "#f1b6da"
            ],
            [
             0.4,
             "#fde0ef"
            ],
            [
             0.5,
             "#f7f7f7"
            ],
            [
             0.6,
             "#e6f5d0"
            ],
            [
             0.7,
             "#b8e186"
            ],
            [
             0.8,
             "#7fbc41"
            ],
            [
             0.9,
             "#4d9221"
            ],
            [
             1,
             "#276419"
            ]
           ],
           "sequential": [
            [
             0,
             "#0d0887"
            ],
            [
             0.1111111111111111,
             "#46039f"
            ],
            [
             0.2222222222222222,
             "#7201a8"
            ],
            [
             0.3333333333333333,
             "#9c179e"
            ],
            [
             0.4444444444444444,
             "#bd3786"
            ],
            [
             0.5555555555555556,
             "#d8576b"
            ],
            [
             0.6666666666666666,
             "#ed7953"
            ],
            [
             0.7777777777777778,
             "#fb9f3a"
            ],
            [
             0.8888888888888888,
             "#fdca26"
            ],
            [
             1,
             "#f0f921"
            ]
           ],
           "sequentialminus": [
            [
             0,
             "#0d0887"
            ],
            [
             0.1111111111111111,
             "#46039f"
            ],
            [
             0.2222222222222222,
             "#7201a8"
            ],
            [
             0.3333333333333333,
             "#9c179e"
            ],
            [
             0.4444444444444444,
             "#bd3786"
            ],
            [
             0.5555555555555556,
             "#d8576b"
            ],
            [
             0.6666666666666666,
             "#ed7953"
            ],
            [
             0.7777777777777778,
             "#fb9f3a"
            ],
            [
             0.8888888888888888,
             "#fdca26"
            ],
            [
             1,
             "#f0f921"
            ]
           ]
          },
          "colorway": [
           "#636efa",
           "#EF553B",
           "#00cc96",
           "#ab63fa",
           "#FFA15A",
           "#19d3f3",
           "#FF6692",
           "#B6E880",
           "#FF97FF",
           "#FECB52"
          ],
          "font": {
           "color": "#2a3f5f"
          },
          "geo": {
           "bgcolor": "white",
           "lakecolor": "white",
           "landcolor": "#E5ECF6",
           "showlakes": true,
           "showland": true,
           "subunitcolor": "white"
          },
          "hoverlabel": {
           "align": "left"
          },
          "hovermode": "closest",
          "mapbox": {
           "style": "light"
          },
          "paper_bgcolor": "white",
          "plot_bgcolor": "#E5ECF6",
          "polar": {
           "angularaxis": {
            "gridcolor": "white",
            "linecolor": "white",
            "ticks": ""
           },
           "bgcolor": "#E5ECF6",
           "radialaxis": {
            "gridcolor": "white",
            "linecolor": "white",
            "ticks": ""
           }
          },
          "scene": {
           "xaxis": {
            "backgroundcolor": "#E5ECF6",
            "gridcolor": "white",
            "gridwidth": 2,
            "linecolor": "white",
            "showbackground": true,
            "ticks": "",
            "zerolinecolor": "white"
           },
           "yaxis": {
            "backgroundcolor": "#E5ECF6",
            "gridcolor": "white",
            "gridwidth": 2,
            "linecolor": "white",
            "showbackground": true,
            "ticks": "",
            "zerolinecolor": "white"
           },
           "zaxis": {
            "backgroundcolor": "#E5ECF6",
            "gridcolor": "white",
            "gridwidth": 2,
            "linecolor": "white",
            "showbackground": true,
            "ticks": "",
            "zerolinecolor": "white"
           }
          },
          "shapedefaults": {
           "line": {
            "color": "#2a3f5f"
           }
          },
          "ternary": {
           "aaxis": {
            "gridcolor": "white",
            "linecolor": "white",
            "ticks": ""
           },
           "baxis": {
            "gridcolor": "white",
            "linecolor": "white",
            "ticks": ""
           },
           "bgcolor": "#E5ECF6",
           "caxis": {
            "gridcolor": "white",
            "linecolor": "white",
            "ticks": ""
           }
          },
          "title": {
           "x": 0.05
          },
          "xaxis": {
           "automargin": true,
           "gridcolor": "white",
           "linecolor": "white",
           "ticks": "",
           "title": {
            "standoff": 15
           },
           "zerolinecolor": "white",
           "zerolinewidth": 2
          },
          "yaxis": {
           "automargin": true,
           "gridcolor": "white",
           "linecolor": "white",
           "ticks": "",
           "title": {
            "standoff": 15
           },
           "zerolinecolor": "white",
           "zerolinewidth": 2
          }
         }
        },
        "title": {
         "text": "Average Partisanship (1 to 7) by U.S. State"
        },
        "width": 1000
       }
      }
     },
     "metadata": {},
     "output_type": "display_data"
    }
   ],
   "source": [
    "choropleth_vote_data(voter_data, 'pid7na')"
   ]
  }
 ],
 "metadata": {
  "kernelspec": {
   "display_name": "sportsenv",
   "language": "python",
   "name": "python3"
  },
  "language_info": {
   "codemirror_mode": {
    "name": "ipython",
    "version": 3
   },
   "file_extension": ".py",
   "mimetype": "text/x-python",
   "name": "python",
   "nbconvert_exporter": "python",
   "pygments_lexer": "ipython3",
   "version": "3.10.6"
  },
  "orig_nbformat": 4
 },
 "nbformat": 4,
 "nbformat_minor": 2
}
